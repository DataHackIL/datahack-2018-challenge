{
 "cells": [
  {
   "cell_type": "markdown",
   "metadata": {},
   "source": [
    "# Lightricks Challenge - DataHack 2018"
   ]
  },
  {
   "cell_type": "code",
   "execution_count": 1,
   "metadata": {
    "collapsed": false
   },
   "outputs": [],
   "source": [
    "import os\n",
    "import sys\n",
    "import operator\n",
    "import numpy as np\n",
    "import pandas as pd\n",
    "import scipy\n",
    "import dateutil\n",
    "from sklearn.model_selection import train_test_split,KFold,cross_val_score\n",
    "# from sklearn.cross_validation import train_test_split, KFold\n",
    "from sklearn import metrics\n",
    "from sklearn.metrics import confusion_matrix, classification_report, f1_score\n",
    "from sklearn import tree\n",
    "import seaborn as sns\n",
    "import matplotlib.pyplot as plt\n",
    "import csv\n",
    "from sklearn import svm\n",
    "from sklearn import preprocessing\n",
    "from sklearn.model_selection import cross_val_score\n",
    "from sklearn.pipeline import make_pipeline"
   ]
  },
  {
   "cell_type": "code",
   "execution_count": 2,
   "metadata": {
    "collapsed": true
   },
   "outputs": [],
   "source": [
    "%matplotlib inline\n",
    "import seaborn as sns\n",
    "sns.set()"
   ]
  },
  {
   "cell_type": "code",
   "execution_count": 3,
   "metadata": {
    "collapsed": true
   },
   "outputs": [],
   "source": [
    "path = './'\n",
    "teamname = 'MadeInJerusalem'\n",
    "out_name = path + teamname + '_submission.csv'"
   ]
  },
  {
   "cell_type": "code",
   "execution_count": 4,
   "metadata": {
    "collapsed": true
   },
   "outputs": [],
   "source": [
    "df_usage = pd.read_csv(path + \"train_usage_data.csv\")"
   ]
  },
  {
   "cell_type": "code",
   "execution_count": 5,
   "metadata": {
    "collapsed": false
   },
   "outputs": [
    {
     "name": "stdout",
     "output_type": "stream",
     "text": [
      "<class 'pandas.core.frame.DataFrame'>\n",
      "RangeIndex: 393138 entries, 0 to 393137\n",
      "Data columns (total 5 columns):\n",
      "id                393138 non-null int64\n",
      "feature_name      393138 non-null object\n",
      "usage_duration    393138 non-null float64\n",
      "use_date          393138 non-null object\n",
      "accepted          393138 non-null bool\n",
      "dtypes: bool(1), float64(1), int64(1), object(2)\n",
      "memory usage: 12.4+ MB\n"
     ]
    }
   ],
   "source": [
    "#Looking data format and types\n",
    "df_usage.info()"
   ]
  },
  {
   "cell_type": "markdown",
   "metadata": {},
   "source": [
    "The variables in dataframe \"df_usage\" are:\n",
    "\n",
    "| Field name   | Description | \n",
    "|----------|-------------|\n",
    "| id | User ID |\n",
    "| feature_name | Name of feature used |\n",
    "| usage_duration | Duration in seconds between feature was entered and accepted or canceled |\n",
    "| use_date | Date and time when the feature was entered |\n",
    "| accepted | True if the user accepted the changes by the feature and False if he did not accepted the changes |"
   ]
  },
  {
   "cell_type": "code",
   "execution_count": 6,
   "metadata": {
    "collapsed": false
   },
   "outputs": [
    {
     "data": {
      "text/html": [
       "<div>\n",
       "<style scoped>\n",
       "    .dataframe tbody tr th:only-of-type {\n",
       "        vertical-align: middle;\n",
       "    }\n",
       "\n",
       "    .dataframe tbody tr th {\n",
       "        vertical-align: top;\n",
       "    }\n",
       "\n",
       "    .dataframe thead th {\n",
       "        text-align: right;\n",
       "    }\n",
       "</style>\n",
       "<table border=\"1\" class=\"dataframe\">\n",
       "  <thead>\n",
       "    <tr style=\"text-align: right;\">\n",
       "      <th></th>\n",
       "      <th>id</th>\n",
       "      <th>feature_name</th>\n",
       "      <th>usage_duration</th>\n",
       "      <th>use_date</th>\n",
       "      <th>accepted</th>\n",
       "    </tr>\n",
       "  </thead>\n",
       "  <tbody>\n",
       "    <tr>\n",
       "      <th>0</th>\n",
       "      <td>420000380263334</td>\n",
       "      <td>Prism</td>\n",
       "      <td>4.233</td>\n",
       "      <td>2018-04-27 16:19:50</td>\n",
       "      <td>False</td>\n",
       "    </tr>\n",
       "    <tr>\n",
       "      <th>1</th>\n",
       "      <td>370000259367972</td>\n",
       "      <td>Darkroom</td>\n",
       "      <td>7.071</td>\n",
       "      <td>2018-04-22 10:11:05</td>\n",
       "      <td>False</td>\n",
       "    </tr>\n",
       "    <tr>\n",
       "      <th>2</th>\n",
       "      <td>550000326477715</td>\n",
       "      <td>Darkroom</td>\n",
       "      <td>37.881</td>\n",
       "      <td>2018-04-30 09:50:29</td>\n",
       "      <td>False</td>\n",
       "    </tr>\n",
       "    <tr>\n",
       "      <th>3</th>\n",
       "      <td>440000406578453</td>\n",
       "      <td>Prism</td>\n",
       "      <td>17.580</td>\n",
       "      <td>2018-04-02 00:25:46</td>\n",
       "      <td>False</td>\n",
       "    </tr>\n",
       "    <tr>\n",
       "      <th>4</th>\n",
       "      <td>150000389301639</td>\n",
       "      <td>Eyes</td>\n",
       "      <td>1.620</td>\n",
       "      <td>2018-04-20 16:39:48</td>\n",
       "      <td>False</td>\n",
       "    </tr>\n",
       "  </tbody>\n",
       "</table>\n",
       "</div>"
      ],
      "text/plain": [
       "                id feature_name  usage_duration             use_date  accepted\n",
       "0  420000380263334        Prism           4.233  2018-04-27 16:19:50     False\n",
       "1  370000259367972     Darkroom           7.071  2018-04-22 10:11:05     False\n",
       "2  550000326477715     Darkroom          37.881  2018-04-30 09:50:29     False\n",
       "3  440000406578453        Prism          17.580  2018-04-02 00:25:46     False\n",
       "4  150000389301639         Eyes           1.620  2018-04-20 16:39:48     False"
      ]
     },
     "execution_count": 6,
     "metadata": {},
     "output_type": "execute_result"
    }
   ],
   "source": [
    "df_usage.head()"
   ]
  },
  {
   "cell_type": "code",
   "execution_count": 7,
   "metadata": {
    "collapsed": true
   },
   "outputs": [],
   "source": [
    "df_users = pd.read_csv(path + \"train_users_data.csv\",parse_dates = [ 'installation_date','subscripiton_date'])"
   ]
  },
  {
   "cell_type": "code",
   "execution_count": 8,
   "metadata": {
    "collapsed": false
   },
   "outputs": [
    {
     "name": "stdout",
     "output_type": "stream",
     "text": [
      "<class 'pandas.core.frame.DataFrame'>\n",
      "RangeIndex: 8311 entries, 0 to 8310\n",
      "Data columns (total 7 columns):\n",
      "Unnamed: 0           8311 non-null int64\n",
      "id                   8311 non-null int64\n",
      "installation_date    8311 non-null datetime64[ns]\n",
      "subscripiton_date    8311 non-null datetime64[ns]\n",
      "country              8309 non-null object\n",
      "days_until_churn     1970 non-null float64\n",
      "churned              8311 non-null int64\n",
      "dtypes: datetime64[ns](2), float64(1), int64(3), object(1)\n",
      "memory usage: 454.6+ KB\n"
     ]
    }
   ],
   "source": [
    "df_users.info()"
   ]
  },
  {
   "cell_type": "code",
   "execution_count": 9,
   "metadata": {
    "collapsed": false
   },
   "outputs": [
    {
     "data": {
      "text/html": [
       "<div>\n",
       "<style scoped>\n",
       "    .dataframe tbody tr th:only-of-type {\n",
       "        vertical-align: middle;\n",
       "    }\n",
       "\n",
       "    .dataframe tbody tr th {\n",
       "        vertical-align: top;\n",
       "    }\n",
       "\n",
       "    .dataframe thead th {\n",
       "        text-align: right;\n",
       "    }\n",
       "</style>\n",
       "<table border=\"1\" class=\"dataframe\">\n",
       "  <thead>\n",
       "    <tr style=\"text-align: right;\">\n",
       "      <th></th>\n",
       "      <th>Unnamed: 0</th>\n",
       "      <th>id</th>\n",
       "      <th>installation_date</th>\n",
       "      <th>subscripiton_date</th>\n",
       "      <th>country</th>\n",
       "      <th>days_until_churn</th>\n",
       "      <th>churned</th>\n",
       "    </tr>\n",
       "  </thead>\n",
       "  <tbody>\n",
       "    <tr>\n",
       "      <th>0</th>\n",
       "      <td>1</td>\n",
       "      <td>100000415577994</td>\n",
       "      <td>2017-07-16 22:29:31</td>\n",
       "      <td>2018-04-01 01:35:58</td>\n",
       "      <td>Canada</td>\n",
       "      <td>NaN</td>\n",
       "      <td>0</td>\n",
       "    </tr>\n",
       "    <tr>\n",
       "      <th>1</th>\n",
       "      <td>2</td>\n",
       "      <td>100000415580508</td>\n",
       "      <td>2016-12-19 14:28:03</td>\n",
       "      <td>2018-04-01 01:45:40</td>\n",
       "      <td>New Zealand</td>\n",
       "      <td>NaN</td>\n",
       "      <td>0</td>\n",
       "    </tr>\n",
       "    <tr>\n",
       "      <th>2</th>\n",
       "      <td>3</td>\n",
       "      <td>100000415636784</td>\n",
       "      <td>2017-02-09 00:48:33</td>\n",
       "      <td>2018-04-01 05:15:46</td>\n",
       "      <td>United States</td>\n",
       "      <td>NaN</td>\n",
       "      <td>0</td>\n",
       "    </tr>\n",
       "    <tr>\n",
       "      <th>3</th>\n",
       "      <td>4</td>\n",
       "      <td>100000415750897</td>\n",
       "      <td>2017-12-07 16:03:47</td>\n",
       "      <td>2018-04-01 13:27:22</td>\n",
       "      <td>Turkey</td>\n",
       "      <td>NaN</td>\n",
       "      <td>0</td>\n",
       "    </tr>\n",
       "    <tr>\n",
       "      <th>4</th>\n",
       "      <td>5</td>\n",
       "      <td>100000415825030</td>\n",
       "      <td>2017-12-01 14:59:29</td>\n",
       "      <td>2018-04-01 17:23:33</td>\n",
       "      <td>United States</td>\n",
       "      <td>9.0</td>\n",
       "      <td>1</td>\n",
       "    </tr>\n",
       "  </tbody>\n",
       "</table>\n",
       "</div>"
      ],
      "text/plain": [
       "   Unnamed: 0               id   installation_date   subscripiton_date  \\\n",
       "0           1  100000415577994 2017-07-16 22:29:31 2018-04-01 01:35:58   \n",
       "1           2  100000415580508 2016-12-19 14:28:03 2018-04-01 01:45:40   \n",
       "2           3  100000415636784 2017-02-09 00:48:33 2018-04-01 05:15:46   \n",
       "3           4  100000415750897 2017-12-07 16:03:47 2018-04-01 13:27:22   \n",
       "4           5  100000415825030 2017-12-01 14:59:29 2018-04-01 17:23:33   \n",
       "\n",
       "         country  days_until_churn  churned  \n",
       "0         Canada               NaN        0  \n",
       "1    New Zealand               NaN        0  \n",
       "2  United States               NaN        0  \n",
       "3         Turkey               NaN        0  \n",
       "4  United States               9.0        1  "
      ]
     },
     "execution_count": 9,
     "metadata": {},
     "output_type": "execute_result"
    }
   ],
   "source": [
    "df_users.head()"
   ]
  },
  {
   "cell_type": "markdown",
   "metadata": {},
   "source": [
    "The variables in dataframe \"df_users\" are:\n",
    "\n",
    "| Field name   | Description | \n",
    "|----------|-------------|\n",
    "| id | User ID |\n",
    "| installation_date | Date and time when the application was first installed |\n",
    "| subscription_date | Date and time when the user joined as a subscriber |\n",
    "| country | Country where the user is based |\n",
    "| days_until_churned | Days before the user decided to leave the subscription (churn). NaN if the user has not churned |\n",
    "| churned | False if the user is still a subscriber and True if the user stopped his subscription. |"
   ]
  },
  {
   "cell_type": "code",
   "execution_count": 10,
   "metadata": {
    "collapsed": false,
    "scrolled": true
   },
   "outputs": [
    {
     "data": {
      "text/html": [
       "<div>\n",
       "<style scoped>\n",
       "    .dataframe tbody tr th:only-of-type {\n",
       "        vertical-align: middle;\n",
       "    }\n",
       "\n",
       "    .dataframe tbody tr th {\n",
       "        vertical-align: top;\n",
       "    }\n",
       "\n",
       "    .dataframe thead th {\n",
       "        text-align: right;\n",
       "    }\n",
       "</style>\n",
       "<table border=\"1\" class=\"dataframe\">\n",
       "  <thead>\n",
       "    <tr style=\"text-align: right;\">\n",
       "      <th></th>\n",
       "      <th>id</th>\n",
       "      <th>installation_date</th>\n",
       "      <th>subscripiton_date</th>\n",
       "      <th>country</th>\n",
       "      <th>days_until_churn</th>\n",
       "      <th>churned</th>\n",
       "    </tr>\n",
       "  </thead>\n",
       "  <tbody>\n",
       "    <tr>\n",
       "      <th>0</th>\n",
       "      <td>100000415577994</td>\n",
       "      <td>2017-07-16 22:29:31</td>\n",
       "      <td>2018-04-01 01:35:58</td>\n",
       "      <td>Canada</td>\n",
       "      <td>NaN</td>\n",
       "      <td>0</td>\n",
       "    </tr>\n",
       "    <tr>\n",
       "      <th>1</th>\n",
       "      <td>100000415580508</td>\n",
       "      <td>2016-12-19 14:28:03</td>\n",
       "      <td>2018-04-01 01:45:40</td>\n",
       "      <td>New Zealand</td>\n",
       "      <td>NaN</td>\n",
       "      <td>0</td>\n",
       "    </tr>\n",
       "    <tr>\n",
       "      <th>2</th>\n",
       "      <td>100000415636784</td>\n",
       "      <td>2017-02-09 00:48:33</td>\n",
       "      <td>2018-04-01 05:15:46</td>\n",
       "      <td>United States</td>\n",
       "      <td>NaN</td>\n",
       "      <td>0</td>\n",
       "    </tr>\n",
       "    <tr>\n",
       "      <th>3</th>\n",
       "      <td>100000415750897</td>\n",
       "      <td>2017-12-07 16:03:47</td>\n",
       "      <td>2018-04-01 13:27:22</td>\n",
       "      <td>Turkey</td>\n",
       "      <td>NaN</td>\n",
       "      <td>0</td>\n",
       "    </tr>\n",
       "    <tr>\n",
       "      <th>4</th>\n",
       "      <td>100000415825030</td>\n",
       "      <td>2017-12-01 14:59:29</td>\n",
       "      <td>2018-04-01 17:23:33</td>\n",
       "      <td>United States</td>\n",
       "      <td>9.0</td>\n",
       "      <td>1</td>\n",
       "    </tr>\n",
       "  </tbody>\n",
       "</table>\n",
       "</div>"
      ],
      "text/plain": [
       "                id   installation_date   subscripiton_date        country  \\\n",
       "0  100000415577994 2017-07-16 22:29:31 2018-04-01 01:35:58         Canada   \n",
       "1  100000415580508 2016-12-19 14:28:03 2018-04-01 01:45:40    New Zealand   \n",
       "2  100000415636784 2017-02-09 00:48:33 2018-04-01 05:15:46  United States   \n",
       "3  100000415750897 2017-12-07 16:03:47 2018-04-01 13:27:22         Turkey   \n",
       "4  100000415825030 2017-12-01 14:59:29 2018-04-01 17:23:33  United States   \n",
       "\n",
       "   days_until_churn  churned  \n",
       "0               NaN        0  \n",
       "1               NaN        0  \n",
       "2               NaN        0  \n",
       "3               NaN        0  \n",
       "4               9.0        1  "
      ]
     },
     "execution_count": 10,
     "metadata": {},
     "output_type": "execute_result"
    }
   ],
   "source": [
    "df_users = df_users.drop(columns='Unnamed: 0')\n",
    "df_users.head()"
   ]
  },
  {
   "cell_type": "markdown",
   "metadata": {},
   "source": [
    "# Data exploration:"
   ]
  },
  {
   "cell_type": "code",
   "execution_count": 11,
   "metadata": {
    "collapsed": false
   },
   "outputs": [
    {
     "data": {
      "text/plain": [
       "<matplotlib.axes._subplots.AxesSubplot at 0x1911e550>"
      ]
     },
     "execution_count": 11,
     "metadata": {},
     "output_type": "execute_result"
    },
    {
     "data": {
      "image/png": "[encoded data removed]",
      "text/plain": [
       "<Figure size 800x550 with 1 Axes>"
      ]
     },
     "metadata": {},
     "output_type": "display_data"
    }
   ],
   "source": [
    "df_users['churned'].value_counts().plot('bar')"
   ]
  },
  {
   "cell_type": "code",
   "execution_count": 12,
   "metadata": {
    "collapsed": true
   },
   "outputs": [],
   "source": [
    "joined_df = df_usage.join(df_users.set_index('id'),on='id')"
   ]
  },
  {
   "cell_type": "code",
   "execution_count": 13,
   "metadata": {
    "collapsed": false
   },
   "outputs": [
    {
     "data": {
      "text/html": [
       "<div>\n",
       "<style scoped>\n",
       "    .dataframe tbody tr th:only-of-type {\n",
       "        vertical-align: middle;\n",
       "    }\n",
       "\n",
       "    .dataframe tbody tr th {\n",
       "        vertical-align: top;\n",
       "    }\n",
       "\n",
       "    .dataframe thead th {\n",
       "        text-align: right;\n",
       "    }\n",
       "</style>\n",
       "<table border=\"1\" class=\"dataframe\">\n",
       "  <thead>\n",
       "    <tr style=\"text-align: right;\">\n",
       "      <th></th>\n",
       "      <th>id</th>\n",
       "      <th>feature_name</th>\n",
       "      <th>usage_duration</th>\n",
       "      <th>use_date</th>\n",
       "      <th>accepted</th>\n",
       "      <th>installation_date</th>\n",
       "      <th>subscripiton_date</th>\n",
       "      <th>country</th>\n",
       "      <th>days_until_churn</th>\n",
       "      <th>churned</th>\n",
       "    </tr>\n",
       "  </thead>\n",
       "  <tbody>\n",
       "    <tr>\n",
       "      <th>0</th>\n",
       "      <td>420000380263334</td>\n",
       "      <td>Prism</td>\n",
       "      <td>4.233</td>\n",
       "      <td>2018-04-27 16:19:50</td>\n",
       "      <td>False</td>\n",
       "      <td>2018-04-27 16:07:01</td>\n",
       "      <td>2018-04-27 16:14:42</td>\n",
       "      <td>United States</td>\n",
       "      <td>NaN</td>\n",
       "      <td>0</td>\n",
       "    </tr>\n",
       "    <tr>\n",
       "      <th>1</th>\n",
       "      <td>370000259367972</td>\n",
       "      <td>Darkroom</td>\n",
       "      <td>7.071</td>\n",
       "      <td>2018-04-22 10:11:05</td>\n",
       "      <td>False</td>\n",
       "      <td>2018-04-04 20:08:02</td>\n",
       "      <td>2018-04-05 07:13:01</td>\n",
       "      <td>United Kingdom</td>\n",
       "      <td>NaN</td>\n",
       "      <td>0</td>\n",
       "    </tr>\n",
       "    <tr>\n",
       "      <th>2</th>\n",
       "      <td>550000326477715</td>\n",
       "      <td>Darkroom</td>\n",
       "      <td>37.881</td>\n",
       "      <td>2018-04-30 09:50:29</td>\n",
       "      <td>False</td>\n",
       "      <td>2018-04-27 08:11:24</td>\n",
       "      <td>2018-04-30 09:47:27</td>\n",
       "      <td>Greece</td>\n",
       "      <td>NaN</td>\n",
       "      <td>0</td>\n",
       "    </tr>\n",
       "    <tr>\n",
       "      <th>3</th>\n",
       "      <td>440000406578453</td>\n",
       "      <td>Prism</td>\n",
       "      <td>17.580</td>\n",
       "      <td>2018-04-02 00:25:46</td>\n",
       "      <td>False</td>\n",
       "      <td>2018-04-01 23:08:44</td>\n",
       "      <td>2018-04-01 23:34:53</td>\n",
       "      <td>United States</td>\n",
       "      <td>NaN</td>\n",
       "      <td>0</td>\n",
       "    </tr>\n",
       "    <tr>\n",
       "      <th>4</th>\n",
       "      <td>150000389301639</td>\n",
       "      <td>Eyes</td>\n",
       "      <td>1.620</td>\n",
       "      <td>2018-04-20 16:39:48</td>\n",
       "      <td>False</td>\n",
       "      <td>2017-03-14 03:52:36</td>\n",
       "      <td>2018-04-19 16:06:58</td>\n",
       "      <td>United States</td>\n",
       "      <td>NaN</td>\n",
       "      <td>0</td>\n",
       "    </tr>\n",
       "  </tbody>\n",
       "</table>\n",
       "</div>"
      ],
      "text/plain": [
       "                id feature_name  usage_duration             use_date  \\\n",
       "0  420000380263334        Prism           4.233  2018-04-27 16:19:50   \n",
       "1  370000259367972     Darkroom           7.071  2018-04-22 10:11:05   \n",
       "2  550000326477715     Darkroom          37.881  2018-04-30 09:50:29   \n",
       "3  440000406578453        Prism          17.580  2018-04-02 00:25:46   \n",
       "4  150000389301639         Eyes           1.620  2018-04-20 16:39:48   \n",
       "\n",
       "   accepted   installation_date   subscripiton_date         country  \\\n",
       "0     False 2018-04-27 16:07:01 2018-04-27 16:14:42   United States   \n",
       "1     False 2018-04-04 20:08:02 2018-04-05 07:13:01  United Kingdom   \n",
       "2     False 2018-04-27 08:11:24 2018-04-30 09:47:27          Greece   \n",
       "3     False 2018-04-01 23:08:44 2018-04-01 23:34:53   United States   \n",
       "4     False 2017-03-14 03:52:36 2018-04-19 16:06:58   United States   \n",
       "\n",
       "   days_until_churn  churned  \n",
       "0               NaN        0  \n",
       "1               NaN        0  \n",
       "2               NaN        0  \n",
       "3               NaN        0  \n",
       "4               NaN        0  "
      ]
     },
     "execution_count": 13,
     "metadata": {},
     "output_type": "execute_result"
    }
   ],
   "source": [
    "joined_df.head()"
   ]
  },
  {
   "cell_type": "code",
   "execution_count": 14,
   "metadata": {
    "collapsed": false
   },
   "outputs": [
    {
     "data": {
      "text/html": [
       "<div>\n",
       "<style scoped>\n",
       "    .dataframe tbody tr th:only-of-type {\n",
       "        vertical-align: middle;\n",
       "    }\n",
       "\n",
       "    .dataframe tbody tr th {\n",
       "        vertical-align: top;\n",
       "    }\n",
       "\n",
       "    .dataframe thead th {\n",
       "        text-align: right;\n",
       "    }\n",
       "</style>\n",
       "<table border=\"1\" class=\"dataframe\">\n",
       "  <thead>\n",
       "    <tr style=\"text-align: right;\">\n",
       "      <th></th>\n",
       "      <th>usage_duration</th>\n",
       "    </tr>\n",
       "  </thead>\n",
       "  <tbody>\n",
       "    <tr>\n",
       "      <th>0</th>\n",
       "      <td>4.233</td>\n",
       "    </tr>\n",
       "    <tr>\n",
       "      <th>1</th>\n",
       "      <td>7.071</td>\n",
       "    </tr>\n",
       "    <tr>\n",
       "      <th>2</th>\n",
       "      <td>37.881</td>\n",
       "    </tr>\n",
       "    <tr>\n",
       "      <th>3</th>\n",
       "      <td>17.580</td>\n",
       "    </tr>\n",
       "    <tr>\n",
       "      <th>4</th>\n",
       "      <td>1.620</td>\n",
       "    </tr>\n",
       "  </tbody>\n",
       "</table>\n",
       "</div>"
      ],
      "text/plain": [
       "   usage_duration\n",
       "0           4.233\n",
       "1           7.071\n",
       "2          37.881\n",
       "3          17.580\n",
       "4           1.620"
      ]
     },
     "execution_count": 14,
     "metadata": {},
     "output_type": "execute_result"
    }
   ],
   "source": [
    "joined_df.usage_duration.to_frame().head()"
   ]
  },
  {
   "cell_type": "code",
   "execution_count": 15,
   "metadata": {
    "collapsed": false
   },
   "outputs": [
    {
     "data": {
      "text/plain": [
       "(17,)"
      ]
     },
     "execution_count": 15,
     "metadata": {},
     "output_type": "execute_result"
    }
   ],
   "source": [
    "total_number_of_usage_per_feature = df_usage['feature_name'].value_counts()\n",
    "total_number_of_usage_per_feature.shape"
   ]
  },
  {
   "cell_type": "code",
   "execution_count": 16,
   "metadata": {
    "collapsed": true
   },
   "outputs": [],
   "source": [
    "k = 10\n",
    "top_k_features_churned = joined_df[joined_df['churned']==True]['feature_name'].value_counts().index[:k]\n",
    "top_k_features_not_churned = joined_df[joined_df['churned']==False]['feature_name'].value_counts().index[:k]"
   ]
  },
  {
   "cell_type": "code",
   "execution_count": 17,
   "metadata": {
    "collapsed": false
   },
   "outputs": [
    {
     "data": {
      "text/plain": [
       "Index(['Filters', 'Darkroom', 'Prism', 'Reshape', 'Face', 'Defocus',\n",
       "       'Backdrop', 'Paint', 'Relight', 'Eyes'],\n",
       "      dtype='object')"
      ]
     },
     "execution_count": 17,
     "metadata": {},
     "output_type": "execute_result"
    }
   ],
   "source": [
    "top_k_features_not_churned"
   ]
  },
  {
   "cell_type": "code",
   "execution_count": 18,
   "metadata": {
    "collapsed": false
   },
   "outputs": [
    {
     "data": {
      "text/html": [
       "<div>\n",
       "<style scoped>\n",
       "    .dataframe tbody tr th:only-of-type {\n",
       "        vertical-align: middle;\n",
       "    }\n",
       "\n",
       "    .dataframe tbody tr th {\n",
       "        vertical-align: top;\n",
       "    }\n",
       "\n",
       "    .dataframe thead th {\n",
       "        text-align: right;\n",
       "    }\n",
       "</style>\n",
       "<table border=\"1\" class=\"dataframe\">\n",
       "  <thead>\n",
       "    <tr style=\"text-align: right;\">\n",
       "      <th></th>\n",
       "      <th>id</th>\n",
       "      <th>feature_name</th>\n",
       "      <th>usage_duration</th>\n",
       "      <th>use_date</th>\n",
       "      <th>accepted</th>\n",
       "      <th>installation_date</th>\n",
       "      <th>subscripiton_date</th>\n",
       "      <th>country</th>\n",
       "      <th>days_until_churn</th>\n",
       "      <th>churned</th>\n",
       "    </tr>\n",
       "  </thead>\n",
       "  <tbody>\n",
       "    <tr>\n",
       "      <th>15198</th>\n",
       "      <td>110000398440704</td>\n",
       "      <td>Filters</td>\n",
       "      <td>48.944</td>\n",
       "      <td>2018-04-06 01:55:22</td>\n",
       "      <td>True</td>\n",
       "      <td>2018-03-12 20:44:17</td>\n",
       "      <td>2018-04-06 00:12:10</td>\n",
       "      <td>United States</td>\n",
       "      <td>7.0</td>\n",
       "      <td>1</td>\n",
       "    </tr>\n",
       "    <tr>\n",
       "      <th>15205</th>\n",
       "      <td>600000284617989</td>\n",
       "      <td>Eyes</td>\n",
       "      <td>2.276</td>\n",
       "      <td>2018-04-18 05:42:03</td>\n",
       "      <td>True</td>\n",
       "      <td>2018-04-17 20:49:17</td>\n",
       "      <td>2018-04-18 00:56:09</td>\n",
       "      <td>United States</td>\n",
       "      <td>21.0</td>\n",
       "      <td>1</td>\n",
       "    </tr>\n",
       "    <tr>\n",
       "      <th>15211</th>\n",
       "      <td>170000449701758</td>\n",
       "      <td>Darkroom</td>\n",
       "      <td>46.341</td>\n",
       "      <td>2018-04-24 16:34:30</td>\n",
       "      <td>True</td>\n",
       "      <td>2018-04-24 13:55:08</td>\n",
       "      <td>2018-04-24 16:32:25</td>\n",
       "      <td>United Kingdom</td>\n",
       "      <td>1.0</td>\n",
       "      <td>1</td>\n",
       "    </tr>\n",
       "    <tr>\n",
       "      <th>15215</th>\n",
       "      <td>380000303632483</td>\n",
       "      <td>Paint</td>\n",
       "      <td>1.259</td>\n",
       "      <td>2018-04-27 20:49:15</td>\n",
       "      <td>True</td>\n",
       "      <td>2018-04-27 20:36:36</td>\n",
       "      <td>2018-04-27 20:42:59</td>\n",
       "      <td>United States</td>\n",
       "      <td>1.0</td>\n",
       "      <td>1</td>\n",
       "    </tr>\n",
       "    <tr>\n",
       "      <th>15236</th>\n",
       "      <td>450000381370671</td>\n",
       "      <td>Darkroom</td>\n",
       "      <td>15.237</td>\n",
       "      <td>2018-04-29 01:07:00</td>\n",
       "      <td>True</td>\n",
       "      <td>2018-04-05 19:43:00</td>\n",
       "      <td>2018-04-05 20:16:50</td>\n",
       "      <td>United States</td>\n",
       "      <td>1.0</td>\n",
       "      <td>1</td>\n",
       "    </tr>\n",
       "  </tbody>\n",
       "</table>\n",
       "</div>"
      ],
      "text/plain": [
       "                    id feature_name  usage_duration             use_date  \\\n",
       "15198  110000398440704      Filters          48.944  2018-04-06 01:55:22   \n",
       "15205  600000284617989         Eyes           2.276  2018-04-18 05:42:03   \n",
       "15211  170000449701758     Darkroom          46.341  2018-04-24 16:34:30   \n",
       "15215  380000303632483        Paint           1.259  2018-04-27 20:49:15   \n",
       "15236  450000381370671     Darkroom          15.237  2018-04-29 01:07:00   \n",
       "\n",
       "       accepted   installation_date   subscripiton_date         country  \\\n",
       "15198      True 2018-03-12 20:44:17 2018-04-06 00:12:10   United States   \n",
       "15205      True 2018-04-17 20:49:17 2018-04-18 00:56:09   United States   \n",
       "15211      True 2018-04-24 13:55:08 2018-04-24 16:32:25  United Kingdom   \n",
       "15215      True 2018-04-27 20:36:36 2018-04-27 20:42:59   United States   \n",
       "15236      True 2018-04-05 19:43:00 2018-04-05 20:16:50   United States   \n",
       "\n",
       "       days_until_churn  churned  \n",
       "15198               7.0        1  \n",
       "15205              21.0        1  \n",
       "15211               1.0        1  \n",
       "15215               1.0        1  \n",
       "15236               1.0        1  "
      ]
     },
     "execution_count": 18,
     "metadata": {},
     "output_type": "execute_result"
    }
   ],
   "source": [
    "df_churned = joined_df[(joined_df['churned']==True) & (joined_df['accepted']==True)]\n",
    "df_churned.head()"
   ]
  },
  {
   "cell_type": "code",
   "execution_count": 19,
   "metadata": {
    "collapsed": false,
    "scrolled": true
   },
   "outputs": [
    {
     "name": "stderr",
     "output_type": "stream",
     "text": [
      "c:\\python34\\lib\\site-packages\\seaborn\\categorical.py:1424: FutureWarning: remove_na is deprecated and is a private function. Do not use.\n",
      "  stat_data = remove_na(group_data)\n"
     ]
    },
    {
     "data": {
      "text/plain": [
       "Text(0.5,1,'Most used features, churned=0')"
      ]
     },
     "execution_count": 19,
     "metadata": {},
     "output_type": "execute_result"
    },
    {
     "data": {
      "image/png": "[encoded data removed]",
      "text/plain": [
       "<Figure size 1700x1200 with 2 Axes>"
      ]
     },
     "metadata": {},
     "output_type": "display_data"
    }
   ],
   "source": [
    "#What are the most popular features, within each class:\n",
    "\n",
    "#total_number_of_usage_per_feature = df_usage['feature_name'].value_counts()\n",
    "\n",
    "\n",
    "\n",
    "# k = 10\n",
    "# top_k_features_churned = joined_df[joined_df['churned']==True]['feature_name'].value_counts().index[:k]\n",
    "# top_k_features_not_churned = joined_df[joined_df['churned']==False]['feature_name'].value_counts().index[:k]\n",
    "\n",
    "\n",
    "fig, ax = plt.subplots(2,1, figsize=(17,12))\n",
    "df_churned = joined_df[(joined_df['churned']==True) & (joined_df['accepted']==True)]\n",
    "p = sns.countplot(data=df_churned[df_churned['feature_name'].isin(top_k_features_churned)], x='feature_name', order = top_k_features_churned, ax=ax[0])\n",
    "\n",
    "df_not_churned = joined_df[(joined_df['churned']==False) & (joined_df['accepted']==True)]\n",
    "q = sns.countplot(data=df_not_churned[df_not_churned['feature_name'].isin(top_k_features_not_churned)], x='feature_name', order = top_k_features_not_churned, ax=ax[1])\n",
    "\n",
    "ax[0].set_title('Most used features, churned=1')\n",
    "ax[1].set_title('Most used features, churned=0')"
   ]
  },
  {
   "cell_type": "code",
   "execution_count": 20,
   "metadata": {
    "collapsed": false,
    "scrolled": true
   },
   "outputs": [
    {
     "data": {
      "text/html": [
       "<div>\n",
       "<style scoped>\n",
       "    .dataframe tbody tr th:only-of-type {\n",
       "        vertical-align: middle;\n",
       "    }\n",
       "\n",
       "    .dataframe tbody tr th {\n",
       "        vertical-align: top;\n",
       "    }\n",
       "\n",
       "    .dataframe thead th {\n",
       "        text-align: right;\n",
       "    }\n",
       "</style>\n",
       "<table border=\"1\" class=\"dataframe\">\n",
       "  <thead>\n",
       "    <tr style=\"text-align: right;\">\n",
       "      <th></th>\n",
       "      <th></th>\n",
       "      <th></th>\n",
       "      <th>usage_duration</th>\n",
       "      <th>accepted</th>\n",
       "      <th>days_until_churn</th>\n",
       "    </tr>\n",
       "    <tr>\n",
       "      <th>id</th>\n",
       "      <th>churned</th>\n",
       "      <th>feature_name</th>\n",
       "      <th></th>\n",
       "      <th></th>\n",
       "      <th></th>\n",
       "    </tr>\n",
       "  </thead>\n",
       "  <tbody>\n",
       "    <tr>\n",
       "      <th rowspan=\"5\" valign=\"top\">20000443246052</th>\n",
       "      <th rowspan=\"5\" valign=\"top\">0</th>\n",
       "      <th>Adjust</th>\n",
       "      <td>18.314889</td>\n",
       "      <td>0.333333</td>\n",
       "      <td>NaN</td>\n",
       "    </tr>\n",
       "    <tr>\n",
       "      <th>Backdrop</th>\n",
       "      <td>9.859667</td>\n",
       "      <td>0.333333</td>\n",
       "      <td>NaN</td>\n",
       "    </tr>\n",
       "    <tr>\n",
       "      <th>Crop</th>\n",
       "      <td>4.827750</td>\n",
       "      <td>0.500000</td>\n",
       "      <td>NaN</td>\n",
       "    </tr>\n",
       "    <tr>\n",
       "      <th>Darkroom</th>\n",
       "      <td>26.927308</td>\n",
       "      <td>0.538462</td>\n",
       "      <td>NaN</td>\n",
       "    </tr>\n",
       "    <tr>\n",
       "      <th>Defocus</th>\n",
       "      <td>10.345636</td>\n",
       "      <td>0.909091</td>\n",
       "      <td>NaN</td>\n",
       "    </tr>\n",
       "  </tbody>\n",
       "</table>\n",
       "</div>"
      ],
      "text/plain": [
       "                                     usage_duration  accepted  \\\n",
       "id             churned feature_name                             \n",
       "20000443246052 0       Adjust             18.314889  0.333333   \n",
       "                       Backdrop            9.859667  0.333333   \n",
       "                       Crop                4.827750  0.500000   \n",
       "                       Darkroom           26.927308  0.538462   \n",
       "                       Defocus            10.345636  0.909091   \n",
       "\n",
       "                                     days_until_churn  \n",
       "id             churned feature_name                    \n",
       "20000443246052 0       Adjust                     NaN  \n",
       "                       Backdrop                   NaN  \n",
       "                       Crop                       NaN  \n",
       "                       Darkroom                   NaN  \n",
       "                       Defocus                    NaN  "
      ]
     },
     "execution_count": 20,
     "metadata": {},
     "output_type": "execute_result"
    }
   ],
   "source": [
    "groupedDf = joined_df.groupby(['id', 'churned', 'feature_name'])\n",
    "groupedDf.mean().head()"
   ]
  },
  {
   "cell_type": "code",
   "execution_count": 21,
   "metadata": {
    "collapsed": false
   },
   "outputs": [
    {
     "data": {
      "text/plain": [
       "<matplotlib.axes._subplots.AxesSubplot at 0x18f57f60>"
      ]
     },
     "execution_count": 21,
     "metadata": {},
     "output_type": "execute_result"
    },
    {
     "data": {
      "image/png": "[encoded data removed]",
      "text/plain": [
       "<Figure size 800x550 with 1 Axes>"
      ]
     },
     "metadata": {},
     "output_type": "display_data"
    }
   ],
   "source": [
    "joined_df.groupby(['id', 'churned'])[['accepted']].mean().boxplot(by='churned')"
   ]
  },
  {
   "cell_type": "markdown",
   "metadata": {},
   "source": [
    "# TODO: Filter outliers"
   ]
  },
  {
   "cell_type": "code",
   "execution_count": 22,
   "metadata": {
    "collapsed": true
   },
   "outputs": [],
   "source": [
    "#end_of_time_series = np.log(joined_df['usage_duration']).hist()\n",
    "joined_df = joined_df[joined_df['usage_duration']<200]"
   ]
  },
  {
   "cell_type": "markdown",
   "metadata": {},
   "source": [
    "# Creating our input data:"
   ]
  },
  {
   "cell_type": "code",
   "execution_count": 23,
   "metadata": {
    "collapsed": false
   },
   "outputs": [
    {
     "name": "stdout",
     "output_type": "stream",
     "text": [
      "2018-04-01 00:02:30\n",
      "2018-05-13 03:28:28\n"
     ]
    },
    {
     "data": {
      "text/html": [
       "<div>\n",
       "<style scoped>\n",
       "    .dataframe tbody tr th:only-of-type {\n",
       "        vertical-align: middle;\n",
       "    }\n",
       "\n",
       "    .dataframe tbody tr th {\n",
       "        vertical-align: top;\n",
       "    }\n",
       "\n",
       "    .dataframe thead th {\n",
       "        text-align: right;\n",
       "    }\n",
       "</style>\n",
       "<table border=\"1\" class=\"dataframe\">\n",
       "  <thead>\n",
       "    <tr style=\"text-align: right;\">\n",
       "      <th></th>\n",
       "      <th>days_installed</th>\n",
       "      <th>days_installed_not_subscribed</th>\n",
       "      <th>days_since_last_use</th>\n",
       "      <th>days_used</th>\n",
       "    </tr>\n",
       "    <tr>\n",
       "      <th>id</th>\n",
       "      <th></th>\n",
       "      <th></th>\n",
       "      <th></th>\n",
       "      <th></th>\n",
       "    </tr>\n",
       "  </thead>\n",
       "  <tbody>\n",
       "    <tr>\n",
       "      <th>20000443246052</th>\n",
       "      <td>164</td>\n",
       "      <td>123</td>\n",
       "      <td>14</td>\n",
       "      <td>28</td>\n",
       "    </tr>\n",
       "    <tr>\n",
       "      <th>20000443252617</th>\n",
       "      <td>480</td>\n",
       "      <td>438</td>\n",
       "      <td>32</td>\n",
       "      <td>10</td>\n",
       "    </tr>\n",
       "    <tr>\n",
       "      <th>20000443310150</th>\n",
       "      <td>41</td>\n",
       "      <td>0</td>\n",
       "      <td>41</td>\n",
       "      <td>0</td>\n",
       "    </tr>\n",
       "    <tr>\n",
       "      <th>20000443405819</th>\n",
       "      <td>259</td>\n",
       "      <td>217</td>\n",
       "      <td>14</td>\n",
       "      <td>28</td>\n",
       "    </tr>\n",
       "    <tr>\n",
       "      <th>20000443434193</th>\n",
       "      <td>41</td>\n",
       "      <td>0</td>\n",
       "      <td>41</td>\n",
       "      <td>0</td>\n",
       "    </tr>\n",
       "  </tbody>\n",
       "</table>\n",
       "</div>"
      ],
      "text/plain": [
       "                days_installed  days_installed_not_subscribed  \\\n",
       "id                                                              \n",
       "20000443246052             164                            123   \n",
       "20000443252617             480                            438   \n",
       "20000443310150              41                              0   \n",
       "20000443405819             259                            217   \n",
       "20000443434193              41                              0   \n",
       "\n",
       "                days_since_last_use  days_used  \n",
       "id                                              \n",
       "20000443246052                   14         28  \n",
       "20000443252617                   32         10  \n",
       "20000443310150                   41          0  \n",
       "20000443405819                   14         28  \n",
       "20000443434193                   41          0  "
      ]
     },
     "execution_count": 23,
     "metadata": {},
     "output_type": "execute_result"
    }
   ],
   "source": [
    "# Add time statistics\n",
    "start_of_time_series = joined_df['subscripiton_date'].min()\n",
    "print(start_of_time_series)\n",
    "end_of_time_series = joined_df['use_date'].max()\n",
    "print(end_of_time_series)\n",
    "date_features = joined_df[['id','installation_date','subscripiton_date','use_date']].groupby('id').max()\n",
    "date_features['days_installed'] = (pd.to_datetime(end_of_time_series) - date_features['installation_date']).dt.days\n",
    "date_features['days_installed_not_subscribed'] = (date_features['subscripiton_date'] - date_features['installation_date']).dt.days\n",
    "date_features['days_since_last_use'] = (pd.to_datetime(end_of_time_series) - pd.to_datetime(date_features['use_date'])).dt.days\n",
    "date_features['days_used'] = np.minimum((pd.to_datetime(date_features['use_date']) - date_features['installation_date']).dt.days, \n",
    "                                        (pd.to_datetime(date_features['use_date']) - pd.to_datetime(start_of_time_series) ).dt.days)\n",
    "date_features = date_features[['days_installed','days_installed_not_subscribed','days_since_last_use','days_used']]\n",
    "date_features.head()"
   ]
  },
  {
   "cell_type": "code",
   "execution_count": 24,
   "metadata": {
    "collapsed": false
   },
   "outputs": [
    {
     "data": {
      "text/html": [
       "<div>\n",
       "<style scoped>\n",
       "    .dataframe tbody tr th:only-of-type {\n",
       "        vertical-align: middle;\n",
       "    }\n",
       "\n",
       "    .dataframe tbody tr th {\n",
       "        vertical-align: top;\n",
       "    }\n",
       "\n",
       "    .dataframe thead th {\n",
       "        text-align: right;\n",
       "    }\n",
       "</style>\n",
       "<table border=\"1\" class=\"dataframe\">\n",
       "  <thead>\n",
       "    <tr style=\"text-align: right;\">\n",
       "      <th>feature_name</th>\n",
       "      <th>Adjust_mean_time</th>\n",
       "      <th>Backdrop_mean_time</th>\n",
       "      <th>Crop_mean_time</th>\n",
       "      <th>Darkroom_mean_time</th>\n",
       "      <th>Defocus_mean_time</th>\n",
       "      <th>Eyes_mean_time</th>\n",
       "      <th>Face_mean_time</th>\n",
       "      <th>Filters_mean_time</th>\n",
       "      <th>Light FX_mean_time</th>\n",
       "      <th>Paint_mean_time</th>\n",
       "      <th>Patch_mean_time</th>\n",
       "      <th>Prism_mean_time</th>\n",
       "      <th>Relight_mean_time</th>\n",
       "      <th>Reshape_mean_time</th>\n",
       "      <th>Retouch_mean_time</th>\n",
       "      <th>Touch Up_mean_time</th>\n",
       "      <th>Vignette_mean_time</th>\n",
       "    </tr>\n",
       "    <tr>\n",
       "      <th>id</th>\n",
       "      <th></th>\n",
       "      <th></th>\n",
       "      <th></th>\n",
       "      <th></th>\n",
       "      <th></th>\n",
       "      <th></th>\n",
       "      <th></th>\n",
       "      <th></th>\n",
       "      <th></th>\n",
       "      <th></th>\n",
       "      <th></th>\n",
       "      <th></th>\n",
       "      <th></th>\n",
       "      <th></th>\n",
       "      <th></th>\n",
       "      <th></th>\n",
       "      <th></th>\n",
       "    </tr>\n",
       "  </thead>\n",
       "  <tbody>\n",
       "    <tr>\n",
       "      <th>20000443246052</th>\n",
       "      <td>18.314889</td>\n",
       "      <td>9.859667</td>\n",
       "      <td>4.82775</td>\n",
       "      <td>26.927308</td>\n",
       "      <td>10.345636</td>\n",
       "      <td>4.691</td>\n",
       "      <td>20.593333</td>\n",
       "      <td>16.218000</td>\n",
       "      <td>23.652667</td>\n",
       "      <td>4.7785</td>\n",
       "      <td>0.0</td>\n",
       "      <td>19.676957</td>\n",
       "      <td>21.21975</td>\n",
       "      <td>29.730667</td>\n",
       "      <td>22.314375</td>\n",
       "      <td>6.6825</td>\n",
       "      <td>7.97975</td>\n",
       "    </tr>\n",
       "    <tr>\n",
       "      <th>20000443252617</th>\n",
       "      <td>34.730000</td>\n",
       "      <td>14.218900</td>\n",
       "      <td>3.84700</td>\n",
       "      <td>11.408176</td>\n",
       "      <td>14.833333</td>\n",
       "      <td>0.000</td>\n",
       "      <td>58.266571</td>\n",
       "      <td>64.251875</td>\n",
       "      <td>2.308500</td>\n",
       "      <td>0.0000</td>\n",
       "      <td>0.0</td>\n",
       "      <td>0.000000</td>\n",
       "      <td>6.79750</td>\n",
       "      <td>26.539500</td>\n",
       "      <td>0.000000</td>\n",
       "      <td>0.0000</td>\n",
       "      <td>0.00000</td>\n",
       "    </tr>\n",
       "    <tr>\n",
       "      <th>20000443310150</th>\n",
       "      <td>24.272000</td>\n",
       "      <td>79.271667</td>\n",
       "      <td>0.00000</td>\n",
       "      <td>8.871000</td>\n",
       "      <td>0.000000</td>\n",
       "      <td>59.081</td>\n",
       "      <td>48.072167</td>\n",
       "      <td>42.506667</td>\n",
       "      <td>0.000000</td>\n",
       "      <td>0.0000</td>\n",
       "      <td>0.0</td>\n",
       "      <td>0.000000</td>\n",
       "      <td>69.82350</td>\n",
       "      <td>73.265500</td>\n",
       "      <td>0.000000</td>\n",
       "      <td>5.3110</td>\n",
       "      <td>0.00000</td>\n",
       "    </tr>\n",
       "    <tr>\n",
       "      <th>20000443405819</th>\n",
       "      <td>28.361000</td>\n",
       "      <td>0.000000</td>\n",
       "      <td>0.00000</td>\n",
       "      <td>26.386750</td>\n",
       "      <td>44.532500</td>\n",
       "      <td>0.000</td>\n",
       "      <td>60.734000</td>\n",
       "      <td>39.617500</td>\n",
       "      <td>2.230000</td>\n",
       "      <td>7.3765</td>\n",
       "      <td>0.0</td>\n",
       "      <td>37.679000</td>\n",
       "      <td>2.28000</td>\n",
       "      <td>7.504500</td>\n",
       "      <td>0.000000</td>\n",
       "      <td>1.8730</td>\n",
       "      <td>0.00000</td>\n",
       "    </tr>\n",
       "    <tr>\n",
       "      <th>20000443434193</th>\n",
       "      <td>0.000000</td>\n",
       "      <td>0.000000</td>\n",
       "      <td>0.00000</td>\n",
       "      <td>3.159000</td>\n",
       "      <td>0.000000</td>\n",
       "      <td>0.000</td>\n",
       "      <td>0.000000</td>\n",
       "      <td>86.108333</td>\n",
       "      <td>0.000000</td>\n",
       "      <td>0.0000</td>\n",
       "      <td>0.0</td>\n",
       "      <td>0.000000</td>\n",
       "      <td>0.00000</td>\n",
       "      <td>0.000000</td>\n",
       "      <td>0.000000</td>\n",
       "      <td>0.0000</td>\n",
       "      <td>0.00000</td>\n",
       "    </tr>\n",
       "  </tbody>\n",
       "</table>\n",
       "</div>"
      ],
      "text/plain": [
       "feature_name    Adjust_mean_time  Backdrop_mean_time  Crop_mean_time  \\\n",
       "id                                                                     \n",
       "20000443246052         18.314889            9.859667         4.82775   \n",
       "20000443252617         34.730000           14.218900         3.84700   \n",
       "20000443310150         24.272000           79.271667         0.00000   \n",
       "20000443405819         28.361000            0.000000         0.00000   \n",
       "20000443434193          0.000000            0.000000         0.00000   \n",
       "\n",
       "feature_name    Darkroom_mean_time  Defocus_mean_time  Eyes_mean_time  \\\n",
       "id                                                                      \n",
       "20000443246052           26.927308          10.345636           4.691   \n",
       "20000443252617           11.408176          14.833333           0.000   \n",
       "20000443310150            8.871000           0.000000          59.081   \n",
       "20000443405819           26.386750          44.532500           0.000   \n",
       "20000443434193            3.159000           0.000000           0.000   \n",
       "\n",
       "feature_name    Face_mean_time  Filters_mean_time  Light FX_mean_time  \\\n",
       "id                                                                      \n",
       "20000443246052       20.593333          16.218000           23.652667   \n",
       "20000443252617       58.266571          64.251875            2.308500   \n",
       "20000443310150       48.072167          42.506667            0.000000   \n",
       "20000443405819       60.734000          39.617500            2.230000   \n",
       "20000443434193        0.000000          86.108333            0.000000   \n",
       "\n",
       "feature_name    Paint_mean_time  Patch_mean_time  Prism_mean_time  \\\n",
       "id                                                                  \n",
       "20000443246052           4.7785              0.0        19.676957   \n",
       "20000443252617           0.0000              0.0         0.000000   \n",
       "20000443310150           0.0000              0.0         0.000000   \n",
       "20000443405819           7.3765              0.0        37.679000   \n",
       "20000443434193           0.0000              0.0         0.000000   \n",
       "\n",
       "feature_name    Relight_mean_time  Reshape_mean_time  Retouch_mean_time  \\\n",
       "id                                                                        \n",
       "20000443246052           21.21975          29.730667          22.314375   \n",
       "20000443252617            6.79750          26.539500           0.000000   \n",
       "20000443310150           69.82350          73.265500           0.000000   \n",
       "20000443405819            2.28000           7.504500           0.000000   \n",
       "20000443434193            0.00000           0.000000           0.000000   \n",
       "\n",
       "feature_name    Touch Up_mean_time  Vignette_mean_time  \n",
       "id                                                      \n",
       "20000443246052              6.6825             7.97975  \n",
       "20000443252617              0.0000             0.00000  \n",
       "20000443310150              5.3110             0.00000  \n",
       "20000443405819              1.8730             0.00000  \n",
       "20000443434193              0.0000             0.00000  "
      ]
     },
     "execution_count": 24,
     "metadata": {},
     "output_type": "execute_result"
    }
   ],
   "source": [
    "# extract mean usage time for FaceTune features\n",
    "users_mean_usage_time = pd.pivot_table(joined_df[['id', 'feature_name', 'usage_duration']], values='usage_duration', index=['id'], columns=['feature_name'], aggfunc=np.mean, fill_value=0)\n",
    "users_mean_usage_time = users_mean_usage_time.add_suffix('_mean_time')\n",
    "users_mean_usage_time.head()"
   ]
  },
  {
   "cell_type": "code",
   "execution_count": 25,
   "metadata": {
    "collapsed": false,
    "scrolled": false
   },
   "outputs": [
    {
     "data": {
      "text/html": [
       "<div>\n",
       "<style scoped>\n",
       "    .dataframe tbody tr th:only-of-type {\n",
       "        vertical-align: middle;\n",
       "    }\n",
       "\n",
       "    .dataframe tbody tr th {\n",
       "        vertical-align: top;\n",
       "    }\n",
       "\n",
       "    .dataframe thead th {\n",
       "        text-align: right;\n",
       "    }\n",
       "</style>\n",
       "<table border=\"1\" class=\"dataframe\">\n",
       "  <thead>\n",
       "    <tr style=\"text-align: right;\">\n",
       "      <th>feature_name</th>\n",
       "      <th>Adjust_mean_acceptance</th>\n",
       "      <th>Backdrop_mean_acceptance</th>\n",
       "      <th>Crop_mean_acceptance</th>\n",
       "      <th>Darkroom_mean_acceptance</th>\n",
       "      <th>Defocus_mean_acceptance</th>\n",
       "      <th>Eyes_mean_acceptance</th>\n",
       "      <th>Face_mean_acceptance</th>\n",
       "      <th>Filters_mean_acceptance</th>\n",
       "      <th>Light FX_mean_acceptance</th>\n",
       "      <th>Paint_mean_acceptance</th>\n",
       "      <th>Patch_mean_acceptance</th>\n",
       "      <th>Prism_mean_acceptance</th>\n",
       "      <th>Relight_mean_acceptance</th>\n",
       "      <th>Reshape_mean_acceptance</th>\n",
       "      <th>Retouch_mean_acceptance</th>\n",
       "      <th>Touch Up_mean_acceptance</th>\n",
       "      <th>Vignette_mean_acceptance</th>\n",
       "    </tr>\n",
       "    <tr>\n",
       "      <th>id</th>\n",
       "      <th></th>\n",
       "      <th></th>\n",
       "      <th></th>\n",
       "      <th></th>\n",
       "      <th></th>\n",
       "      <th></th>\n",
       "      <th></th>\n",
       "      <th></th>\n",
       "      <th></th>\n",
       "      <th></th>\n",
       "      <th></th>\n",
       "      <th></th>\n",
       "      <th></th>\n",
       "      <th></th>\n",
       "      <th></th>\n",
       "      <th></th>\n",
       "      <th></th>\n",
       "    </tr>\n",
       "  </thead>\n",
       "  <tbody>\n",
       "    <tr>\n",
       "      <th>20000443246052</th>\n",
       "      <td>0.333333</td>\n",
       "      <td>0.333333</td>\n",
       "      <td>0.5</td>\n",
       "      <td>0.538462</td>\n",
       "      <td>0.909091</td>\n",
       "      <td>1.000000</td>\n",
       "      <td>0.666667</td>\n",
       "      <td>0.844444</td>\n",
       "      <td>0.666667</td>\n",
       "      <td>0.0</td>\n",
       "      <td>0.0</td>\n",
       "      <td>0.565217</td>\n",
       "      <td>0.5</td>\n",
       "      <td>0.50</td>\n",
       "      <td>1.0</td>\n",
       "      <td>0.5</td>\n",
       "      <td>0.75</td>\n",
       "    </tr>\n",
       "    <tr>\n",
       "      <th>20000443252617</th>\n",
       "      <td>0.000000</td>\n",
       "      <td>0.700000</td>\n",
       "      <td>0.0</td>\n",
       "      <td>0.235294</td>\n",
       "      <td>0.666667</td>\n",
       "      <td>0.000000</td>\n",
       "      <td>0.571429</td>\n",
       "      <td>0.500000</td>\n",
       "      <td>0.000000</td>\n",
       "      <td>0.0</td>\n",
       "      <td>0.0</td>\n",
       "      <td>0.000000</td>\n",
       "      <td>0.5</td>\n",
       "      <td>0.00</td>\n",
       "      <td>0.0</td>\n",
       "      <td>0.0</td>\n",
       "      <td>0.00</td>\n",
       "    </tr>\n",
       "    <tr>\n",
       "      <th>20000443310150</th>\n",
       "      <td>0.000000</td>\n",
       "      <td>0.666667</td>\n",
       "      <td>0.0</td>\n",
       "      <td>0.000000</td>\n",
       "      <td>0.000000</td>\n",
       "      <td>0.666667</td>\n",
       "      <td>0.166667</td>\n",
       "      <td>0.000000</td>\n",
       "      <td>0.000000</td>\n",
       "      <td>0.0</td>\n",
       "      <td>0.0</td>\n",
       "      <td>0.000000</td>\n",
       "      <td>0.0</td>\n",
       "      <td>0.25</td>\n",
       "      <td>0.0</td>\n",
       "      <td>0.0</td>\n",
       "      <td>0.00</td>\n",
       "    </tr>\n",
       "    <tr>\n",
       "      <th>20000443405819</th>\n",
       "      <td>0.500000</td>\n",
       "      <td>0.000000</td>\n",
       "      <td>0.0</td>\n",
       "      <td>0.250000</td>\n",
       "      <td>0.500000</td>\n",
       "      <td>0.000000</td>\n",
       "      <td>0.500000</td>\n",
       "      <td>0.375000</td>\n",
       "      <td>0.000000</td>\n",
       "      <td>0.5</td>\n",
       "      <td>0.0</td>\n",
       "      <td>0.333333</td>\n",
       "      <td>0.0</td>\n",
       "      <td>0.00</td>\n",
       "      <td>0.0</td>\n",
       "      <td>0.0</td>\n",
       "      <td>0.00</td>\n",
       "    </tr>\n",
       "    <tr>\n",
       "      <th>20000443434193</th>\n",
       "      <td>0.000000</td>\n",
       "      <td>0.000000</td>\n",
       "      <td>0.0</td>\n",
       "      <td>0.000000</td>\n",
       "      <td>0.000000</td>\n",
       "      <td>0.000000</td>\n",
       "      <td>0.000000</td>\n",
       "      <td>1.000000</td>\n",
       "      <td>0.000000</td>\n",
       "      <td>0.0</td>\n",
       "      <td>0.0</td>\n",
       "      <td>0.000000</td>\n",
       "      <td>0.0</td>\n",
       "      <td>0.00</td>\n",
       "      <td>0.0</td>\n",
       "      <td>0.0</td>\n",
       "      <td>0.00</td>\n",
       "    </tr>\n",
       "  </tbody>\n",
       "</table>\n",
       "</div>"
      ],
      "text/plain": [
       "feature_name    Adjust_mean_acceptance  Backdrop_mean_acceptance  \\\n",
       "id                                                                 \n",
       "20000443246052                0.333333                  0.333333   \n",
       "20000443252617                0.000000                  0.700000   \n",
       "20000443310150                0.000000                  0.666667   \n",
       "20000443405819                0.500000                  0.000000   \n",
       "20000443434193                0.000000                  0.000000   \n",
       "\n",
       "feature_name    Crop_mean_acceptance  Darkroom_mean_acceptance  \\\n",
       "id                                                               \n",
       "20000443246052                   0.5                  0.538462   \n",
       "20000443252617                   0.0                  0.235294   \n",
       "20000443310150                   0.0                  0.000000   \n",
       "20000443405819                   0.0                  0.250000   \n",
       "20000443434193                   0.0                  0.000000   \n",
       "\n",
       "feature_name    Defocus_mean_acceptance  Eyes_mean_acceptance  \\\n",
       "id                                                              \n",
       "20000443246052                 0.909091              1.000000   \n",
       "20000443252617                 0.666667              0.000000   \n",
       "20000443310150                 0.000000              0.666667   \n",
       "20000443405819                 0.500000              0.000000   \n",
       "20000443434193                 0.000000              0.000000   \n",
       "\n",
       "feature_name    Face_mean_acceptance  Filters_mean_acceptance  \\\n",
       "id                                                              \n",
       "20000443246052              0.666667                 0.844444   \n",
       "20000443252617              0.571429                 0.500000   \n",
       "20000443310150              0.166667                 0.000000   \n",
       "20000443405819              0.500000                 0.375000   \n",
       "20000443434193              0.000000                 1.000000   \n",
       "\n",
       "feature_name    Light FX_mean_acceptance  Paint_mean_acceptance  \\\n",
       "id                                                                \n",
       "20000443246052                  0.666667                    0.0   \n",
       "20000443252617                  0.000000                    0.0   \n",
       "20000443310150                  0.000000                    0.0   \n",
       "20000443405819                  0.000000                    0.5   \n",
       "20000443434193                  0.000000                    0.0   \n",
       "\n",
       "feature_name    Patch_mean_acceptance  Prism_mean_acceptance  \\\n",
       "id                                                             \n",
       "20000443246052                    0.0               0.565217   \n",
       "20000443252617                    0.0               0.000000   \n",
       "20000443310150                    0.0               0.000000   \n",
       "20000443405819                    0.0               0.333333   \n",
       "20000443434193                    0.0               0.000000   \n",
       "\n",
       "feature_name    Relight_mean_acceptance  Reshape_mean_acceptance  \\\n",
       "id                                                                 \n",
       "20000443246052                      0.5                     0.50   \n",
       "20000443252617                      0.5                     0.00   \n",
       "20000443310150                      0.0                     0.25   \n",
       "20000443405819                      0.0                     0.00   \n",
       "20000443434193                      0.0                     0.00   \n",
       "\n",
       "feature_name    Retouch_mean_acceptance  Touch Up_mean_acceptance  \\\n",
       "id                                                                  \n",
       "20000443246052                      1.0                       0.5   \n",
       "20000443252617                      0.0                       0.0   \n",
       "20000443310150                      0.0                       0.0   \n",
       "20000443405819                      0.0                       0.0   \n",
       "20000443434193                      0.0                       0.0   \n",
       "\n",
       "feature_name    Vignette_mean_acceptance  \n",
       "id                                        \n",
       "20000443246052                      0.75  \n",
       "20000443252617                      0.00  \n",
       "20000443310150                      0.00  \n",
       "20000443405819                      0.00  \n",
       "20000443434193                      0.00  "
      ]
     },
     "execution_count": 25,
     "metadata": {},
     "output_type": "execute_result"
    }
   ],
   "source": [
    "# extract mean acceptance rate for FaceTune features\n",
    "users_mean_acceptance_rate = pd.pivot_table(joined_df[['id', 'feature_name', 'accepted']], values='accepted', index=['id'], columns=['feature_name'], aggfunc=np.mean, fill_value=0)\n",
    "users_mean_acceptance_rate = users_mean_acceptance_rate.add_suffix('_mean_acceptance')\n",
    "users_mean_acceptance_rate.head()"
   ]
  },
  {
   "cell_type": "code",
   "execution_count": 26,
   "metadata": {
    "collapsed": false
   },
   "outputs": [
    {
     "data": {
      "text/html": [
       "<div>\n",
       "<style scoped>\n",
       "    .dataframe tbody tr th:only-of-type {\n",
       "        vertical-align: middle;\n",
       "    }\n",
       "\n",
       "    .dataframe tbody tr th {\n",
       "        vertical-align: top;\n",
       "    }\n",
       "\n",
       "    .dataframe thead th {\n",
       "        text-align: right;\n",
       "    }\n",
       "</style>\n",
       "<table border=\"1\" class=\"dataframe\">\n",
       "  <thead>\n",
       "    <tr style=\"text-align: right;\">\n",
       "      <th>feature_name</th>\n",
       "      <th>Adjust</th>\n",
       "      <th>Backdrop</th>\n",
       "      <th>Crop</th>\n",
       "      <th>Darkroom</th>\n",
       "      <th>Defocus</th>\n",
       "      <th>Eyes</th>\n",
       "      <th>Face</th>\n",
       "      <th>Filters</th>\n",
       "      <th>Light FX</th>\n",
       "      <th>Paint</th>\n",
       "      <th>Patch</th>\n",
       "      <th>Prism</th>\n",
       "      <th>Relight</th>\n",
       "      <th>Reshape</th>\n",
       "      <th>Retouch</th>\n",
       "      <th>Touch Up</th>\n",
       "      <th>Vignette</th>\n",
       "    </tr>\n",
       "    <tr>\n",
       "      <th>id</th>\n",
       "      <th></th>\n",
       "      <th></th>\n",
       "      <th></th>\n",
       "      <th></th>\n",
       "      <th></th>\n",
       "      <th></th>\n",
       "      <th></th>\n",
       "      <th></th>\n",
       "      <th></th>\n",
       "      <th></th>\n",
       "      <th></th>\n",
       "      <th></th>\n",
       "      <th></th>\n",
       "      <th></th>\n",
       "      <th></th>\n",
       "      <th></th>\n",
       "      <th></th>\n",
       "    </tr>\n",
       "  </thead>\n",
       "  <tbody>\n",
       "    <tr>\n",
       "      <th>20000443246052</th>\n",
       "      <td>9</td>\n",
       "      <td>3</td>\n",
       "      <td>4</td>\n",
       "      <td>26</td>\n",
       "      <td>11</td>\n",
       "      <td>2</td>\n",
       "      <td>6</td>\n",
       "      <td>45</td>\n",
       "      <td>3</td>\n",
       "      <td>2</td>\n",
       "      <td>0</td>\n",
       "      <td>23</td>\n",
       "      <td>4</td>\n",
       "      <td>18</td>\n",
       "      <td>8</td>\n",
       "      <td>2</td>\n",
       "      <td>4</td>\n",
       "    </tr>\n",
       "    <tr>\n",
       "      <th>20000443252617</th>\n",
       "      <td>1</td>\n",
       "      <td>10</td>\n",
       "      <td>2</td>\n",
       "      <td>17</td>\n",
       "      <td>3</td>\n",
       "      <td>0</td>\n",
       "      <td>7</td>\n",
       "      <td>16</td>\n",
       "      <td>2</td>\n",
       "      <td>0</td>\n",
       "      <td>0</td>\n",
       "      <td>0</td>\n",
       "      <td>2</td>\n",
       "      <td>4</td>\n",
       "      <td>0</td>\n",
       "      <td>0</td>\n",
       "      <td>0</td>\n",
       "    </tr>\n",
       "    <tr>\n",
       "      <th>20000443310150</th>\n",
       "      <td>1</td>\n",
       "      <td>3</td>\n",
       "      <td>0</td>\n",
       "      <td>3</td>\n",
       "      <td>0</td>\n",
       "      <td>3</td>\n",
       "      <td>6</td>\n",
       "      <td>3</td>\n",
       "      <td>0</td>\n",
       "      <td>0</td>\n",
       "      <td>0</td>\n",
       "      <td>0</td>\n",
       "      <td>2</td>\n",
       "      <td>4</td>\n",
       "      <td>0</td>\n",
       "      <td>1</td>\n",
       "      <td>0</td>\n",
       "    </tr>\n",
       "    <tr>\n",
       "      <th>20000443405819</th>\n",
       "      <td>2</td>\n",
       "      <td>0</td>\n",
       "      <td>0</td>\n",
       "      <td>4</td>\n",
       "      <td>2</td>\n",
       "      <td>0</td>\n",
       "      <td>2</td>\n",
       "      <td>8</td>\n",
       "      <td>1</td>\n",
       "      <td>2</td>\n",
       "      <td>0</td>\n",
       "      <td>6</td>\n",
       "      <td>1</td>\n",
       "      <td>2</td>\n",
       "      <td>0</td>\n",
       "      <td>1</td>\n",
       "      <td>0</td>\n",
       "    </tr>\n",
       "    <tr>\n",
       "      <th>20000443434193</th>\n",
       "      <td>0</td>\n",
       "      <td>0</td>\n",
       "      <td>0</td>\n",
       "      <td>1</td>\n",
       "      <td>0</td>\n",
       "      <td>0</td>\n",
       "      <td>0</td>\n",
       "      <td>3</td>\n",
       "      <td>0</td>\n",
       "      <td>0</td>\n",
       "      <td>0</td>\n",
       "      <td>0</td>\n",
       "      <td>0</td>\n",
       "      <td>0</td>\n",
       "      <td>0</td>\n",
       "      <td>0</td>\n",
       "      <td>0</td>\n",
       "    </tr>\n",
       "  </tbody>\n",
       "</table>\n",
       "</div>"
      ],
      "text/plain": [
       "feature_name    Adjust  Backdrop  Crop  Darkroom  Defocus  Eyes  Face  \\\n",
       "id                                                                      \n",
       "20000443246052       9         3     4        26       11     2     6   \n",
       "20000443252617       1        10     2        17        3     0     7   \n",
       "20000443310150       1         3     0         3        0     3     6   \n",
       "20000443405819       2         0     0         4        2     0     2   \n",
       "20000443434193       0         0     0         1        0     0     0   \n",
       "\n",
       "feature_name    Filters  Light FX  Paint  Patch  Prism  Relight  Reshape  \\\n",
       "id                                                                         \n",
       "20000443246052       45         3      2      0     23        4       18   \n",
       "20000443252617       16         2      0      0      0        2        4   \n",
       "20000443310150        3         0      0      0      0        2        4   \n",
       "20000443405819        8         1      2      0      6        1        2   \n",
       "20000443434193        3         0      0      0      0        0        0   \n",
       "\n",
       "feature_name    Retouch  Touch Up  Vignette  \n",
       "id                                           \n",
       "20000443246052        8         2         4  \n",
       "20000443252617        0         0         0  \n",
       "20000443310150        0         1         0  \n",
       "20000443405819        0         1         0  \n",
       "20000443434193        0         0         0  "
      ]
     },
     "execution_count": 26,
     "metadata": {},
     "output_type": "execute_result"
    }
   ],
   "source": [
    "#Let's create a table with statistic summaries: rows correspond to users; columns to various statistics:\n",
    "users_usage_summaries = pd.pivot_table(joined_df[['id', 'feature_name']], index=['id'], columns=['feature_name'], aggfunc=len, fill_value=0)\n",
    "users_usage_summaries.head()"
   ]
  },
  {
   "cell_type": "code",
   "execution_count": 27,
   "metadata": {
    "collapsed": false
   },
   "outputs": [
    {
     "data": {
      "text/html": [
       "<div>\n",
       "<style scoped>\n",
       "    .dataframe tbody tr th:only-of-type {\n",
       "        vertical-align: middle;\n",
       "    }\n",
       "\n",
       "    .dataframe tbody tr th {\n",
       "        vertical-align: top;\n",
       "    }\n",
       "\n",
       "    .dataframe thead th {\n",
       "        text-align: right;\n",
       "    }\n",
       "</style>\n",
       "<table border=\"1\" class=\"dataframe\">\n",
       "  <thead>\n",
       "    <tr style=\"text-align: right;\">\n",
       "      <th></th>\n",
       "      <th>accepted</th>\n",
       "    </tr>\n",
       "    <tr>\n",
       "      <th>id</th>\n",
       "      <th></th>\n",
       "    </tr>\n",
       "  </thead>\n",
       "  <tbody>\n",
       "    <tr>\n",
       "      <th>20000443246052</th>\n",
       "      <td>0.658824</td>\n",
       "    </tr>\n",
       "    <tr>\n",
       "      <th>20000443252617</th>\n",
       "      <td>0.406250</td>\n",
       "    </tr>\n",
       "    <tr>\n",
       "      <th>20000443310150</th>\n",
       "      <td>0.230769</td>\n",
       "    </tr>\n",
       "    <tr>\n",
       "      <th>20000443405819</th>\n",
       "      <td>0.322581</td>\n",
       "    </tr>\n",
       "    <tr>\n",
       "      <th>20000443434193</th>\n",
       "      <td>0.750000</td>\n",
       "    </tr>\n",
       "  </tbody>\n",
       "</table>\n",
       "</div>"
      ],
      "text/plain": [
       "                accepted\n",
       "id                      \n",
       "20000443246052  0.658824\n",
       "20000443252617  0.406250\n",
       "20000443310150  0.230769\n",
       "20000443405819  0.322581\n",
       "20000443434193  0.750000"
      ]
     },
     "execution_count": 27,
     "metadata": {},
     "output_type": "execute_result"
    }
   ],
   "source": [
    "#Let's add the mean of 'accepted' for each user:\n",
    "accepted_rate = joined_df.groupby(['id'])['accepted'].mean().to_frame()\n",
    "accepted_rate.head()"
   ]
  },
  {
   "cell_type": "code",
   "execution_count": 28,
   "metadata": {
    "collapsed": false
   },
   "outputs": [
    {
     "data": {
      "text/html": [
       "<div>\n",
       "<style scoped>\n",
       "    .dataframe tbody tr th:only-of-type {\n",
       "        vertical-align: middle;\n",
       "    }\n",
       "\n",
       "    .dataframe tbody tr th {\n",
       "        vertical-align: top;\n",
       "    }\n",
       "\n",
       "    .dataframe thead th {\n",
       "        text-align: right;\n",
       "    }\n",
       "</style>\n",
       "<table border=\"1\" class=\"dataframe\">\n",
       "  <thead>\n",
       "    <tr style=\"text-align: right;\">\n",
       "      <th></th>\n",
       "      <th>churned</th>\n",
       "    </tr>\n",
       "    <tr>\n",
       "      <th>id</th>\n",
       "      <th></th>\n",
       "    </tr>\n",
       "  </thead>\n",
       "  <tbody>\n",
       "    <tr>\n",
       "      <th>20000443246052</th>\n",
       "      <td>0</td>\n",
       "    </tr>\n",
       "    <tr>\n",
       "      <th>20000443252617</th>\n",
       "      <td>0</td>\n",
       "    </tr>\n",
       "    <tr>\n",
       "      <th>20000443310150</th>\n",
       "      <td>0</td>\n",
       "    </tr>\n",
       "    <tr>\n",
       "      <th>20000443405819</th>\n",
       "      <td>0</td>\n",
       "    </tr>\n",
       "    <tr>\n",
       "      <th>20000443434193</th>\n",
       "      <td>0</td>\n",
       "    </tr>\n",
       "  </tbody>\n",
       "</table>\n",
       "</div>"
      ],
      "text/plain": [
       "                churned\n",
       "id                     \n",
       "20000443246052        0\n",
       "20000443252617        0\n",
       "20000443310150        0\n",
       "20000443405819        0\n",
       "20000443434193        0"
      ]
     },
     "execution_count": 28,
     "metadata": {},
     "output_type": "execute_result"
    }
   ],
   "source": [
    "# Add labels\n",
    "churned = joined_df.groupby(['id'])['churned'].mean().to_frame()\n",
    "churned.head()"
   ]
  },
  {
   "cell_type": "code",
   "execution_count": 29,
   "metadata": {
    "collapsed": false
   },
   "outputs": [
    {
     "name": "stdout",
     "output_type": "stream",
     "text": [
      "(8241, 57)\n"
     ]
    },
    {
     "data": {
      "text/html": [
       "<div>\n",
       "<style scoped>\n",
       "    .dataframe tbody tr th:only-of-type {\n",
       "        vertical-align: middle;\n",
       "    }\n",
       "\n",
       "    .dataframe tbody tr th {\n",
       "        vertical-align: top;\n",
       "    }\n",
       "\n",
       "    .dataframe thead th {\n",
       "        text-align: right;\n",
       "    }\n",
       "</style>\n",
       "<table border=\"1\" class=\"dataframe\">\n",
       "  <thead>\n",
       "    <tr style=\"text-align: right;\">\n",
       "      <th></th>\n",
       "      <th>Adjust</th>\n",
       "      <th>Backdrop</th>\n",
       "      <th>Crop</th>\n",
       "      <th>Darkroom</th>\n",
       "      <th>Defocus</th>\n",
       "      <th>Eyes</th>\n",
       "      <th>Face</th>\n",
       "      <th>Filters</th>\n",
       "      <th>Light FX</th>\n",
       "      <th>Paint</th>\n",
       "      <th>...</th>\n",
       "      <th>Reshape_mean_acceptance</th>\n",
       "      <th>Retouch_mean_acceptance</th>\n",
       "      <th>Touch Up_mean_acceptance</th>\n",
       "      <th>Vignette_mean_acceptance</th>\n",
       "      <th>days_installed</th>\n",
       "      <th>days_installed_not_subscribed</th>\n",
       "      <th>days_since_last_use</th>\n",
       "      <th>days_used</th>\n",
       "      <th>accepted</th>\n",
       "      <th>churned</th>\n",
       "    </tr>\n",
       "    <tr>\n",
       "      <th>id</th>\n",
       "      <th></th>\n",
       "      <th></th>\n",
       "      <th></th>\n",
       "      <th></th>\n",
       "      <th></th>\n",
       "      <th></th>\n",
       "      <th></th>\n",
       "      <th></th>\n",
       "      <th></th>\n",
       "      <th></th>\n",
       "      <th></th>\n",
       "      <th></th>\n",
       "      <th></th>\n",
       "      <th></th>\n",
       "      <th></th>\n",
       "      <th></th>\n",
       "      <th></th>\n",
       "      <th></th>\n",
       "      <th></th>\n",
       "      <th></th>\n",
       "      <th></th>\n",
       "    </tr>\n",
       "  </thead>\n",
       "  <tbody>\n",
       "    <tr>\n",
       "      <th>20000443246052</th>\n",
       "      <td>9</td>\n",
       "      <td>3</td>\n",
       "      <td>4</td>\n",
       "      <td>26</td>\n",
       "      <td>11</td>\n",
       "      <td>2</td>\n",
       "      <td>6</td>\n",
       "      <td>45</td>\n",
       "      <td>3</td>\n",
       "      <td>2</td>\n",
       "      <td>...</td>\n",
       "      <td>0.50</td>\n",
       "      <td>1.0</td>\n",
       "      <td>0.5</td>\n",
       "      <td>0.75</td>\n",
       "      <td>164</td>\n",
       "      <td>123</td>\n",
       "      <td>14</td>\n",
       "      <td>28</td>\n",
       "      <td>0.658824</td>\n",
       "      <td>0</td>\n",
       "    </tr>\n",
       "    <tr>\n",
       "      <th>20000443252617</th>\n",
       "      <td>1</td>\n",
       "      <td>10</td>\n",
       "      <td>2</td>\n",
       "      <td>17</td>\n",
       "      <td>3</td>\n",
       "      <td>0</td>\n",
       "      <td>7</td>\n",
       "      <td>16</td>\n",
       "      <td>2</td>\n",
       "      <td>0</td>\n",
       "      <td>...</td>\n",
       "      <td>0.00</td>\n",
       "      <td>0.0</td>\n",
       "      <td>0.0</td>\n",
       "      <td>0.00</td>\n",
       "      <td>480</td>\n",
       "      <td>438</td>\n",
       "      <td>32</td>\n",
       "      <td>10</td>\n",
       "      <td>0.406250</td>\n",
       "      <td>0</td>\n",
       "    </tr>\n",
       "    <tr>\n",
       "      <th>20000443310150</th>\n",
       "      <td>1</td>\n",
       "      <td>3</td>\n",
       "      <td>0</td>\n",
       "      <td>3</td>\n",
       "      <td>0</td>\n",
       "      <td>3</td>\n",
       "      <td>6</td>\n",
       "      <td>3</td>\n",
       "      <td>0</td>\n",
       "      <td>0</td>\n",
       "      <td>...</td>\n",
       "      <td>0.25</td>\n",
       "      <td>0.0</td>\n",
       "      <td>0.0</td>\n",
       "      <td>0.00</td>\n",
       "      <td>41</td>\n",
       "      <td>0</td>\n",
       "      <td>41</td>\n",
       "      <td>0</td>\n",
       "      <td>0.230769</td>\n",
       "      <td>0</td>\n",
       "    </tr>\n",
       "    <tr>\n",
       "      <th>20000443405819</th>\n",
       "      <td>2</td>\n",
       "      <td>0</td>\n",
       "      <td>0</td>\n",
       "      <td>4</td>\n",
       "      <td>2</td>\n",
       "      <td>0</td>\n",
       "      <td>2</td>\n",
       "      <td>8</td>\n",
       "      <td>1</td>\n",
       "      <td>2</td>\n",
       "      <td>...</td>\n",
       "      <td>0.00</td>\n",
       "      <td>0.0</td>\n",
       "      <td>0.0</td>\n",
       "      <td>0.00</td>\n",
       "      <td>259</td>\n",
       "      <td>217</td>\n",
       "      <td>14</td>\n",
       "      <td>28</td>\n",
       "      <td>0.322581</td>\n",
       "      <td>0</td>\n",
       "    </tr>\n",
       "    <tr>\n",
       "      <th>20000443434193</th>\n",
       "      <td>0</td>\n",
       "      <td>0</td>\n",
       "      <td>0</td>\n",
       "      <td>1</td>\n",
       "      <td>0</td>\n",
       "      <td>0</td>\n",
       "      <td>0</td>\n",
       "      <td>3</td>\n",
       "      <td>0</td>\n",
       "      <td>0</td>\n",
       "      <td>...</td>\n",
       "      <td>0.00</td>\n",
       "      <td>0.0</td>\n",
       "      <td>0.0</td>\n",
       "      <td>0.00</td>\n",
       "      <td>41</td>\n",
       "      <td>0</td>\n",
       "      <td>41</td>\n",
       "      <td>0</td>\n",
       "      <td>0.750000</td>\n",
       "      <td>0</td>\n",
       "    </tr>\n",
       "  </tbody>\n",
       "</table>\n",
       "<p>5 rows × 57 columns</p>\n",
       "</div>"
      ],
      "text/plain": [
       "                Adjust  Backdrop  Crop  Darkroom  Defocus  Eyes  Face  \\\n",
       "id                                                                      \n",
       "20000443246052       9         3     4        26       11     2     6   \n",
       "20000443252617       1        10     2        17        3     0     7   \n",
       "20000443310150       1         3     0         3        0     3     6   \n",
       "20000443405819       2         0     0         4        2     0     2   \n",
       "20000443434193       0         0     0         1        0     0     0   \n",
       "\n",
       "                Filters  Light FX  Paint   ...     Reshape_mean_acceptance  \\\n",
       "id                                         ...                               \n",
       "20000443246052       45         3      2   ...                        0.50   \n",
       "20000443252617       16         2      0   ...                        0.00   \n",
       "20000443310150        3         0      0   ...                        0.25   \n",
       "20000443405819        8         1      2   ...                        0.00   \n",
       "20000443434193        3         0      0   ...                        0.00   \n",
       "\n",
       "                Retouch_mean_acceptance  Touch Up_mean_acceptance  \\\n",
       "id                                                                  \n",
       "20000443246052                      1.0                       0.5   \n",
       "20000443252617                      0.0                       0.0   \n",
       "20000443310150                      0.0                       0.0   \n",
       "20000443405819                      0.0                       0.0   \n",
       "20000443434193                      0.0                       0.0   \n",
       "\n",
       "                Vignette_mean_acceptance  days_installed  \\\n",
       "id                                                         \n",
       "20000443246052                      0.75             164   \n",
       "20000443252617                      0.00             480   \n",
       "20000443310150                      0.00              41   \n",
       "20000443405819                      0.00             259   \n",
       "20000443434193                      0.00              41   \n",
       "\n",
       "                days_installed_not_subscribed  days_since_last_use  days_used  \\\n",
       "id                                                                              \n",
       "20000443246052                            123                   14         28   \n",
       "20000443252617                            438                   32         10   \n",
       "20000443310150                              0                   41          0   \n",
       "20000443405819                            217                   14         28   \n",
       "20000443434193                              0                   41          0   \n",
       "\n",
       "                accepted  churned  \n",
       "id                                 \n",
       "20000443246052  0.658824        0  \n",
       "20000443252617  0.406250        0  \n",
       "20000443310150  0.230769        0  \n",
       "20000443405819  0.322581        0  \n",
       "20000443434193  0.750000        0  \n",
       "\n",
       "[5 rows x 57 columns]"
      ]
     },
     "execution_count": 29,
     "metadata": {},
     "output_type": "execute_result"
    }
   ],
   "source": [
    "#Assemble all the features\n",
    "#total_features = users_usage_summaries.join(accepted_rate, how='left').join(churned, how='left')\n",
    "total_features = users_usage_summaries.join(users_mean_usage_time, how='left').join(users_mean_acceptance_rate, how='left').join(date_features, how='left').join(accepted_rate, how='left').join(churned, how='left')\n",
    "\n",
    "#This is how our df looks like:\n",
    "print(total_features.shape)\n",
    "total_features.head()"
   ]
  },
  {
   "cell_type": "code",
   "execution_count": 39,
   "metadata": {
    "collapsed": false
   },
   "outputs": [
    {
     "data": {
      "text/plain": [
       "Index(['Adjust', 'Backdrop', 'Crop', 'Darkroom', 'Defocus', 'Eyes', 'Face',\n",
       "       'Filters', 'Light FX', 'Paint', 'Patch', 'Prism', 'Relight', 'Reshape',\n",
       "       'Retouch', 'Touch Up', 'Vignette', 'Adjust_mean_time',\n",
       "       'Backdrop_mean_time', 'Crop_mean_time', 'Darkroom_mean_time',\n",
       "       'Defocus_mean_time', 'Eyes_mean_time', 'Face_mean_time',\n",
       "       'Filters_mean_time', 'Light FX_mean_time', 'Paint_mean_time',\n",
       "       'Patch_mean_time', 'Prism_mean_time', 'Relight_mean_time',\n",
       "       'Reshape_mean_time', 'Retouch_mean_time', 'Touch Up_mean_time',\n",
       "       'Vignette_mean_time', 'Adjust_mean_acceptance',\n",
       "       'Backdrop_mean_acceptance', 'Crop_mean_acceptance',\n",
       "       'Darkroom_mean_acceptance', 'Defocus_mean_acceptance',\n",
       "       'Eyes_mean_acceptance', 'Face_mean_acceptance',\n",
       "       'Filters_mean_acceptance', 'Light FX_mean_acceptance',\n",
       "       'Paint_mean_acceptance', 'Patch_mean_acceptance',\n",
       "       'Prism_mean_acceptance', 'Relight_mean_acceptance',\n",
       "       'Reshape_mean_acceptance', 'Retouch_mean_acceptance',\n",
       "       'Touch Up_mean_acceptance', 'Vignette_mean_acceptance',\n",
       "       'days_installed', 'days_installed_not_subscribed',\n",
       "       'days_since_last_use', 'days_used', 'accepted', 'churned'],\n",
       "      dtype='object')"
      ]
     },
     "execution_count": 39,
     "metadata": {},
     "output_type": "execute_result"
    }
   ],
   "source": [
    "total_features.columns"
   ]
  },
  {
   "cell_type": "code",
   "execution_count": 30,
   "metadata": {
    "collapsed": false
   },
   "outputs": [],
   "source": [
    "#number_of_churned = total_features[total_features['churned']==True].shape[0]\n",
    "#churned_samples = total_features[total_features['churned']==True]\n",
    "#not_churned_samples = total_features[total_features['churned']==False].sample(n=number_of_churned)\n",
    "#total_features = pd.concat([churned_samples, not_churned_samples]).sample(frac=1)\n",
    "#This is how our df looks like:\n",
    "#total_features.shape"
   ]
  },
  {
   "cell_type": "markdown",
   "metadata": {},
   "source": [
    "# Optimizing"
   ]
  },
  {
   "cell_type": "markdown",
   "metadata": {},
   "source": [
    "### Importing main functionalities for setup"
   ]
  },
  {
   "cell_type": "code",
   "execution_count": 31,
   "metadata": {
    "collapsed": true
   },
   "outputs": [],
   "source": [
    "from sklearn.pipeline import make_pipeline\n",
    "from imblearn.pipeline import Pipeline\n",
    "from sklearn.preprocessing import StandardScaler\n",
    "from sklearn.model_selection import GridSearchCV\n",
    "from imblearn.over_sampling import SMOTE"
   ]
  },
  {
   "cell_type": "markdown",
   "metadata": {},
   "source": [
    "### Creating scaler"
   ]
  },
  {
   "cell_type": "code",
   "execution_count": 32,
   "metadata": {
    "collapsed": true
   },
   "outputs": [],
   "source": [
    "scaler = StandardScaler()"
   ]
  },
  {
   "cell_type": "markdown",
   "metadata": {},
   "source": [
    "## Creating grid search"
   ]
  },
  {
   "cell_type": "markdown",
   "metadata": {},
   "source": [
    "### parameters grid"
   ]
  },
  {
   "cell_type": "code",
   "execution_count": 33,
   "metadata": {
    "collapsed": false
   },
   "outputs": [
    {
     "data": {
      "text/plain": [
       "{'classification__mlpclassifier__alpha': array([0.1 , 0.01]),\n",
       " 'classification__mlpclassifier__hidden_layer_sizes': array([5, 6]),\n",
       " 'classification__mlpclassifier__max_iter': [500],\n",
       " 'classification__mlpclassifier__random_state': [0, 1],\n",
       " 'classification__mlpclassifier__solver': ['lbfgs']}"
      ]
     },
     "execution_count": 33,
     "metadata": {},
     "output_type": "execute_result"
    }
   ],
   "source": [
    "#parameters = {'solver': ['lbfgs'], 'max_iter': [500,1000,1500], 'alpha': 10.0 ** -np.arange(1, 7),\n",
    "#              'hidden_layer_sizes':np.arange(5, 12), 'random_state':[0,1,2,3,4,5,6,7,8,9]}\n",
    "parameters = {'classification__mlpclassifier__solver': ['lbfgs'], 'classification__mlpclassifier__max_iter': [500],\n",
    "              'classification__mlpclassifier__alpha': 10.0 ** -np.arange(1, 3),\n",
    "              'classification__mlpclassifier__hidden_layer_sizes':np.arange(5, 7), 'classification__mlpclassifier__random_state':[0,1]}\n",
    "parameters"
   ]
  },
  {
   "cell_type": "markdown",
   "metadata": {},
   "source": [
    "## Creating grid object"
   ]
  },
  {
   "cell_type": "markdown",
   "metadata": {},
   "source": [
    "### algorithm instance"
   ]
  },
  {
   "cell_type": "code",
   "execution_count": 34,
   "metadata": {
    "collapsed": true
   },
   "outputs": [],
   "source": [
    "from sklearn.neural_network import MLPClassifier\n",
    "algorithm = MLPClassifier()"
   ]
  },
  {
   "cell_type": "markdown",
   "metadata": {},
   "source": [
    "### creating pipeline"
   ]
  },
  {
   "cell_type": "code",
   "execution_count": 35,
   "metadata": {
    "collapsed": false
   },
   "outputs": [],
   "source": [
    "pipedAlgo = make_pipeline(scaler, algorithm)\n",
    "modelWithOverSampling = Pipeline([\n",
    "        ('classification', pipedAlgo)\n",
    "    ])"
   ]
  },
  {
   "cell_type": "markdown",
   "metadata": {},
   "source": [
    "### Grid search instance"
   ]
  },
  {
   "cell_type": "code",
   "execution_count": 36,
   "metadata": {
    "collapsed": true
   },
   "outputs": [],
   "source": [
    "gridCV = GridSearchCV(modelWithOverSampling, parameters, n_jobs=-1, cv=5, refit=True, scoring='f1')"
   ]
  },
  {
   "cell_type": "code",
   "execution_count": 37,
   "metadata": {
    "collapsed": false
   },
   "outputs": [],
   "source": [
    "#clf = make_pipeline(scaler, gridCV)"
   ]
  },
  {
   "cell_type": "code",
   "execution_count": 38,
   "metadata": {
    "collapsed": true
   },
   "outputs": [],
   "source": [
    "X = total_features.iloc[:, total_features.columns!='churned'].values\n",
    "y = total_features.loc[:,'churned'].values\n",
    "\n",
    "X_train, X_val, y_train, y_val = train_test_split(X, y, test_size=0.3)"
   ]
  },
  {
   "cell_type": "markdown",
   "metadata": {},
   "source": [
    "### Cross validating on the oversampled dataset"
   ]
  },
  {
   "cell_type": "code",
   "execution_count": null,
   "metadata": {
    "collapsed": false
   },
   "outputs": [],
   "source": [
    "gridCV.fit(X, y)"
   ]
  },
  {
   "cell_type": "code",
   "execution_count": null,
   "metadata": {
    "collapsed": false
   },
   "outputs": [],
   "source": [
    "print(gridCV.best_params_)\n",
    "print(gridCV.best_score_)"
   ]
  },
  {
   "cell_type": "code",
   "execution_count": null,
   "metadata": {
    "collapsed": false,
    "scrolled": true
   },
   "outputs": [],
   "source": [
    "algo = make_pipeline(preprocessing.MinMaxScaler(), svm.LinearSVC(class_weight='balanced'))\n",
    "scores = cross_val_score(algo, X, y, cv=5, scoring='f1')\n",
    "scores.mean()\n",
    "print(np.round(scores.mean(),3))"
   ]
  },
  {
   "cell_type": "code",
   "execution_count": null,
   "metadata": {
    "collapsed": false
   },
   "outputs": [],
   "source": [
    "#algo=tree.DecisionTreeClassifier(criterion='entropy',max_depth = 8)\n",
    "scaler = preprocessing.MinMaxScaler().fit(X_train)\n",
    "X_train_scaled = scaler.transform(X_train)\n",
    "algo  = svm.LinearSVC(class_weight='balanced')\n",
    "train = algo.fit(X_train_scaled, y_train)\n",
    "X_val_scaled = scaler.transform(X_val)\n",
    "res_train=train.predict(X_train_scaled)\n",
    "res=train.predict(X_val_scaled)\n",
    "print(res)"
   ]
  },
  {
   "cell_type": "code",
   "execution_count": null,
   "metadata": {
    "collapsed": false
   },
   "outputs": [],
   "source": [
    "#Let's check the confusion matrix:\n",
    "cm = metrics.confusion_matrix(y_train, res_train)\n",
    "print(cm)\n",
    "print(classification_report(y_pred=res_train,y_true=y_train))\n",
    "# print only f1 score for positive\n",
    "print(np.round(f1_score(y_pred=res_train,y_true=y_train),3))"
   ]
  },
  {
   "cell_type": "code",
   "execution_count": null,
   "metadata": {
    "collapsed": false
   },
   "outputs": [],
   "source": [
    "#Let's check the confusion matrix:\n",
    "cm = metrics.confusion_matrix(y_val, res)\n",
    "print(cm)\n",
    "print(classification_report(y_pred=res,y_true=y_val))\n",
    "# print only f1 score for positive\n",
    "print(np.round(f1_score(y_pred=res,y_true=y_val),3))"
   ]
  },
  {
   "cell_type": "code",
   "execution_count": null,
   "metadata": {
    "collapsed": true
   },
   "outputs": [],
   "source": [
    "#test your predictor:\n",
    "\n",
    "#1.Prepare your test-set (in case you created new features/transformed the input data):\n",
    "df_usage_test = pd.read_csv(\"test_usage_data.csv\")\n",
    "users_usage_summaries_test = pd.pivot_table(df_usage_test[['id', 'feature_name']], index=['id'], columns=['feature_name'], aggfunc=len, fill_value=0)\n",
    "\n",
    "accepted_rate_test = df_usage_test.groupby(['id'])['accepted'].mean().to_frame()\n",
    "\n",
    "#Let's merge the two:\n",
    "users_usage_summaries_test = users_usage_summaries_test.join(accepted_rate_test, how='left')\n",
    "X_test = users_usage_summaries_test.values"
   ]
  },
  {
   "cell_type": "code",
   "execution_count": null,
   "metadata": {
    "collapsed": false
   },
   "outputs": [],
   "source": [
    "users_usage_summaries.shape"
   ]
  },
  {
   "cell_type": "code",
   "execution_count": null,
   "metadata": {
    "collapsed": false
   },
   "outputs": [],
   "source": [
    "#submit result:\n",
    "pred = train.predict(X_test)\n",
    "df = pd.DataFrame(pred, index=users_usage_summaries_test.index.astype(str), columns=['churned'], dtype=str)\n",
    "df.to_csv(out_name, header=True, quoting=csv.QUOTE_NONNUMERIC) "
   ]
  }
 ],
 "metadata": {
  "kernelspec": {
   "display_name": "Python 3",
   "language": "python",
   "name": "python3"
  },
  "language_info": {
   "codemirror_mode": {
    "name": "ipython",
    "version": 3
   },
   "file_extension": ".py",
   "mimetype": "text/x-python",
   "name": "python",
   "nbconvert_exporter": "python",
   "pygments_lexer": "ipython3",
   "version": "3.4.4"
  }
 },
 "nbformat": 4,
 "nbformat_minor": 2
}
