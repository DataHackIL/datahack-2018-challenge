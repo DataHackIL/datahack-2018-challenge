{
 "cells": [
  {
   "cell_type": "markdown",
   "metadata": {},
   "source": [
    "# Lightricks Challenge - DataHack 2018"
   ]
  },
  {
   "cell_type": "code",
   "execution_count": 195,
   "metadata": {
    "collapsed": false
   },
   "outputs": [],
   "source": [
    "import os\n",
    "import sys\n",
    "import operator\n",
    "import numpy as np\n",
    "import pandas as pd\n",
    "import scipy\n",
    "import dateutil\n",
    "from sklearn.model_selection import train_test_split,KFold,cross_val_score\n",
    "# from sklearn.cross_validation import train_test_split, KFold\n",
    "from sklearn import metrics\n",
    "from sklearn.metrics import confusion_matrix, classification_report, f1_score\n",
    "from sklearn import tree\n",
    "import seaborn as sns\n",
    "import matplotlib.pyplot as plt\n",
    "import csv\n",
    "from sklearn import svm\n",
    "from sklearn import preprocessing\n",
    "from sklearn.model_selection import cross_val_score\n",
    "from sklearn.pipeline import make_pipeline"
   ]
  },
  {
   "cell_type": "code",
   "execution_count": 196,
   "metadata": {
    "collapsed": true
   },
   "outputs": [],
   "source": [
    "%matplotlib inline\n",
    "import seaborn as sns\n",
    "sns.set()"
   ]
  },
  {
   "cell_type": "code",
   "execution_count": 197,
   "metadata": {
    "collapsed": true
   },
   "outputs": [],
   "source": [
    "path = './'\n",
    "teamname = 'MadeInJerusalem'\n",
    "out_name = path + teamname + '_submission.csv'"
   ]
  },
  {
   "cell_type": "code",
   "execution_count": 198,
   "metadata": {
    "collapsed": true
   },
   "outputs": [],
   "source": [
    "df_usage = pd.read_csv(path + \"train_usage_data.csv\")"
   ]
  },
  {
   "cell_type": "code",
   "execution_count": 199,
   "metadata": {
    "collapsed": false
   },
   "outputs": [
    {
     "name": "stdout",
     "output_type": "stream",
     "text": [
      "<class 'pandas.core.frame.DataFrame'>\n",
      "RangeIndex: 263814 entries, 0 to 263813\n",
      "Data columns (total 5 columns):\n",
      "id                263814 non-null int64\n",
      "feature_name      263814 non-null object\n",
      "usage_duration    263814 non-null float64\n",
      "end_use_date      263814 non-null object\n",
      "accepted          263814 non-null bool\n",
      "dtypes: bool(1), float64(1), int64(1), object(2)\n",
      "memory usage: 8.3+ MB\n"
     ]
    }
   ],
   "source": [
    "#Looking data format and types\n",
    "df_usage.info()"
   ]
  },
  {
   "cell_type": "markdown",
   "metadata": {},
   "source": [
    "The variables in dataframe \"df_usage\" are:\n",
    "\n",
    "| Field name   | Description | \n",
    "|----------|-------------|\n",
    "| id | User ID |\n",
    "| feature_name | Name of feature used |\n",
    "| usage_duration | Duration in seconds between feature was entered and accepted or canceled |\n",
    "| use_date | Date and time when the feature was entered |\n",
    "| accepted | True if the user accepted the changes by the feature and False if he did not accepted the changes |"
   ]
  },
  {
   "cell_type": "code",
   "execution_count": 200,
   "metadata": {
    "collapsed": false
   },
   "outputs": [
    {
     "data": {
      "text/html": [
       "<div>\n",
       "<style scoped>\n",
       "    .dataframe tbody tr th:only-of-type {\n",
       "        vertical-align: middle;\n",
       "    }\n",
       "\n",
       "    .dataframe tbody tr th {\n",
       "        vertical-align: top;\n",
       "    }\n",
       "\n",
       "    .dataframe thead th {\n",
       "        text-align: right;\n",
       "    }\n",
       "</style>\n",
       "<table border=\"1\" class=\"dataframe\">\n",
       "  <thead>\n",
       "    <tr style=\"text-align: right;\">\n",
       "      <th></th>\n",
       "      <th>id</th>\n",
       "      <th>feature_name</th>\n",
       "      <th>usage_duration</th>\n",
       "      <th>end_use_date</th>\n",
       "      <th>accepted</th>\n",
       "    </tr>\n",
       "  </thead>\n",
       "  <tbody>\n",
       "    <tr>\n",
       "      <th>0</th>\n",
       "      <td>30000429392689</td>\n",
       "      <td>Relight</td>\n",
       "      <td>5.659</td>\n",
       "      <td>2018-04-10 11:18:16</td>\n",
       "      <td>False</td>\n",
       "    </tr>\n",
       "    <tr>\n",
       "      <th>1</th>\n",
       "      <td>440000407817536</td>\n",
       "      <td>Crop</td>\n",
       "      <td>0.984</td>\n",
       "      <td>2018-04-06 16:44:19</td>\n",
       "      <td>False</td>\n",
       "    </tr>\n",
       "    <tr>\n",
       "      <th>2</th>\n",
       "      <td>540000265662400</td>\n",
       "      <td>Crop</td>\n",
       "      <td>1.583</td>\n",
       "      <td>2018-04-21 18:46:24</td>\n",
       "      <td>False</td>\n",
       "    </tr>\n",
       "    <tr>\n",
       "      <th>3</th>\n",
       "      <td>220000444951653</td>\n",
       "      <td>Vignette</td>\n",
       "      <td>4.668</td>\n",
       "      <td>2018-04-30 14:11:22</td>\n",
       "      <td>False</td>\n",
       "    </tr>\n",
       "    <tr>\n",
       "      <th>4</th>\n",
       "      <td>220000444725338</td>\n",
       "      <td>Retouch</td>\n",
       "      <td>185.154</td>\n",
       "      <td>2018-04-29 23:37:34</td>\n",
       "      <td>False</td>\n",
       "    </tr>\n",
       "  </tbody>\n",
       "</table>\n",
       "</div>"
      ],
      "text/plain": [
       "                id feature_name  usage_duration         end_use_date  accepted\n",
       "0   30000429392689      Relight           5.659  2018-04-10 11:18:16     False\n",
       "1  440000407817536         Crop           0.984  2018-04-06 16:44:19     False\n",
       "2  540000265662400         Crop           1.583  2018-04-21 18:46:24     False\n",
       "3  220000444951653     Vignette           4.668  2018-04-30 14:11:22     False\n",
       "4  220000444725338      Retouch         185.154  2018-04-29 23:37:34     False"
      ]
     },
     "execution_count": 200,
     "metadata": {},
     "output_type": "execute_result"
    }
   ],
   "source": [
    "df_usage.head()"
   ]
  },
  {
   "cell_type": "code",
   "execution_count": 201,
   "metadata": {
    "collapsed": true
   },
   "outputs": [],
   "source": [
    "df_users = pd.read_csv(path + \"train_users_data.csv\",parse_dates = [ 'installation_date','subscripiton_date'])"
   ]
  },
  {
   "cell_type": "code",
   "execution_count": 202,
   "metadata": {
    "collapsed": false
   },
   "outputs": [
    {
     "name": "stdout",
     "output_type": "stream",
     "text": [
      "<class 'pandas.core.frame.DataFrame'>\n",
      "RangeIndex: 6998 entries, 0 to 6997\n",
      "Data columns (total 10 columns):\n",
      "Unnamed: 0             6998 non-null int64\n",
      "id                     6998 non-null int64\n",
      "installation_date      6998 non-null datetime64[ns]\n",
      "subscripiton_date      6998 non-null datetime64[ns]\n",
      "country                6996 non-null object\n",
      "initial_app_version    6998 non-null object\n",
      "initial_ios_version    6998 non-null object\n",
      "initial_device         6998 non-null object\n",
      "days_until_churn       3220 non-null float64\n",
      "churned                6998 non-null int64\n",
      "dtypes: datetime64[ns](2), float64(1), int64(3), object(4)\n",
      "memory usage: 546.8+ KB\n"
     ]
    }
   ],
   "source": [
    "df_users.info()"
   ]
  },
  {
   "cell_type": "code",
   "execution_count": 203,
   "metadata": {
    "collapsed": false
   },
   "outputs": [
    {
     "data": {
      "text/html": [
       "<div>\n",
       "<style scoped>\n",
       "    .dataframe tbody tr th:only-of-type {\n",
       "        vertical-align: middle;\n",
       "    }\n",
       "\n",
       "    .dataframe tbody tr th {\n",
       "        vertical-align: top;\n",
       "    }\n",
       "\n",
       "    .dataframe thead th {\n",
       "        text-align: right;\n",
       "    }\n",
       "</style>\n",
       "<table border=\"1\" class=\"dataframe\">\n",
       "  <thead>\n",
       "    <tr style=\"text-align: right;\">\n",
       "      <th></th>\n",
       "      <th>Unnamed: 0</th>\n",
       "      <th>id</th>\n",
       "      <th>installation_date</th>\n",
       "      <th>subscripiton_date</th>\n",
       "      <th>country</th>\n",
       "      <th>initial_app_version</th>\n",
       "      <th>initial_ios_version</th>\n",
       "      <th>initial_device</th>\n",
       "      <th>days_until_churn</th>\n",
       "      <th>churned</th>\n",
       "    </tr>\n",
       "  </thead>\n",
       "  <tbody>\n",
       "    <tr>\n",
       "      <th>0</th>\n",
       "      <td>1</td>\n",
       "      <td>100000415577994</td>\n",
       "      <td>2017-07-16 22:29:31</td>\n",
       "      <td>2018-04-01 01:35:58</td>\n",
       "      <td>Canada</td>\n",
       "      <td>1.9.1</td>\n",
       "      <td>11.2.5</td>\n",
       "      <td>UIDeviceKindIPhoneX</td>\n",
       "      <td>NaN</td>\n",
       "      <td>0</td>\n",
       "    </tr>\n",
       "    <tr>\n",
       "      <th>1</th>\n",
       "      <td>2</td>\n",
       "      <td>100000415580508</td>\n",
       "      <td>2016-12-19 14:28:03</td>\n",
       "      <td>2018-04-01 01:45:40</td>\n",
       "      <td>New Zealand</td>\n",
       "      <td>1.7.5</td>\n",
       "      <td>11.2.1</td>\n",
       "      <td>UIDeviceKindIPhoneX</td>\n",
       "      <td>136.0</td>\n",
       "      <td>0</td>\n",
       "    </tr>\n",
       "    <tr>\n",
       "      <th>2</th>\n",
       "      <td>3</td>\n",
       "      <td>100000415636784</td>\n",
       "      <td>2017-02-09 00:48:33</td>\n",
       "      <td>2018-04-01 05:15:46</td>\n",
       "      <td>United States</td>\n",
       "      <td>1.6</td>\n",
       "      <td>10.3.3</td>\n",
       "      <td>UIDeviceKindIPhone6S</td>\n",
       "      <td>70.0</td>\n",
       "      <td>0</td>\n",
       "    </tr>\n",
       "    <tr>\n",
       "      <th>3</th>\n",
       "      <td>4</td>\n",
       "      <td>100000415750897</td>\n",
       "      <td>2017-12-07 16:03:47</td>\n",
       "      <td>2018-04-01 13:27:22</td>\n",
       "      <td>Turkey</td>\n",
       "      <td>1.9.5</td>\n",
       "      <td>11.2.6</td>\n",
       "      <td>UIDeviceKindIPhone5S</td>\n",
       "      <td>NaN</td>\n",
       "      <td>0</td>\n",
       "    </tr>\n",
       "    <tr>\n",
       "      <th>4</th>\n",
       "      <td>5</td>\n",
       "      <td>100000415825030</td>\n",
       "      <td>2017-12-01 14:59:29</td>\n",
       "      <td>2018-04-01 17:23:33</td>\n",
       "      <td>United States</td>\n",
       "      <td>1.9.5</td>\n",
       "      <td>11.2.6</td>\n",
       "      <td>UIDeviceKindIPhone8</td>\n",
       "      <td>9.0</td>\n",
       "      <td>1</td>\n",
       "    </tr>\n",
       "  </tbody>\n",
       "</table>\n",
       "</div>"
      ],
      "text/plain": [
       "   Unnamed: 0               id   installation_date   subscripiton_date  \\\n",
       "0           1  100000415577994 2017-07-16 22:29:31 2018-04-01 01:35:58   \n",
       "1           2  100000415580508 2016-12-19 14:28:03 2018-04-01 01:45:40   \n",
       "2           3  100000415636784 2017-02-09 00:48:33 2018-04-01 05:15:46   \n",
       "3           4  100000415750897 2017-12-07 16:03:47 2018-04-01 13:27:22   \n",
       "4           5  100000415825030 2017-12-01 14:59:29 2018-04-01 17:23:33   \n",
       "\n",
       "         country initial_app_version initial_ios_version  \\\n",
       "0         Canada               1.9.1              11.2.5   \n",
       "1    New Zealand               1.7.5              11.2.1   \n",
       "2  United States                 1.6              10.3.3   \n",
       "3         Turkey               1.9.5              11.2.6   \n",
       "4  United States               1.9.5              11.2.6   \n",
       "\n",
       "         initial_device  days_until_churn  churned  \n",
       "0   UIDeviceKindIPhoneX               NaN        0  \n",
       "1   UIDeviceKindIPhoneX             136.0        0  \n",
       "2  UIDeviceKindIPhone6S              70.0        0  \n",
       "3  UIDeviceKindIPhone5S               NaN        0  \n",
       "4   UIDeviceKindIPhone8               9.0        1  "
      ]
     },
     "execution_count": 203,
     "metadata": {},
     "output_type": "execute_result"
    }
   ],
   "source": [
    "df_users.head()"
   ]
  },
  {
   "cell_type": "markdown",
   "metadata": {},
   "source": [
    "The variables in dataframe \"df_users\" are:\n",
    "\n",
    "| Field name   | Description | \n",
    "|----------|-------------|\n",
    "| id | User ID |\n",
    "| installation_date | Date and time when the application was first installed |\n",
    "| subscription_date | Date and time when the user joined as a subscriber |\n",
    "| country | Country where the user is based |\n",
    "| days_until_churned | Days before the user decided to leave the subscription (churn). NaN if the user has not churned |\n",
    "| churned | False if the user is still a subscriber and True if the user stopped his subscription. |"
   ]
  },
  {
   "cell_type": "code",
   "execution_count": 204,
   "metadata": {
    "collapsed": false,
    "scrolled": true
   },
   "outputs": [
    {
     "data": {
      "text/html": [
       "<div>\n",
       "<style scoped>\n",
       "    .dataframe tbody tr th:only-of-type {\n",
       "        vertical-align: middle;\n",
       "    }\n",
       "\n",
       "    .dataframe tbody tr th {\n",
       "        vertical-align: top;\n",
       "    }\n",
       "\n",
       "    .dataframe thead th {\n",
       "        text-align: right;\n",
       "    }\n",
       "</style>\n",
       "<table border=\"1\" class=\"dataframe\">\n",
       "  <thead>\n",
       "    <tr style=\"text-align: right;\">\n",
       "      <th></th>\n",
       "      <th>id</th>\n",
       "      <th>installation_date</th>\n",
       "      <th>subscripiton_date</th>\n",
       "      <th>country</th>\n",
       "      <th>initial_app_version</th>\n",
       "      <th>initial_ios_version</th>\n",
       "      <th>initial_device</th>\n",
       "      <th>days_until_churn</th>\n",
       "      <th>churned</th>\n",
       "    </tr>\n",
       "  </thead>\n",
       "  <tbody>\n",
       "    <tr>\n",
       "      <th>0</th>\n",
       "      <td>100000415577994</td>\n",
       "      <td>2017-07-16 22:29:31</td>\n",
       "      <td>2018-04-01 01:35:58</td>\n",
       "      <td>Canada</td>\n",
       "      <td>1.9.1</td>\n",
       "      <td>11.2.5</td>\n",
       "      <td>UIDeviceKindIPhoneX</td>\n",
       "      <td>NaN</td>\n",
       "      <td>0</td>\n",
       "    </tr>\n",
       "    <tr>\n",
       "      <th>1</th>\n",
       "      <td>100000415580508</td>\n",
       "      <td>2016-12-19 14:28:03</td>\n",
       "      <td>2018-04-01 01:45:40</td>\n",
       "      <td>New Zealand</td>\n",
       "      <td>1.7.5</td>\n",
       "      <td>11.2.1</td>\n",
       "      <td>UIDeviceKindIPhoneX</td>\n",
       "      <td>136.0</td>\n",
       "      <td>0</td>\n",
       "    </tr>\n",
       "    <tr>\n",
       "      <th>2</th>\n",
       "      <td>100000415636784</td>\n",
       "      <td>2017-02-09 00:48:33</td>\n",
       "      <td>2018-04-01 05:15:46</td>\n",
       "      <td>United States</td>\n",
       "      <td>1.6</td>\n",
       "      <td>10.3.3</td>\n",
       "      <td>UIDeviceKindIPhone6S</td>\n",
       "      <td>70.0</td>\n",
       "      <td>0</td>\n",
       "    </tr>\n",
       "    <tr>\n",
       "      <th>3</th>\n",
       "      <td>100000415750897</td>\n",
       "      <td>2017-12-07 16:03:47</td>\n",
       "      <td>2018-04-01 13:27:22</td>\n",
       "      <td>Turkey</td>\n",
       "      <td>1.9.5</td>\n",
       "      <td>11.2.6</td>\n",
       "      <td>UIDeviceKindIPhone5S</td>\n",
       "      <td>NaN</td>\n",
       "      <td>0</td>\n",
       "    </tr>\n",
       "    <tr>\n",
       "      <th>4</th>\n",
       "      <td>100000415825030</td>\n",
       "      <td>2017-12-01 14:59:29</td>\n",
       "      <td>2018-04-01 17:23:33</td>\n",
       "      <td>United States</td>\n",
       "      <td>1.9.5</td>\n",
       "      <td>11.2.6</td>\n",
       "      <td>UIDeviceKindIPhone8</td>\n",
       "      <td>9.0</td>\n",
       "      <td>1</td>\n",
       "    </tr>\n",
       "  </tbody>\n",
       "</table>\n",
       "</div>"
      ],
      "text/plain": [
       "                id   installation_date   subscripiton_date        country  \\\n",
       "0  100000415577994 2017-07-16 22:29:31 2018-04-01 01:35:58         Canada   \n",
       "1  100000415580508 2016-12-19 14:28:03 2018-04-01 01:45:40    New Zealand   \n",
       "2  100000415636784 2017-02-09 00:48:33 2018-04-01 05:15:46  United States   \n",
       "3  100000415750897 2017-12-07 16:03:47 2018-04-01 13:27:22         Turkey   \n",
       "4  100000415825030 2017-12-01 14:59:29 2018-04-01 17:23:33  United States   \n",
       "\n",
       "  initial_app_version initial_ios_version        initial_device  \\\n",
       "0               1.9.1              11.2.5   UIDeviceKindIPhoneX   \n",
       "1               1.7.5              11.2.1   UIDeviceKindIPhoneX   \n",
       "2                 1.6              10.3.3  UIDeviceKindIPhone6S   \n",
       "3               1.9.5              11.2.6  UIDeviceKindIPhone5S   \n",
       "4               1.9.5              11.2.6   UIDeviceKindIPhone8   \n",
       "\n",
       "   days_until_churn  churned  \n",
       "0               NaN        0  \n",
       "1             136.0        0  \n",
       "2              70.0        0  \n",
       "3               NaN        0  \n",
       "4               9.0        1  "
      ]
     },
     "execution_count": 204,
     "metadata": {},
     "output_type": "execute_result"
    }
   ],
   "source": [
    "df_users = df_users.drop(columns='Unnamed: 0')\n",
    "df_users.head()"
   ]
  },
  {
   "cell_type": "markdown",
   "metadata": {},
   "source": [
    "# Data exploration:"
   ]
  },
  {
   "cell_type": "code",
   "execution_count": 205,
   "metadata": {
    "collapsed": false
   },
   "outputs": [
    {
     "data": {
      "text/plain": [
       "<matplotlib.axes._subplots.AxesSubplot at 0x180939280f0>"
      ]
     },
     "execution_count": 205,
     "metadata": {},
     "output_type": "execute_result"
    },
    {
     "data": {
      "image/png": "[encoded data removed]",
      "text/plain": [
       "<matplotlib.figure.Figure at 0x1809393c080>"
      ]
     },
     "metadata": {},
     "output_type": "display_data"
    }
   ],
   "source": [
    "df_users['churned'].value_counts().plot('bar')"
   ]
  },
  {
   "cell_type": "code",
   "execution_count": 206,
   "metadata": {
    "collapsed": true
   },
   "outputs": [],
   "source": [
    "joined_df = df_usage.join(df_users.set_index('id'),on='id')"
   ]
  },
  {
   "cell_type": "code",
   "execution_count": 207,
   "metadata": {
    "collapsed": false
   },
   "outputs": [
    {
     "data": {
      "text/html": [
       "<div>\n",
       "<style scoped>\n",
       "    .dataframe tbody tr th:only-of-type {\n",
       "        vertical-align: middle;\n",
       "    }\n",
       "\n",
       "    .dataframe tbody tr th {\n",
       "        vertical-align: top;\n",
       "    }\n",
       "\n",
       "    .dataframe thead th {\n",
       "        text-align: right;\n",
       "    }\n",
       "</style>\n",
       "<table border=\"1\" class=\"dataframe\">\n",
       "  <thead>\n",
       "    <tr style=\"text-align: right;\">\n",
       "      <th></th>\n",
       "      <th>id</th>\n",
       "      <th>feature_name</th>\n",
       "      <th>usage_duration</th>\n",
       "      <th>end_use_date</th>\n",
       "      <th>accepted</th>\n",
       "      <th>installation_date</th>\n",
       "      <th>subscripiton_date</th>\n",
       "      <th>country</th>\n",
       "      <th>initial_app_version</th>\n",
       "      <th>initial_ios_version</th>\n",
       "      <th>initial_device</th>\n",
       "      <th>days_until_churn</th>\n",
       "      <th>churned</th>\n",
       "    </tr>\n",
       "  </thead>\n",
       "  <tbody>\n",
       "    <tr>\n",
       "      <th>0</th>\n",
       "      <td>30000429392689</td>\n",
       "      <td>Relight</td>\n",
       "      <td>5.659</td>\n",
       "      <td>2018-04-10 11:18:16</td>\n",
       "      <td>False</td>\n",
       "      <td>2018-02-26 07:01:08</td>\n",
       "      <td>2018-04-08 09:38:19</td>\n",
       "      <td>Australia</td>\n",
       "      <td>1.9.6</td>\n",
       "      <td>11.2.6</td>\n",
       "      <td>UIDeviceKindIPhoneX</td>\n",
       "      <td>NaN</td>\n",
       "      <td>0</td>\n",
       "    </tr>\n",
       "    <tr>\n",
       "      <th>1</th>\n",
       "      <td>440000407817536</td>\n",
       "      <td>Crop</td>\n",
       "      <td>0.984</td>\n",
       "      <td>2018-04-06 16:44:19</td>\n",
       "      <td>False</td>\n",
       "      <td>2017-07-21 20:04:15</td>\n",
       "      <td>2018-04-05 22:39:32</td>\n",
       "      <td>United Kingdom</td>\n",
       "      <td>1.9.6</td>\n",
       "      <td>11.2.5</td>\n",
       "      <td>UIDeviceKindIPhoneX</td>\n",
       "      <td>NaN</td>\n",
       "      <td>0</td>\n",
       "    </tr>\n",
       "    <tr>\n",
       "      <th>2</th>\n",
       "      <td>540000265662400</td>\n",
       "      <td>Crop</td>\n",
       "      <td>1.583</td>\n",
       "      <td>2018-04-21 18:46:24</td>\n",
       "      <td>False</td>\n",
       "      <td>2018-04-21 02:01:23</td>\n",
       "      <td>2018-04-21 02:14:14</td>\n",
       "      <td>United States</td>\n",
       "      <td>1.9.6</td>\n",
       "      <td>11.2</td>\n",
       "      <td>UIDeviceKindIPhone8</td>\n",
       "      <td>NaN</td>\n",
       "      <td>0</td>\n",
       "    </tr>\n",
       "    <tr>\n",
       "      <th>3</th>\n",
       "      <td>220000444951653</td>\n",
       "      <td>Vignette</td>\n",
       "      <td>4.668</td>\n",
       "      <td>2018-04-30 14:11:22</td>\n",
       "      <td>False</td>\n",
       "      <td>2018-04-30 12:45:44</td>\n",
       "      <td>2018-04-30 12:57:44</td>\n",
       "      <td>Australia</td>\n",
       "      <td>1.9.6</td>\n",
       "      <td>11.2.5</td>\n",
       "      <td>UIDeviceKindIPhone7Plus</td>\n",
       "      <td>NaN</td>\n",
       "      <td>0</td>\n",
       "    </tr>\n",
       "    <tr>\n",
       "      <th>4</th>\n",
       "      <td>220000444725338</td>\n",
       "      <td>Retouch</td>\n",
       "      <td>185.154</td>\n",
       "      <td>2018-04-29 23:37:34</td>\n",
       "      <td>False</td>\n",
       "      <td>2018-04-29 21:14:23</td>\n",
       "      <td>2018-04-29 22:07:56</td>\n",
       "      <td>United States</td>\n",
       "      <td>1.9.6</td>\n",
       "      <td>11.2.6</td>\n",
       "      <td>UIDeviceKindIPhone6Plus</td>\n",
       "      <td>31.0</td>\n",
       "      <td>0</td>\n",
       "    </tr>\n",
       "  </tbody>\n",
       "</table>\n",
       "</div>"
      ],
      "text/plain": [
       "                id feature_name  usage_duration         end_use_date  \\\n",
       "0   30000429392689      Relight           5.659  2018-04-10 11:18:16   \n",
       "1  440000407817536         Crop           0.984  2018-04-06 16:44:19   \n",
       "2  540000265662400         Crop           1.583  2018-04-21 18:46:24   \n",
       "3  220000444951653     Vignette           4.668  2018-04-30 14:11:22   \n",
       "4  220000444725338      Retouch         185.154  2018-04-29 23:37:34   \n",
       "\n",
       "   accepted   installation_date   subscripiton_date         country  \\\n",
       "0     False 2018-02-26 07:01:08 2018-04-08 09:38:19       Australia   \n",
       "1     False 2017-07-21 20:04:15 2018-04-05 22:39:32  United Kingdom   \n",
       "2     False 2018-04-21 02:01:23 2018-04-21 02:14:14   United States   \n",
       "3     False 2018-04-30 12:45:44 2018-04-30 12:57:44       Australia   \n",
       "4     False 2018-04-29 21:14:23 2018-04-29 22:07:56   United States   \n",
       "\n",
       "  initial_app_version initial_ios_version           initial_device  \\\n",
       "0               1.9.6              11.2.6      UIDeviceKindIPhoneX   \n",
       "1               1.9.6              11.2.5      UIDeviceKindIPhoneX   \n",
       "2               1.9.6                11.2      UIDeviceKindIPhone8   \n",
       "3               1.9.6              11.2.5  UIDeviceKindIPhone7Plus   \n",
       "4               1.9.6              11.2.6  UIDeviceKindIPhone6Plus   \n",
       "\n",
       "   days_until_churn  churned  \n",
       "0               NaN        0  \n",
       "1               NaN        0  \n",
       "2               NaN        0  \n",
       "3               NaN        0  \n",
       "4              31.0        0  "
      ]
     },
     "execution_count": 207,
     "metadata": {},
     "output_type": "execute_result"
    }
   ],
   "source": [
    "joined_df.head()"
   ]
  },
  {
   "cell_type": "code",
   "execution_count": 208,
   "metadata": {
    "collapsed": false
   },
   "outputs": [
    {
     "data": {
      "text/html": [
       "<div>\n",
       "<style scoped>\n",
       "    .dataframe tbody tr th:only-of-type {\n",
       "        vertical-align: middle;\n",
       "    }\n",
       "\n",
       "    .dataframe tbody tr th {\n",
       "        vertical-align: top;\n",
       "    }\n",
       "\n",
       "    .dataframe thead th {\n",
       "        text-align: right;\n",
       "    }\n",
       "</style>\n",
       "<table border=\"1\" class=\"dataframe\">\n",
       "  <thead>\n",
       "    <tr style=\"text-align: right;\">\n",
       "      <th></th>\n",
       "      <th>usage_duration</th>\n",
       "    </tr>\n",
       "  </thead>\n",
       "  <tbody>\n",
       "    <tr>\n",
       "      <th>0</th>\n",
       "      <td>5.659</td>\n",
       "    </tr>\n",
       "    <tr>\n",
       "      <th>1</th>\n",
       "      <td>0.984</td>\n",
       "    </tr>\n",
       "    <tr>\n",
       "      <th>2</th>\n",
       "      <td>1.583</td>\n",
       "    </tr>\n",
       "    <tr>\n",
       "      <th>3</th>\n",
       "      <td>4.668</td>\n",
       "    </tr>\n",
       "    <tr>\n",
       "      <th>4</th>\n",
       "      <td>185.154</td>\n",
       "    </tr>\n",
       "  </tbody>\n",
       "</table>\n",
       "</div>"
      ],
      "text/plain": [
       "   usage_duration\n",
       "0           5.659\n",
       "1           0.984\n",
       "2           1.583\n",
       "3           4.668\n",
       "4         185.154"
      ]
     },
     "execution_count": 208,
     "metadata": {},
     "output_type": "execute_result"
    }
   ],
   "source": [
    "joined_df.usage_duration.to_frame().head()"
   ]
  },
  {
   "cell_type": "code",
   "execution_count": 209,
   "metadata": {
    "collapsed": false
   },
   "outputs": [
    {
     "data": {
      "text/plain": [
       "(17,)"
      ]
     },
     "execution_count": 209,
     "metadata": {},
     "output_type": "execute_result"
    }
   ],
   "source": [
    "total_number_of_usage_per_feature = df_usage['feature_name'].value_counts()\n",
    "total_number_of_usage_per_feature.shape"
   ]
  },
  {
   "cell_type": "code",
   "execution_count": 210,
   "metadata": {
    "collapsed": true
   },
   "outputs": [],
   "source": [
    "k = 10\n",
    "top_k_features_churned = joined_df[joined_df['churned']==True]['feature_name'].value_counts().index[:k]\n",
    "top_k_features_not_churned = joined_df[joined_df['churned']==False]['feature_name'].value_counts().index[:k]"
   ]
  },
  {
   "cell_type": "code",
   "execution_count": 211,
   "metadata": {
    "collapsed": false
   },
   "outputs": [
    {
     "data": {
      "text/plain": [
       "Index(['Vignette', 'Light FX', 'Crop', 'Retouch', 'Darkroom', 'Touch Up',\n",
       "       'Prism', 'Filters', 'Adjust', 'Paint'],\n",
       "      dtype='object')"
      ]
     },
     "execution_count": 211,
     "metadata": {},
     "output_type": "execute_result"
    }
   ],
   "source": [
    "top_k_features_not_churned"
   ]
  },
  {
   "cell_type": "code",
   "execution_count": 212,
   "metadata": {
    "collapsed": false
   },
   "outputs": [
    {
     "data": {
      "text/html": [
       "<div>\n",
       "<style scoped>\n",
       "    .dataframe tbody tr th:only-of-type {\n",
       "        vertical-align: middle;\n",
       "    }\n",
       "\n",
       "    .dataframe tbody tr th {\n",
       "        vertical-align: top;\n",
       "    }\n",
       "\n",
       "    .dataframe thead th {\n",
       "        text-align: right;\n",
       "    }\n",
       "</style>\n",
       "<table border=\"1\" class=\"dataframe\">\n",
       "  <thead>\n",
       "    <tr style=\"text-align: right;\">\n",
       "      <th></th>\n",
       "      <th>id</th>\n",
       "      <th>feature_name</th>\n",
       "      <th>usage_duration</th>\n",
       "      <th>end_use_date</th>\n",
       "      <th>accepted</th>\n",
       "      <th>installation_date</th>\n",
       "      <th>subscripiton_date</th>\n",
       "      <th>country</th>\n",
       "      <th>initial_app_version</th>\n",
       "      <th>initial_ios_version</th>\n",
       "      <th>initial_device</th>\n",
       "      <th>days_until_churn</th>\n",
       "      <th>churned</th>\n",
       "    </tr>\n",
       "  </thead>\n",
       "  <tbody>\n",
       "    <tr>\n",
       "      <th>11257</th>\n",
       "      <td>720000252018353</td>\n",
       "      <td>Light FX</td>\n",
       "      <td>60.660</td>\n",
       "      <td>2018-04-30 04:29:32</td>\n",
       "      <td>True</td>\n",
       "      <td>2017-09-03 02:05:27</td>\n",
       "      <td>2018-04-30 02:02:01</td>\n",
       "      <td>United States</td>\n",
       "      <td>1.9.6</td>\n",
       "      <td>11.3</td>\n",
       "      <td>UIDeviceKindIPhone7</td>\n",
       "      <td>23.0</td>\n",
       "      <td>1</td>\n",
       "    </tr>\n",
       "    <tr>\n",
       "      <th>11259</th>\n",
       "      <td>600000282080576</td>\n",
       "      <td>Vignette</td>\n",
       "      <td>24.301</td>\n",
       "      <td>2018-04-07 00:15:17</td>\n",
       "      <td>True</td>\n",
       "      <td>2017-04-03 23:18:27</td>\n",
       "      <td>2018-04-06 23:50:54</td>\n",
       "      <td>United States</td>\n",
       "      <td>1.3.1</td>\n",
       "      <td>9.2.1</td>\n",
       "      <td>UIDeviceKindIPhone6S</td>\n",
       "      <td>8.0</td>\n",
       "      <td>1</td>\n",
       "    </tr>\n",
       "    <tr>\n",
       "      <th>11266</th>\n",
       "      <td>710000287544169</td>\n",
       "      <td>Light FX</td>\n",
       "      <td>52.603</td>\n",
       "      <td>2018-04-16 04:00:36</td>\n",
       "      <td>True</td>\n",
       "      <td>2018-04-16 00:56:59</td>\n",
       "      <td>2018-04-16 01:02:31</td>\n",
       "      <td>India</td>\n",
       "      <td>1.9.6</td>\n",
       "      <td>11.3</td>\n",
       "      <td>UIDeviceKindIPhone6</td>\n",
       "      <td>11.0</td>\n",
       "      <td>1</td>\n",
       "    </tr>\n",
       "    <tr>\n",
       "      <th>11283</th>\n",
       "      <td>160000445692440</td>\n",
       "      <td>Filters</td>\n",
       "      <td>15.174</td>\n",
       "      <td>2018-04-06 18:06:13</td>\n",
       "      <td>True</td>\n",
       "      <td>2018-02-11 16:12:36</td>\n",
       "      <td>2018-04-06 18:04:41</td>\n",
       "      <td>United States</td>\n",
       "      <td>1.9.3</td>\n",
       "      <td>11.2.6</td>\n",
       "      <td>UIDeviceKindIPhone8Plus</td>\n",
       "      <td>25.0</td>\n",
       "      <td>1</td>\n",
       "    </tr>\n",
       "    <tr>\n",
       "      <th>11427</th>\n",
       "      <td>160000445692440</td>\n",
       "      <td>Filters</td>\n",
       "      <td>6.258</td>\n",
       "      <td>2018-04-06 18:08:02</td>\n",
       "      <td>True</td>\n",
       "      <td>2018-02-11 16:12:36</td>\n",
       "      <td>2018-04-06 18:04:41</td>\n",
       "      <td>United States</td>\n",
       "      <td>1.9.3</td>\n",
       "      <td>11.2.6</td>\n",
       "      <td>UIDeviceKindIPhone8Plus</td>\n",
       "      <td>25.0</td>\n",
       "      <td>1</td>\n",
       "    </tr>\n",
       "  </tbody>\n",
       "</table>\n",
       "</div>"
      ],
      "text/plain": [
       "                    id feature_name  usage_duration         end_use_date  \\\n",
       "11257  720000252018353     Light FX          60.660  2018-04-30 04:29:32   \n",
       "11259  600000282080576     Vignette          24.301  2018-04-07 00:15:17   \n",
       "11266  710000287544169     Light FX          52.603  2018-04-16 04:00:36   \n",
       "11283  160000445692440      Filters          15.174  2018-04-06 18:06:13   \n",
       "11427  160000445692440      Filters           6.258  2018-04-06 18:08:02   \n",
       "\n",
       "       accepted   installation_date   subscripiton_date        country  \\\n",
       "11257      True 2017-09-03 02:05:27 2018-04-30 02:02:01  United States   \n",
       "11259      True 2017-04-03 23:18:27 2018-04-06 23:50:54  United States   \n",
       "11266      True 2018-04-16 00:56:59 2018-04-16 01:02:31          India   \n",
       "11283      True 2018-02-11 16:12:36 2018-04-06 18:04:41  United States   \n",
       "11427      True 2018-02-11 16:12:36 2018-04-06 18:04:41  United States   \n",
       "\n",
       "      initial_app_version initial_ios_version           initial_device  \\\n",
       "11257               1.9.6                11.3      UIDeviceKindIPhone7   \n",
       "11259               1.3.1               9.2.1     UIDeviceKindIPhone6S   \n",
       "11266               1.9.6                11.3      UIDeviceKindIPhone6   \n",
       "11283               1.9.3              11.2.6  UIDeviceKindIPhone8Plus   \n",
       "11427               1.9.3              11.2.6  UIDeviceKindIPhone8Plus   \n",
       "\n",
       "       days_until_churn  churned  \n",
       "11257              23.0        1  \n",
       "11259               8.0        1  \n",
       "11266              11.0        1  \n",
       "11283              25.0        1  \n",
       "11427              25.0        1  "
      ]
     },
     "execution_count": 212,
     "metadata": {},
     "output_type": "execute_result"
    }
   ],
   "source": [
    "df_churned = joined_df[(joined_df['churned']==True) & (joined_df['accepted']==True)]\n",
    "df_churned.head()"
   ]
  },
  {
   "cell_type": "code",
   "execution_count": 213,
   "metadata": {
    "collapsed": false,
    "scrolled": true
   },
   "outputs": [
    {
     "name": "stderr",
     "output_type": "stream",
     "text": [
      "C:\\Programs\\Anaconda\\lib\\site-packages\\seaborn\\categorical.py:1428: FutureWarning: remove_na is deprecated and is a private function. Do not use.\n",
      "  stat_data = remove_na(group_data)\n"
     ]
    },
    {
     "data": {
      "text/plain": [
       "<matplotlib.text.Text at 0x18093e87ac8>"
      ]
     },
     "execution_count": 213,
     "metadata": {},
     "output_type": "execute_result"
    },
    {
     "data": {
      "image/png": "[encoded data removed]",
      "text/plain": [
       "<matplotlib.figure.Figure at 0x180acf7edd8>"
      ]
     },
     "metadata": {},
     "output_type": "display_data"
    }
   ],
   "source": [
    "#What are the most popular features, within each class:\n",
    "\n",
    "#total_number_of_usage_per_feature = df_usage['feature_name'].value_counts()\n",
    "\n",
    "\n",
    "\n",
    "# k = 10\n",
    "# top_k_features_churned = joined_df[joined_df['churned']==True]['feature_name'].value_counts().index[:k]\n",
    "# top_k_features_not_churned = joined_df[joined_df['churned']==False]['feature_name'].value_counts().index[:k]\n",
    "\n",
    "\n",
    "fig, ax = plt.subplots(2,1, figsize=(17,12))\n",
    "df_churned = joined_df[(joined_df['churned']==True) & (joined_df['accepted']==True)]\n",
    "p = sns.countplot(data=df_churned[df_churned['feature_name'].isin(top_k_features_churned)], x='feature_name', order = top_k_features_churned, ax=ax[0])\n",
    "\n",
    "df_not_churned = joined_df[(joined_df['churned']==False) & (joined_df['accepted']==True)]\n",
    "q = sns.countplot(data=df_not_churned[df_not_churned['feature_name'].isin(top_k_features_not_churned)], x='feature_name', order = top_k_features_not_churned, ax=ax[1])\n",
    "\n",
    "ax[0].set_title('Most used features, churned=1')\n",
    "ax[1].set_title('Most used features, churned=0')"
   ]
  },
  {
   "cell_type": "code",
   "execution_count": 214,
   "metadata": {
    "collapsed": false,
    "scrolled": true
   },
   "outputs": [
    {
     "data": {
      "text/html": [
       "<div>\n",
       "<style scoped>\n",
       "    .dataframe tbody tr th:only-of-type {\n",
       "        vertical-align: middle;\n",
       "    }\n",
       "\n",
       "    .dataframe tbody tr th {\n",
       "        vertical-align: top;\n",
       "    }\n",
       "\n",
       "    .dataframe thead th {\n",
       "        text-align: right;\n",
       "    }\n",
       "</style>\n",
       "<table border=\"1\" class=\"dataframe\">\n",
       "  <thead>\n",
       "    <tr style=\"text-align: right;\">\n",
       "      <th></th>\n",
       "      <th></th>\n",
       "      <th></th>\n",
       "      <th>usage_duration</th>\n",
       "      <th>accepted</th>\n",
       "      <th>days_until_churn</th>\n",
       "    </tr>\n",
       "    <tr>\n",
       "      <th>id</th>\n",
       "      <th>churned</th>\n",
       "      <th>feature_name</th>\n",
       "      <th></th>\n",
       "      <th></th>\n",
       "      <th></th>\n",
       "    </tr>\n",
       "  </thead>\n",
       "  <tbody>\n",
       "    <tr>\n",
       "      <th rowspan=\"5\" valign=\"top\">20000443246052</th>\n",
       "      <th rowspan=\"5\" valign=\"top\">0</th>\n",
       "      <th>Adjust</th>\n",
       "      <td>50.352000</td>\n",
       "      <td>0.000000</td>\n",
       "      <td>NaN</td>\n",
       "    </tr>\n",
       "    <tr>\n",
       "      <th>Crop</th>\n",
       "      <td>17.437571</td>\n",
       "      <td>0.571429</td>\n",
       "      <td>NaN</td>\n",
       "    </tr>\n",
       "    <tr>\n",
       "      <th>Darkroom</th>\n",
       "      <td>19.860500</td>\n",
       "      <td>0.500000</td>\n",
       "      <td>NaN</td>\n",
       "    </tr>\n",
       "    <tr>\n",
       "      <th>Defocus</th>\n",
       "      <td>14.732000</td>\n",
       "      <td>1.000000</td>\n",
       "      <td>NaN</td>\n",
       "    </tr>\n",
       "    <tr>\n",
       "      <th>Eyes</th>\n",
       "      <td>4.765000</td>\n",
       "      <td>1.000000</td>\n",
       "      <td>NaN</td>\n",
       "    </tr>\n",
       "  </tbody>\n",
       "</table>\n",
       "</div>"
      ],
      "text/plain": [
       "                                     usage_duration  accepted  \\\n",
       "id             churned feature_name                             \n",
       "20000443246052 0       Adjust             50.352000  0.000000   \n",
       "                       Crop               17.437571  0.571429   \n",
       "                       Darkroom           19.860500  0.500000   \n",
       "                       Defocus            14.732000  1.000000   \n",
       "                       Eyes                4.765000  1.000000   \n",
       "\n",
       "                                     days_until_churn  \n",
       "id             churned feature_name                    \n",
       "20000443246052 0       Adjust                     NaN  \n",
       "                       Crop                       NaN  \n",
       "                       Darkroom                   NaN  \n",
       "                       Defocus                    NaN  \n",
       "                       Eyes                       NaN  "
      ]
     },
     "execution_count": 214,
     "metadata": {},
     "output_type": "execute_result"
    }
   ],
   "source": [
    "groupedDf = joined_df.groupby(['id', 'churned', 'feature_name'])\n",
    "groupedDf.mean().head()"
   ]
  },
  {
   "cell_type": "code",
   "execution_count": 215,
   "metadata": {
    "collapsed": false
   },
   "outputs": [
    {
     "data": {
      "text/plain": [
       "<matplotlib.axes._subplots.AxesSubplot at 0x180acf77b38>"
      ]
     },
     "execution_count": 215,
     "metadata": {},
     "output_type": "execute_result"
    },
    {
     "data": {
      "image/png": "[encoded data removed]",
      "text/plain": [
       "<matplotlib.figure.Figure at 0x180acf6d668>"
      ]
     },
     "metadata": {},
     "output_type": "display_data"
    }
   ],
   "source": [
    "joined_df.groupby(['id', 'churned'])[['accepted']].mean().boxplot(by='churned')"
   ]
  },
  {
   "cell_type": "markdown",
   "metadata": {},
   "source": [
    "# TODO: Filter outliers"
   ]
  },
  {
   "cell_type": "code",
   "execution_count": 216,
   "metadata": {
    "collapsed": true
   },
   "outputs": [],
   "source": [
    "#end_of_time_series = np.log(joined_df['usage_duration']).hist()\n",
    "joined_df = joined_df[joined_df['usage_duration']<200]"
   ]
  },
  {
   "cell_type": "markdown",
   "metadata": {},
   "source": [
    "# Creating our input data:"
   ]
  },
  {
   "cell_type": "code",
   "execution_count": 217,
   "metadata": {
    "collapsed": true
   },
   "outputs": [],
   "source": [
    "app_ver_map = joined_df.groupby(['initial_app_version'])['churned'].mean()\n",
    "ios_ver_map = joined_df.groupby(['initial_ios_version'])['churned'].mean()\n",
    "device_map = joined_df.groupby(['initial_device'])['churned'].mean()\n",
    "country_map = joined_df.groupby(['country'])['churned'].mean()"
   ]
  },
  {
   "cell_type": "code",
   "execution_count": 291,
   "metadata": {
    "collapsed": false
   },
   "outputs": [
    {
     "data": {
      "text/html": [
       "<div>\n",
       "<style scoped>\n",
       "    .dataframe tbody tr th:only-of-type {\n",
       "        vertical-align: middle;\n",
       "    }\n",
       "\n",
       "    .dataframe tbody tr th {\n",
       "        vertical-align: top;\n",
       "    }\n",
       "\n",
       "    .dataframe thead th {\n",
       "        text-align: right;\n",
       "    }\n",
       "</style>\n",
       "<table border=\"1\" class=\"dataframe\">\n",
       "  <thead>\n",
       "    <tr style=\"text-align: right;\">\n",
       "      <th></th>\n",
       "      <th>initial_app_version</th>\n",
       "    </tr>\n",
       "    <tr>\n",
       "      <th>id</th>\n",
       "      <th></th>\n",
       "    </tr>\n",
       "  </thead>\n",
       "  <tbody>\n",
       "    <tr>\n",
       "      <th>20000443246052</th>\n",
       "      <td>1.9.5</td>\n",
       "    </tr>\n",
       "    <tr>\n",
       "      <th>20000443252617</th>\n",
       "      <td>1.7.5</td>\n",
       "    </tr>\n",
       "    <tr>\n",
       "      <th>20000443310150</th>\n",
       "      <td>1.9.5</td>\n",
       "    </tr>\n",
       "    <tr>\n",
       "      <th>20000443405819</th>\n",
       "      <td>1.9.5</td>\n",
       "    </tr>\n",
       "    <tr>\n",
       "      <th>20000443434193</th>\n",
       "      <td>1.9.5</td>\n",
       "    </tr>\n",
       "  </tbody>\n",
       "</table>\n",
       "</div>"
      ],
      "text/plain": [
       "               initial_app_version\n",
       "id                                \n",
       "20000443246052               1.9.5\n",
       "20000443252617               1.7.5\n",
       "20000443310150               1.9.5\n",
       "20000443405819               1.9.5\n",
       "20000443434193               1.9.5"
      ]
     },
     "execution_count": 291,
     "metadata": {},
     "output_type": "execute_result"
    }
   ],
   "source": [
    "app_ver = joined_df.groupby(['id'])['initial_app_version'].first().to_frame()\n",
    "app_ver.head()"
   ]
  },
  {
   "cell_type": "code",
   "execution_count": 293,
   "metadata": {
    "collapsed": false
   },
   "outputs": [],
   "source": [
    "# Add time statistics\n",
    "def create_features(joined_df):\n",
    "    start_of_time_series = joined_df['subscripiton_date'].min()\n",
    "    print(start_of_time_series)\n",
    "    end_of_time_series = joined_df['end_use_date'].max()\n",
    "    print(end_of_time_series)\n",
    "    date_features = joined_df[['id','installation_date','subscripiton_date','end_use_date']].groupby('id').max()\n",
    "    date_features['days_installed'] = (pd.to_datetime(end_of_time_series) - date_features['installation_date']).dt.days\n",
    "    date_features['days_installed_not_subscribed'] = (date_features['subscripiton_date'] - date_features['installation_date']).dt.days\n",
    "    date_features['days_since_last_use'] = (pd.to_datetime(end_of_time_series) - pd.to_datetime(date_features['end_use_date'])).dt.days\n",
    "    date_features['days_used'] = np.minimum((pd.to_datetime(date_features['end_use_date']) - date_features['installation_date']).dt.days, \n",
    "                                            (pd.to_datetime(date_features['end_use_date']) - pd.to_datetime(start_of_time_series) ).dt.days)\n",
    "    date_features = date_features[['days_installed','days_installed_not_subscribed','days_since_last_use','days_used']]\n",
    "    \n",
    "    users_mean_usage_time = pd.pivot_table(joined_df[['id', 'feature_name', 'usage_duration']], values='usage_duration', index=['id'], columns=['feature_name'], aggfunc=np.mean, fill_value=0)\n",
    "    users_mean_usage_time = users_mean_usage_time.add_suffix('_mean_time')\n",
    "    \n",
    "    users_mean_acceptance_rate = pd.pivot_table(joined_df[['id', 'feature_name', 'accepted']], values='accepted', index=['id'], columns=['feature_name'], aggfunc=np.mean, fill_value=0)\n",
    "    users_mean_acceptance_rate = users_mean_acceptance_rate.add_suffix('_mean_acceptance')\n",
    "    \n",
    "    users_usage_summaries = pd.pivot_table(joined_df[['id', 'feature_name']], index=['id'], columns=['feature_name'], aggfunc=len, fill_value=0)\n",
    "    \n",
    "    accepted_rate = joined_df.groupby(['id'])['accepted'].mean().to_frame()\n",
    "    \n",
    "    app_ver = joined_df.groupby(['id'])['initial_app_version'].first().to_frame()\n",
    "#     app_ver = joined_df.replace({'initial_app_version':app_ver_map}).groupby(['id'])['initial_app_version'].mean().to_frame()\n",
    "    ios_ver = joined_df.groupby(['id'])['initial_ios_version'].first().to_frame()\n",
    "#     ios_ver = joined_df.replace({'initial_ios_version':ios_ver_map}).groupby(['id'])['initial_ios_version'].mean().to_frame()\n",
    "    \n",
    "    device = joined_df.groupby(['id'])['initial_device'].first().to_frame()\n",
    "#     device = joined_df.replace({'initial_device':device_map}).groupby(['id'])['initial_device'].mean().to_frame()\n",
    "    \n",
    "    country = joined_df.groupby(['id'])['country'].first().to_frame()\n",
    "#     country = joined_df.replace({'country':country_map}).groupby(['id'])['country'].mean().to_frame()\n",
    "    \n",
    "    total_features = users_usage_summaries.join(users_mean_usage_time, how='left').join(users_mean_acceptance_rate, how='left').join(date_features, how='left').join(accepted_rate, how='left').join(country, how='left').join(device, how='left').join(ios_ver, how='left').join(app_ver, how='left')\n",
    "    total_features.fillna(0)\n",
    "    #This is how our df looks like:\n",
    "    print(total_features.shape)\n",
    "    total_features.head()\n",
    "    return total_features"
   ]
  },
  {
   "cell_type": "code",
   "execution_count": 244,
   "metadata": {
    "collapsed": false
   },
   "outputs": [
    {
     "data": {
      "text/html": [
       "<div>\n",
       "<style scoped>\n",
       "    .dataframe tbody tr th:only-of-type {\n",
       "        vertical-align: middle;\n",
       "    }\n",
       "\n",
       "    .dataframe tbody tr th {\n",
       "        vertical-align: top;\n",
       "    }\n",
       "\n",
       "    .dataframe thead th {\n",
       "        text-align: right;\n",
       "    }\n",
       "</style>\n",
       "<table border=\"1\" class=\"dataframe\">\n",
       "  <thead>\n",
       "    <tr style=\"text-align: right;\">\n",
       "      <th></th>\n",
       "      <th>id</th>\n",
       "      <th>feature_name</th>\n",
       "      <th>usage_duration</th>\n",
       "      <th>end_use_date</th>\n",
       "      <th>accepted</th>\n",
       "      <th>installation_date</th>\n",
       "      <th>subscripiton_date</th>\n",
       "      <th>country</th>\n",
       "      <th>initial_app_version</th>\n",
       "      <th>initial_ios_version</th>\n",
       "      <th>initial_device</th>\n",
       "      <th>days_until_churn</th>\n",
       "      <th>churned</th>\n",
       "    </tr>\n",
       "  </thead>\n",
       "  <tbody>\n",
       "    <tr>\n",
       "      <th>0</th>\n",
       "      <td>30000429392689</td>\n",
       "      <td>Relight</td>\n",
       "      <td>5.659</td>\n",
       "      <td>2018-04-10 11:18:16</td>\n",
       "      <td>False</td>\n",
       "      <td>2018-02-26 07:01:08</td>\n",
       "      <td>2018-04-08 09:38:19</td>\n",
       "      <td>Australia</td>\n",
       "      <td>1.9.6</td>\n",
       "      <td>11.2.6</td>\n",
       "      <td>UIDeviceKindIPhoneX</td>\n",
       "      <td>NaN</td>\n",
       "      <td>0</td>\n",
       "    </tr>\n",
       "    <tr>\n",
       "      <th>1</th>\n",
       "      <td>440000407817536</td>\n",
       "      <td>Crop</td>\n",
       "      <td>0.984</td>\n",
       "      <td>2018-04-06 16:44:19</td>\n",
       "      <td>False</td>\n",
       "      <td>2017-07-21 20:04:15</td>\n",
       "      <td>2018-04-05 22:39:32</td>\n",
       "      <td>United Kingdom</td>\n",
       "      <td>1.9.6</td>\n",
       "      <td>11.2.5</td>\n",
       "      <td>UIDeviceKindIPhoneX</td>\n",
       "      <td>NaN</td>\n",
       "      <td>0</td>\n",
       "    </tr>\n",
       "    <tr>\n",
       "      <th>2</th>\n",
       "      <td>540000265662400</td>\n",
       "      <td>Crop</td>\n",
       "      <td>1.583</td>\n",
       "      <td>2018-04-21 18:46:24</td>\n",
       "      <td>False</td>\n",
       "      <td>2018-04-21 02:01:23</td>\n",
       "      <td>2018-04-21 02:14:14</td>\n",
       "      <td>United States</td>\n",
       "      <td>1.9.6</td>\n",
       "      <td>11.2</td>\n",
       "      <td>UIDeviceKindIPhone8</td>\n",
       "      <td>NaN</td>\n",
       "      <td>0</td>\n",
       "    </tr>\n",
       "    <tr>\n",
       "      <th>3</th>\n",
       "      <td>220000444951653</td>\n",
       "      <td>Vignette</td>\n",
       "      <td>4.668</td>\n",
       "      <td>2018-04-30 14:11:22</td>\n",
       "      <td>False</td>\n",
       "      <td>2018-04-30 12:45:44</td>\n",
       "      <td>2018-04-30 12:57:44</td>\n",
       "      <td>Australia</td>\n",
       "      <td>1.9.6</td>\n",
       "      <td>11.2.5</td>\n",
       "      <td>UIDeviceKindIPhone7Plus</td>\n",
       "      <td>NaN</td>\n",
       "      <td>0</td>\n",
       "    </tr>\n",
       "    <tr>\n",
       "      <th>4</th>\n",
       "      <td>220000444725338</td>\n",
       "      <td>Retouch</td>\n",
       "      <td>185.154</td>\n",
       "      <td>2018-04-29 23:37:34</td>\n",
       "      <td>False</td>\n",
       "      <td>2018-04-29 21:14:23</td>\n",
       "      <td>2018-04-29 22:07:56</td>\n",
       "      <td>United States</td>\n",
       "      <td>1.9.6</td>\n",
       "      <td>11.2.6</td>\n",
       "      <td>UIDeviceKindIPhone6Plus</td>\n",
       "      <td>31.0</td>\n",
       "      <td>0</td>\n",
       "    </tr>\n",
       "  </tbody>\n",
       "</table>\n",
       "</div>"
      ],
      "text/plain": [
       "                id feature_name  usage_duration         end_use_date  \\\n",
       "0   30000429392689      Relight           5.659  2018-04-10 11:18:16   \n",
       "1  440000407817536         Crop           0.984  2018-04-06 16:44:19   \n",
       "2  540000265662400         Crop           1.583  2018-04-21 18:46:24   \n",
       "3  220000444951653     Vignette           4.668  2018-04-30 14:11:22   \n",
       "4  220000444725338      Retouch         185.154  2018-04-29 23:37:34   \n",
       "\n",
       "   accepted   installation_date   subscripiton_date         country  \\\n",
       "0     False 2018-02-26 07:01:08 2018-04-08 09:38:19       Australia   \n",
       "1     False 2017-07-21 20:04:15 2018-04-05 22:39:32  United Kingdom   \n",
       "2     False 2018-04-21 02:01:23 2018-04-21 02:14:14   United States   \n",
       "3     False 2018-04-30 12:45:44 2018-04-30 12:57:44       Australia   \n",
       "4     False 2018-04-29 21:14:23 2018-04-29 22:07:56   United States   \n",
       "\n",
       "  initial_app_version initial_ios_version           initial_device  \\\n",
       "0               1.9.6              11.2.6      UIDeviceKindIPhoneX   \n",
       "1               1.9.6              11.2.5      UIDeviceKindIPhoneX   \n",
       "2               1.9.6                11.2      UIDeviceKindIPhone8   \n",
       "3               1.9.6              11.2.5  UIDeviceKindIPhone7Plus   \n",
       "4               1.9.6              11.2.6  UIDeviceKindIPhone6Plus   \n",
       "\n",
       "   days_until_churn  churned  \n",
       "0               NaN        0  \n",
       "1               NaN        0  \n",
       "2               NaN        0  \n",
       "3               NaN        0  \n",
       "4              31.0        0  "
      ]
     },
     "execution_count": 244,
     "metadata": {},
     "output_type": "execute_result"
    }
   ],
   "source": [
    "joined_df.head()"
   ]
  },
  {
   "cell_type": "code",
   "execution_count": 329,
   "metadata": {
    "collapsed": false
   },
   "outputs": [
    {
     "name": "stdout",
     "output_type": "stream",
     "text": [
      "2018-04-01 00:02:30\n",
      "2018-05-07 22:02:00\n",
      "(6918, 60)\n",
      "(6918, 61)\n"
     ]
    },
    {
     "data": {
      "text/html": [
       "<div>\n",
       "<style scoped>\n",
       "    .dataframe tbody tr th:only-of-type {\n",
       "        vertical-align: middle;\n",
       "    }\n",
       "\n",
       "    .dataframe tbody tr th {\n",
       "        vertical-align: top;\n",
       "    }\n",
       "\n",
       "    .dataframe thead th {\n",
       "        text-align: right;\n",
       "    }\n",
       "</style>\n",
       "<table border=\"1\" class=\"dataframe\">\n",
       "  <thead>\n",
       "    <tr style=\"text-align: right;\">\n",
       "      <th></th>\n",
       "      <th>Adjust</th>\n",
       "      <th>Backdrop</th>\n",
       "      <th>Crop</th>\n",
       "      <th>Darkroom</th>\n",
       "      <th>Defocus</th>\n",
       "      <th>Eyes</th>\n",
       "      <th>Face</th>\n",
       "      <th>Filters</th>\n",
       "      <th>Light FX</th>\n",
       "      <th>Paint</th>\n",
       "      <th>...</th>\n",
       "      <th>days_installed</th>\n",
       "      <th>days_installed_not_subscribed</th>\n",
       "      <th>days_since_last_use</th>\n",
       "      <th>days_used</th>\n",
       "      <th>accepted</th>\n",
       "      <th>country</th>\n",
       "      <th>initial_device</th>\n",
       "      <th>initial_ios_version</th>\n",
       "      <th>initial_app_version</th>\n",
       "      <th>churned</th>\n",
       "    </tr>\n",
       "    <tr>\n",
       "      <th>id</th>\n",
       "      <th></th>\n",
       "      <th></th>\n",
       "      <th></th>\n",
       "      <th></th>\n",
       "      <th></th>\n",
       "      <th></th>\n",
       "      <th></th>\n",
       "      <th></th>\n",
       "      <th></th>\n",
       "      <th></th>\n",
       "      <th></th>\n",
       "      <th></th>\n",
       "      <th></th>\n",
       "      <th></th>\n",
       "      <th></th>\n",
       "      <th></th>\n",
       "      <th></th>\n",
       "      <th></th>\n",
       "      <th></th>\n",
       "      <th></th>\n",
       "      <th></th>\n",
       "    </tr>\n",
       "  </thead>\n",
       "  <tbody>\n",
       "    <tr>\n",
       "      <th>20000443246052</th>\n",
       "      <td>1</td>\n",
       "      <td>0</td>\n",
       "      <td>14</td>\n",
       "      <td>2</td>\n",
       "      <td>1</td>\n",
       "      <td>1</td>\n",
       "      <td>0</td>\n",
       "      <td>0</td>\n",
       "      <td>17</td>\n",
       "      <td>6</td>\n",
       "      <td>...</td>\n",
       "      <td>159</td>\n",
       "      <td>123</td>\n",
       "      <td>30</td>\n",
       "      <td>6</td>\n",
       "      <td>0.590909</td>\n",
       "      <td>Brazil</td>\n",
       "      <td>UIDeviceKindIPhone6S</td>\n",
       "      <td>11.2.6</td>\n",
       "      <td>1.9.5</td>\n",
       "      <td>0</td>\n",
       "    </tr>\n",
       "    <tr>\n",
       "      <th>20000443252617</th>\n",
       "      <td>2</td>\n",
       "      <td>2</td>\n",
       "      <td>0</td>\n",
       "      <td>7</td>\n",
       "      <td>0</td>\n",
       "      <td>0</td>\n",
       "      <td>0</td>\n",
       "      <td>0</td>\n",
       "      <td>16</td>\n",
       "      <td>1</td>\n",
       "      <td>...</td>\n",
       "      <td>474</td>\n",
       "      <td>438</td>\n",
       "      <td>30</td>\n",
       "      <td>6</td>\n",
       "      <td>0.409836</td>\n",
       "      <td>United States</td>\n",
       "      <td>UIDeviceKindIPhone6SPlus</td>\n",
       "      <td>11.2</td>\n",
       "      <td>1.7.5</td>\n",
       "      <td>0</td>\n",
       "    </tr>\n",
       "    <tr>\n",
       "      <th>20000443310150</th>\n",
       "      <td>2</td>\n",
       "      <td>0</td>\n",
       "      <td>0</td>\n",
       "      <td>6</td>\n",
       "      <td>0</td>\n",
       "      <td>3</td>\n",
       "      <td>1</td>\n",
       "      <td>0</td>\n",
       "      <td>3</td>\n",
       "      <td>1</td>\n",
       "      <td>...</td>\n",
       "      <td>36</td>\n",
       "      <td>0</td>\n",
       "      <td>36</td>\n",
       "      <td>0</td>\n",
       "      <td>0.230769</td>\n",
       "      <td>United States</td>\n",
       "      <td>UIDeviceKindIPhone8Plus</td>\n",
       "      <td>11.2.6</td>\n",
       "      <td>1.9.5</td>\n",
       "      <td>0</td>\n",
       "    </tr>\n",
       "    <tr>\n",
       "      <th>20000443405819</th>\n",
       "      <td>0</td>\n",
       "      <td>0</td>\n",
       "      <td>0</td>\n",
       "      <td>0</td>\n",
       "      <td>0</td>\n",
       "      <td>0</td>\n",
       "      <td>0</td>\n",
       "      <td>0</td>\n",
       "      <td>0</td>\n",
       "      <td>0</td>\n",
       "      <td>...</td>\n",
       "      <td>254</td>\n",
       "      <td>217</td>\n",
       "      <td>36</td>\n",
       "      <td>0</td>\n",
       "      <td>0.333333</td>\n",
       "      <td>United States</td>\n",
       "      <td>UIDeviceKindIPhone7</td>\n",
       "      <td>11.2.6</td>\n",
       "      <td>1.9.5</td>\n",
       "      <td>0</td>\n",
       "    </tr>\n",
       "    <tr>\n",
       "      <th>20000443434193</th>\n",
       "      <td>0</td>\n",
       "      <td>0</td>\n",
       "      <td>0</td>\n",
       "      <td>0</td>\n",
       "      <td>0</td>\n",
       "      <td>0</td>\n",
       "      <td>0</td>\n",
       "      <td>0</td>\n",
       "      <td>1</td>\n",
       "      <td>0</td>\n",
       "      <td>...</td>\n",
       "      <td>36</td>\n",
       "      <td>0</td>\n",
       "      <td>35</td>\n",
       "      <td>0</td>\n",
       "      <td>0.750000</td>\n",
       "      <td>United States</td>\n",
       "      <td>UIDeviceKindIPhoneX</td>\n",
       "      <td>11.2.6</td>\n",
       "      <td>1.9.5</td>\n",
       "      <td>0</td>\n",
       "    </tr>\n",
       "  </tbody>\n",
       "</table>\n",
       "<p>5 rows × 61 columns</p>\n",
       "</div>"
      ],
      "text/plain": [
       "                Adjust  Backdrop  Crop  Darkroom  Defocus  Eyes  Face  \\\n",
       "id                                                                      \n",
       "20000443246052       1         0    14         2        1     1     0   \n",
       "20000443252617       2         2     0         7        0     0     0   \n",
       "20000443310150       2         0     0         6        0     3     1   \n",
       "20000443405819       0         0     0         0        0     0     0   \n",
       "20000443434193       0         0     0         0        0     0     0   \n",
       "\n",
       "                Filters  Light FX  Paint   ...     days_installed  \\\n",
       "id                                         ...                      \n",
       "20000443246052        0        17      6   ...                159   \n",
       "20000443252617        0        16      1   ...                474   \n",
       "20000443310150        0         3      1   ...                 36   \n",
       "20000443405819        0         0      0   ...                254   \n",
       "20000443434193        0         1      0   ...                 36   \n",
       "\n",
       "                days_installed_not_subscribed  days_since_last_use  days_used  \\\n",
       "id                                                                              \n",
       "20000443246052                            123                   30          6   \n",
       "20000443252617                            438                   30          6   \n",
       "20000443310150                              0                   36          0   \n",
       "20000443405819                            217                   36          0   \n",
       "20000443434193                              0                   35          0   \n",
       "\n",
       "                accepted        country            initial_device  \\\n",
       "id                                                                  \n",
       "20000443246052  0.590909         Brazil      UIDeviceKindIPhone6S   \n",
       "20000443252617  0.409836  United States  UIDeviceKindIPhone6SPlus   \n",
       "20000443310150  0.230769  United States   UIDeviceKindIPhone8Plus   \n",
       "20000443405819  0.333333  United States       UIDeviceKindIPhone7   \n",
       "20000443434193  0.750000  United States       UIDeviceKindIPhoneX   \n",
       "\n",
       "                initial_ios_version  initial_app_version  churned  \n",
       "id                                                                 \n",
       "20000443246052               11.2.6                1.9.5        0  \n",
       "20000443252617                 11.2                1.7.5        0  \n",
       "20000443310150               11.2.6                1.9.5        0  \n",
       "20000443405819               11.2.6                1.9.5        0  \n",
       "20000443434193               11.2.6                1.9.5        0  \n",
       "\n",
       "[5 rows x 61 columns]"
      ]
     },
     "execution_count": 329,
     "metadata": {},
     "output_type": "execute_result"
    }
   ],
   "source": [
    "# train data features\n",
    "total_features = create_features(joined_df)\n",
    "churned = joined_df.groupby(['id'])['churned'].mean().to_frame()\n",
    "total_features = total_features.join(churned, how='left')\n",
    "print(total_features.shape)\n",
    "total_features.head()"
   ]
  },
  {
   "cell_type": "code",
   "execution_count": null,
   "metadata": {
    "collapsed": false
   },
   "outputs": [],
   "source": [
    "# number_of_churned = total_features[total_features['churned']==True].shape[0]\n",
    "# churned_samples = total_features[total_features['churned']==True]\n",
    "# not_churned_samples = total_features[total_features['churned']==False].sample(n=number_of_churned)\n",
    "# total_features = pd.concat([churned_samples, not_churned_samples]).sample(frac=1)\n",
    "#This is how our df looks like:\n",
    "#total_features.shape"
   ]
  },
  {
   "cell_type": "markdown",
   "metadata": {},
   "source": [
    "# Optimizing"
   ]
  },
  {
   "cell_type": "markdown",
   "metadata": {},
   "source": [
    "### Importing main functionalities for setup"
   ]
  },
  {
   "cell_type": "code",
   "execution_count": 330,
   "metadata": {
    "collapsed": false
   },
   "outputs": [],
   "source": [
    "from sklearn.pipeline import make_pipeline\n",
    "from imblearn.pipeline import Pipeline\n",
    "from sklearn.preprocessing import StandardScaler\n",
    "from sklearn.model_selection import GridSearchCV\n",
    "from imblearn.over_sampling import SMOTE"
   ]
  },
  {
   "cell_type": "markdown",
   "metadata": {},
   "source": [
    "### Creating scaler"
   ]
  },
  {
   "cell_type": "code",
   "execution_count": 331,
   "metadata": {
    "collapsed": false
   },
   "outputs": [],
   "source": [
    "scaler = preprocessing.MinMaxScaler()"
   ]
  },
  {
   "cell_type": "markdown",
   "metadata": {},
   "source": [
    "## Creating grid search"
   ]
  },
  {
   "cell_type": "markdown",
   "metadata": {},
   "source": [
    "### parameters grid"
   ]
  },
  {
   "cell_type": "code",
   "execution_count": 332,
   "metadata": {
    "collapsed": false
   },
   "outputs": [
    {
     "data": {
      "text/plain": [
       "{'classification__mlpclassifier__alpha': array([  1.00000000e-01,   1.00000000e-02,   1.00000000e-03,\n",
       "          1.00000000e-04,   1.00000000e-05,   1.00000000e-06]),\n",
       " 'classification__mlpclassifier__hidden_layer_sizes': [[30, 30, 30, 30]],\n",
       " 'classification__mlpclassifier__max_iter': [1500],\n",
       " 'classification__mlpclassifier__momentum': [0, 0.3, 0.6, 1],\n",
       " 'classification__mlpclassifier__solver': ['sgd']}"
      ]
     },
     "execution_count": 332,
     "metadata": {},
     "output_type": "execute_result"
    }
   ],
   "source": [
    "#parameters = {'solver': ['lbfgs'], 'max_iter': [500,1000,1500], 'alpha': 10.0 ** -np.arange(1, 7),\n",
    "#              'hidden_layer_sizes':np.arange(5, 12), 'random_state':[0,1,2,3,4,5,6,7,8,9]}\n",
    "parameters = {'classification__mlpclassifier__solver': ['sgd'], 'classification__mlpclassifier__max_iter': [1500],\n",
    "              'classification__mlpclassifier__alpha': 10.0 ** -np.arange(1, 7),\n",
    "              'classification__mlpclassifier__hidden_layer_sizes':[[30, 30, 30, 30]],\n",
    "             'classification__mlpclassifier__momentum':[0, 0.3, 0.6, 1]}\n",
    "parameters"
   ]
  },
  {
   "cell_type": "markdown",
   "metadata": {},
   "source": [
    "## Creating grid object"
   ]
  },
  {
   "cell_type": "markdown",
   "metadata": {},
   "source": [
    "### algorithm instance"
   ]
  },
  {
   "cell_type": "code",
   "execution_count": 333,
   "metadata": {
    "collapsed": true
   },
   "outputs": [],
   "source": [
    "from sklearn.neural_network import MLPClassifier\n",
    "algorithm = MLPClassifier()"
   ]
  },
  {
   "cell_type": "markdown",
   "metadata": {},
   "source": [
    "### creating pipeline"
   ]
  },
  {
   "cell_type": "code",
   "execution_count": 334,
   "metadata": {
    "collapsed": false
   },
   "outputs": [],
   "source": [
    "pipedAlgo = make_pipeline(scaler, algorithm)\n",
    "modelWithOverSampling = Pipeline([\n",
    "        ('classification', pipedAlgo)\n",
    "    ])"
   ]
  },
  {
   "cell_type": "markdown",
   "metadata": {},
   "source": [
    "### Grid search instance"
   ]
  },
  {
   "cell_type": "code",
   "execution_count": 335,
   "metadata": {
    "collapsed": false
   },
   "outputs": [],
   "source": [
    "gridCV = GridSearchCV(modelWithOverSampling, parameters, n_jobs=-1, cv=5, refit=True, scoring='f1')"
   ]
  },
  {
   "cell_type": "code",
   "execution_count": 336,
   "metadata": {
    "collapsed": false
   },
   "outputs": [],
   "source": [
    "X_train, X_val, y_train, y_val = train_test_split(total_features, total_features, test_size=0.3)\n",
    "X_val = X_val.iloc[:, X_val.columns!='churned'].values\n",
    "y_val = y_val.loc[:,'churned'].values\n",
    "\n",
    "number_of_churned = X_train[X_train['churned']==True].shape[0]\n",
    "churned_samples = X_train[X_train['churned']==True]\n",
    "not_churned_samples = X_train[X_train['churned']==False].sample(n=number_of_churned)\n",
    "\n",
    "train_data = pd.concat([churned_samples, not_churned_samples]).sample(frac=1)\n",
    "X_train = train_data.iloc[:, train_data.columns!='churned'].values\n",
    "y_train = train_data.loc[:,'churned'].values"
   ]
  },
  {
   "cell_type": "code",
   "execution_count": 337,
   "metadata": {
    "collapsed": false
   },
   "outputs": [
    {
     "data": {
      "text/plain": [
       "array([[1, 0, 1, ..., 'UIDeviceKindIPhone6S', '11.2.6', '1.9.6'],\n",
       "       [0, 0, 4, ..., 'UIDeviceKindIPhone7', '10.2', '1.9.2'],\n",
       "       [0, 0, 1, ..., 'UIDeviceKindIPhone8Plus', '11.3', '1.9.6'],\n",
       "       ..., \n",
       "       [4, 1, 1, ..., 'UIDeviceKindIPhone7Plus', '11.2.6', '1.9.6'],\n",
       "       [0, 0, 0, ..., 'UIDeviceKindIPhone8Plus', '11.2.6', '1.9.6'],\n",
       "       [0, 0, 1, ..., 'UIDeviceKindIPhone7Plus', '11.2.6', '1.9.6']], dtype=object)"
      ]
     },
     "execution_count": 337,
     "metadata": {},
     "output_type": "execute_result"
    }
   ],
   "source": [
    "X_val"
   ]
  },
  {
   "cell_type": "markdown",
   "metadata": {},
   "source": [
    "### Cross validating on the oversampled dataset"
   ]
  },
  {
   "cell_type": "code",
   "execution_count": 252,
   "metadata": {
    "collapsed": false
   },
   "outputs": [
    {
     "data": {
      "text/plain": [
       "GridSearchCV(cv=5, error_score='raise',\n",
       "       estimator=Pipeline(memory=None,\n",
       "     steps=[('classification', Pipeline(memory=None,\n",
       "     steps=[('minmaxscaler', MinMaxScaler(copy=True, feature_range=(0, 1))), ('mlpclassifier', MLPClassifier(activation='relu', alpha=0.0001, batch_size='auto', beta_1=0.9,\n",
       "       beta_2=0.999, early_stopping=False, epsilon=1e-08,\n",
       "       hidden_layer_sizes=(100,), learning_rate='constant',\n",
       "       learnin...=True, solver='adam', tol=0.0001, validation_fraction=0.1,\n",
       "       verbose=False, warm_start=False))]))]),\n",
       "       fit_params=None, iid=True, n_jobs=-1,\n",
       "       param_grid={'classification__mlpclassifier__solver': ['sgd'], 'classification__mlpclassifier__max_iter': [1500], 'classification__mlpclassifier__alpha': array([  1.00000e-01,   1.00000e-02,   1.00000e-03,   1.00000e-04,\n",
       "         1.00000e-05,   1.00000e-06]), 'classification__mlpclassifier__hidden_layer_sizes': [[30, 30, 30, 30]], 'classification__mlpclassifier__momentum': [0, 0.3, 0.6, 1]},\n",
       "       pre_dispatch='2*n_jobs', refit=True, return_train_score=True,\n",
       "       scoring='f1', verbose=0)"
      ]
     },
     "execution_count": 252,
     "metadata": {},
     "output_type": "execute_result"
    }
   ],
   "source": [
    "gridCV.fit(X_train, y_train)"
   ]
  },
  {
   "cell_type": "code",
   "execution_count": 253,
   "metadata": {
    "collapsed": false,
    "scrolled": true
   },
   "outputs": [
    {
     "name": "stdout",
     "output_type": "stream",
     "text": [
      "{'classification__mlpclassifier__alpha': 0.0001, 'classification__mlpclassifier__hidden_layer_sizes': [30, 30, 30, 30], 'classification__mlpclassifier__max_iter': 1500, 'classification__mlpclassifier__momentum': 0.6, 'classification__mlpclassifier__solver': 'sgd'}\n",
      "0.663304703092\n"
     ]
    }
   ],
   "source": [
    "print(gridCV.best_params_)\n",
    "print(gridCV.best_score_)"
   ]
  },
  {
   "cell_type": "code",
   "execution_count": 275,
   "metadata": {
    "collapsed": false,
    "scrolled": true
   },
   "outputs": [
    {
     "name": "stdout",
     "output_type": "stream",
     "text": [
      "[ 1.  0.  1. ...,  0.  1.  0.]\n"
     ]
    }
   ],
   "source": [
    "res_val = gridCV.predict_proba(X_val)\n",
    "res_val = res_val[:,-1]\n",
    "res_val[res_val>0.45] = 1\n",
    "res_val[res_val!=1] = 0\n",
    "print(res_val)"
   ]
  },
  {
   "cell_type": "code",
   "execution_count": 276,
   "metadata": {
    "collapsed": false,
    "scrolled": true
   },
   "outputs": [
    {
     "name": "stdout",
     "output_type": "stream",
     "text": [
      "[[ 614 1242]\n",
      " [  68  152]]\n",
      "             precision    recall  f1-score   support\n",
      "\n",
      "          0       0.90      0.33      0.48      1856\n",
      "          1       0.11      0.69      0.19       220\n",
      "\n",
      "avg / total       0.82      0.37      0.45      2076\n",
      "\n",
      "0.188\n"
     ]
    }
   ],
   "source": [
    "cm = metrics.confusion_matrix(y_val, res_val)\n",
    "print(cm)\n",
    "print(classification_report(y_pred=res_val,y_true=y_val))\n",
    "# print only f1 score for positive\n",
    "print(np.round(f1_score(y_pred=res_val,y_true=y_val),3))"
   ]
  },
  {
   "cell_type": "code",
   "execution_count": null,
   "metadata": {
    "collapsed": false,
    "scrolled": true
   },
   "outputs": [],
   "source": [
    "algo = make_pipeline(preprocessing.MinMaxScaler(), svm.LinearSVC(class_weight='balanced'))\n",
    "scores = cross_val_score(algo, X, y, cv=5, scoring='f1')\n",
    "scores.mean()\n",
    "print(np.round(scores.mean(),3))"
   ]
  },
  {
   "cell_type": "code",
   "execution_count": 338,
   "metadata": {
    "collapsed": false
   },
   "outputs": [
    {
     "ename": "ValueError",
     "evalue": "could not convert string to float: '1.4.6'",
     "output_type": "error",
     "traceback": [
      "\u001b[0;31m---------------------------------------------------------------------------\u001b[0m",
      "\u001b[0;31mValueError\u001b[0m                                Traceback (most recent call last)",
      "\u001b[0;32m<ipython-input-338-3ff8d13c41e2>\u001b[0m in \u001b[0;36m<module>\u001b[0;34m()\u001b[0m\n\u001b[1;32m      1\u001b[0m \u001b[1;32mfrom\u001b[0m \u001b[0msklearn\u001b[0m\u001b[1;33m.\u001b[0m\u001b[0mensemble\u001b[0m \u001b[1;32mimport\u001b[0m \u001b[0mRandomForestClassifier\u001b[0m\u001b[1;33m\u001b[0m\u001b[0m\n\u001b[1;32m      2\u001b[0m \u001b[0malgo\u001b[0m \u001b[1;33m=\u001b[0m \u001b[0mmake_pipeline\u001b[0m\u001b[1;33m(\u001b[0m\u001b[0mpreprocessing\u001b[0m\u001b[1;33m.\u001b[0m\u001b[0mMinMaxScaler\u001b[0m\u001b[1;33m(\u001b[0m\u001b[1;33m)\u001b[0m\u001b[1;33m,\u001b[0m \u001b[0mRandomForestClassifier\u001b[0m\u001b[1;33m(\u001b[0m\u001b[0mmax_features\u001b[0m\u001b[1;33m=\u001b[0m\u001b[1;36m5\u001b[0m\u001b[1;33m,\u001b[0m \u001b[0mn_estimators\u001b[0m\u001b[1;33m=\u001b[0m\u001b[1;36m1000\u001b[0m\u001b[1;33m)\u001b[0m\u001b[1;33m)\u001b[0m\u001b[1;33m\u001b[0m\u001b[0m\n\u001b[0;32m----> 3\u001b[0;31m \u001b[0mscores\u001b[0m \u001b[1;33m=\u001b[0m \u001b[0mcross_val_score\u001b[0m\u001b[1;33m(\u001b[0m\u001b[0malgo\u001b[0m\u001b[1;33m,\u001b[0m \u001b[0mX_train\u001b[0m\u001b[1;33m,\u001b[0m \u001b[0my_train\u001b[0m\u001b[1;33m,\u001b[0m \u001b[0mcv\u001b[0m\u001b[1;33m=\u001b[0m\u001b[1;36m5\u001b[0m\u001b[1;33m,\u001b[0m \u001b[0mscoring\u001b[0m\u001b[1;33m=\u001b[0m\u001b[1;34m'f1'\u001b[0m\u001b[1;33m)\u001b[0m\u001b[1;33m\u001b[0m\u001b[0m\n\u001b[0m\u001b[1;32m      4\u001b[0m \u001b[0mprint\u001b[0m\u001b[1;33m(\u001b[0m\u001b[0mscores\u001b[0m\u001b[1;33m.\u001b[0m\u001b[0mmean\u001b[0m\u001b[1;33m(\u001b[0m\u001b[1;33m)\u001b[0m\u001b[1;33m)\u001b[0m\u001b[1;33m\u001b[0m\u001b[0m\n\u001b[1;32m      5\u001b[0m \u001b[0malgo\u001b[0m\u001b[1;33m.\u001b[0m\u001b[0mfit\u001b[0m\u001b[1;33m(\u001b[0m\u001b[0mX_train\u001b[0m\u001b[1;33m,\u001b[0m\u001b[0my_train\u001b[0m\u001b[1;33m)\u001b[0m\u001b[1;33m\u001b[0m\u001b[0m\n",
      "\u001b[0;32mC:\\Programs\\Anaconda\\lib\\site-packages\\sklearn\\model_selection\\_validation.py\u001b[0m in \u001b[0;36mcross_val_score\u001b[0;34m(estimator, X, y, groups, scoring, cv, n_jobs, verbose, fit_params, pre_dispatch)\u001b[0m\n\u001b[1;32m    319\u001b[0m                                 \u001b[0mn_jobs\u001b[0m\u001b[1;33m=\u001b[0m\u001b[0mn_jobs\u001b[0m\u001b[1;33m,\u001b[0m \u001b[0mverbose\u001b[0m\u001b[1;33m=\u001b[0m\u001b[0mverbose\u001b[0m\u001b[1;33m,\u001b[0m\u001b[1;33m\u001b[0m\u001b[0m\n\u001b[1;32m    320\u001b[0m                                 \u001b[0mfit_params\u001b[0m\u001b[1;33m=\u001b[0m\u001b[0mfit_params\u001b[0m\u001b[1;33m,\u001b[0m\u001b[1;33m\u001b[0m\u001b[0m\n\u001b[0;32m--> 321\u001b[0;31m                                 pre_dispatch=pre_dispatch)\n\u001b[0m\u001b[1;32m    322\u001b[0m     \u001b[1;32mreturn\u001b[0m \u001b[0mcv_results\u001b[0m\u001b[1;33m[\u001b[0m\u001b[1;34m'test_score'\u001b[0m\u001b[1;33m]\u001b[0m\u001b[1;33m\u001b[0m\u001b[0m\n\u001b[1;32m    323\u001b[0m \u001b[1;33m\u001b[0m\u001b[0m\n",
      "\u001b[0;32mC:\\Programs\\Anaconda\\lib\\site-packages\\sklearn\\model_selection\\_validation.py\u001b[0m in \u001b[0;36mcross_validate\u001b[0;34m(estimator, X, y, groups, scoring, cv, n_jobs, verbose, fit_params, pre_dispatch, return_train_score)\u001b[0m\n\u001b[1;32m    193\u001b[0m             \u001b[0mfit_params\u001b[0m\u001b[1;33m,\u001b[0m \u001b[0mreturn_train_score\u001b[0m\u001b[1;33m=\u001b[0m\u001b[0mreturn_train_score\u001b[0m\u001b[1;33m,\u001b[0m\u001b[1;33m\u001b[0m\u001b[0m\n\u001b[1;32m    194\u001b[0m             return_times=True)\n\u001b[0;32m--> 195\u001b[0;31m         for train, test in cv.split(X, y, groups))\n\u001b[0m\u001b[1;32m    196\u001b[0m \u001b[1;33m\u001b[0m\u001b[0m\n\u001b[1;32m    197\u001b[0m     \u001b[1;32mif\u001b[0m \u001b[0mreturn_train_score\u001b[0m\u001b[1;33m:\u001b[0m\u001b[1;33m\u001b[0m\u001b[0m\n",
      "\u001b[0;32mC:\\Programs\\Anaconda\\lib\\site-packages\\sklearn\\externals\\joblib\\parallel.py\u001b[0m in \u001b[0;36m__call__\u001b[0;34m(self, iterable)\u001b[0m\n\u001b[1;32m    777\u001b[0m             \u001b[1;31m# was dispatched. In particular this covers the edge\u001b[0m\u001b[1;33m\u001b[0m\u001b[1;33m\u001b[0m\u001b[0m\n\u001b[1;32m    778\u001b[0m             \u001b[1;31m# case of Parallel used with an exhausted iterator.\u001b[0m\u001b[1;33m\u001b[0m\u001b[1;33m\u001b[0m\u001b[0m\n\u001b[0;32m--> 779\u001b[0;31m             \u001b[1;32mwhile\u001b[0m \u001b[0mself\u001b[0m\u001b[1;33m.\u001b[0m\u001b[0mdispatch_one_batch\u001b[0m\u001b[1;33m(\u001b[0m\u001b[0miterator\u001b[0m\u001b[1;33m)\u001b[0m\u001b[1;33m:\u001b[0m\u001b[1;33m\u001b[0m\u001b[0m\n\u001b[0m\u001b[1;32m    780\u001b[0m                 \u001b[0mself\u001b[0m\u001b[1;33m.\u001b[0m\u001b[0m_iterating\u001b[0m \u001b[1;33m=\u001b[0m \u001b[1;32mTrue\u001b[0m\u001b[1;33m\u001b[0m\u001b[0m\n\u001b[1;32m    781\u001b[0m             \u001b[1;32melse\u001b[0m\u001b[1;33m:\u001b[0m\u001b[1;33m\u001b[0m\u001b[0m\n",
      "\u001b[0;32mC:\\Programs\\Anaconda\\lib\\site-packages\\sklearn\\externals\\joblib\\parallel.py\u001b[0m in \u001b[0;36mdispatch_one_batch\u001b[0;34m(self, iterator)\u001b[0m\n\u001b[1;32m    623\u001b[0m                 \u001b[1;32mreturn\u001b[0m \u001b[1;32mFalse\u001b[0m\u001b[1;33m\u001b[0m\u001b[0m\n\u001b[1;32m    624\u001b[0m             \u001b[1;32melse\u001b[0m\u001b[1;33m:\u001b[0m\u001b[1;33m\u001b[0m\u001b[0m\n\u001b[0;32m--> 625\u001b[0;31m                 \u001b[0mself\u001b[0m\u001b[1;33m.\u001b[0m\u001b[0m_dispatch\u001b[0m\u001b[1;33m(\u001b[0m\u001b[0mtasks\u001b[0m\u001b[1;33m)\u001b[0m\u001b[1;33m\u001b[0m\u001b[0m\n\u001b[0m\u001b[1;32m    626\u001b[0m                 \u001b[1;32mreturn\u001b[0m \u001b[1;32mTrue\u001b[0m\u001b[1;33m\u001b[0m\u001b[0m\n\u001b[1;32m    627\u001b[0m \u001b[1;33m\u001b[0m\u001b[0m\n",
      "\u001b[0;32mC:\\Programs\\Anaconda\\lib\\site-packages\\sklearn\\externals\\joblib\\parallel.py\u001b[0m in \u001b[0;36m_dispatch\u001b[0;34m(self, batch)\u001b[0m\n\u001b[1;32m    586\u001b[0m         \u001b[0mdispatch_timestamp\u001b[0m \u001b[1;33m=\u001b[0m \u001b[0mtime\u001b[0m\u001b[1;33m.\u001b[0m\u001b[0mtime\u001b[0m\u001b[1;33m(\u001b[0m\u001b[1;33m)\u001b[0m\u001b[1;33m\u001b[0m\u001b[0m\n\u001b[1;32m    587\u001b[0m         \u001b[0mcb\u001b[0m \u001b[1;33m=\u001b[0m \u001b[0mBatchCompletionCallBack\u001b[0m\u001b[1;33m(\u001b[0m\u001b[0mdispatch_timestamp\u001b[0m\u001b[1;33m,\u001b[0m \u001b[0mlen\u001b[0m\u001b[1;33m(\u001b[0m\u001b[0mbatch\u001b[0m\u001b[1;33m)\u001b[0m\u001b[1;33m,\u001b[0m \u001b[0mself\u001b[0m\u001b[1;33m)\u001b[0m\u001b[1;33m\u001b[0m\u001b[0m\n\u001b[0;32m--> 588\u001b[0;31m         \u001b[0mjob\u001b[0m \u001b[1;33m=\u001b[0m \u001b[0mself\u001b[0m\u001b[1;33m.\u001b[0m\u001b[0m_backend\u001b[0m\u001b[1;33m.\u001b[0m\u001b[0mapply_async\u001b[0m\u001b[1;33m(\u001b[0m\u001b[0mbatch\u001b[0m\u001b[1;33m,\u001b[0m \u001b[0mcallback\u001b[0m\u001b[1;33m=\u001b[0m\u001b[0mcb\u001b[0m\u001b[1;33m)\u001b[0m\u001b[1;33m\u001b[0m\u001b[0m\n\u001b[0m\u001b[1;32m    589\u001b[0m         \u001b[0mself\u001b[0m\u001b[1;33m.\u001b[0m\u001b[0m_jobs\u001b[0m\u001b[1;33m.\u001b[0m\u001b[0mappend\u001b[0m\u001b[1;33m(\u001b[0m\u001b[0mjob\u001b[0m\u001b[1;33m)\u001b[0m\u001b[1;33m\u001b[0m\u001b[0m\n\u001b[1;32m    590\u001b[0m \u001b[1;33m\u001b[0m\u001b[0m\n",
      "\u001b[0;32mC:\\Programs\\Anaconda\\lib\\site-packages\\sklearn\\externals\\joblib\\_parallel_backends.py\u001b[0m in \u001b[0;36mapply_async\u001b[0;34m(self, func, callback)\u001b[0m\n\u001b[1;32m    109\u001b[0m     \u001b[1;32mdef\u001b[0m \u001b[0mapply_async\u001b[0m\u001b[1;33m(\u001b[0m\u001b[0mself\u001b[0m\u001b[1;33m,\u001b[0m \u001b[0mfunc\u001b[0m\u001b[1;33m,\u001b[0m \u001b[0mcallback\u001b[0m\u001b[1;33m=\u001b[0m\u001b[1;32mNone\u001b[0m\u001b[1;33m)\u001b[0m\u001b[1;33m:\u001b[0m\u001b[1;33m\u001b[0m\u001b[0m\n\u001b[1;32m    110\u001b[0m         \u001b[1;34m\"\"\"Schedule a func to be run\"\"\"\u001b[0m\u001b[1;33m\u001b[0m\u001b[0m\n\u001b[0;32m--> 111\u001b[0;31m         \u001b[0mresult\u001b[0m \u001b[1;33m=\u001b[0m \u001b[0mImmediateResult\u001b[0m\u001b[1;33m(\u001b[0m\u001b[0mfunc\u001b[0m\u001b[1;33m)\u001b[0m\u001b[1;33m\u001b[0m\u001b[0m\n\u001b[0m\u001b[1;32m    112\u001b[0m         \u001b[1;32mif\u001b[0m \u001b[0mcallback\u001b[0m\u001b[1;33m:\u001b[0m\u001b[1;33m\u001b[0m\u001b[0m\n\u001b[1;32m    113\u001b[0m             \u001b[0mcallback\u001b[0m\u001b[1;33m(\u001b[0m\u001b[0mresult\u001b[0m\u001b[1;33m)\u001b[0m\u001b[1;33m\u001b[0m\u001b[0m\n",
      "\u001b[0;32mC:\\Programs\\Anaconda\\lib\\site-packages\\sklearn\\externals\\joblib\\_parallel_backends.py\u001b[0m in \u001b[0;36m__init__\u001b[0;34m(self, batch)\u001b[0m\n\u001b[1;32m    330\u001b[0m         \u001b[1;31m# Don't delay the application, to avoid keeping the input\u001b[0m\u001b[1;33m\u001b[0m\u001b[1;33m\u001b[0m\u001b[0m\n\u001b[1;32m    331\u001b[0m         \u001b[1;31m# arguments in memory\u001b[0m\u001b[1;33m\u001b[0m\u001b[1;33m\u001b[0m\u001b[0m\n\u001b[0;32m--> 332\u001b[0;31m         \u001b[0mself\u001b[0m\u001b[1;33m.\u001b[0m\u001b[0mresults\u001b[0m \u001b[1;33m=\u001b[0m \u001b[0mbatch\u001b[0m\u001b[1;33m(\u001b[0m\u001b[1;33m)\u001b[0m\u001b[1;33m\u001b[0m\u001b[0m\n\u001b[0m\u001b[1;32m    333\u001b[0m \u001b[1;33m\u001b[0m\u001b[0m\n\u001b[1;32m    334\u001b[0m     \u001b[1;32mdef\u001b[0m \u001b[0mget\u001b[0m\u001b[1;33m(\u001b[0m\u001b[0mself\u001b[0m\u001b[1;33m)\u001b[0m\u001b[1;33m:\u001b[0m\u001b[1;33m\u001b[0m\u001b[0m\n",
      "\u001b[0;32mC:\\Programs\\Anaconda\\lib\\site-packages\\sklearn\\externals\\joblib\\parallel.py\u001b[0m in \u001b[0;36m__call__\u001b[0;34m(self)\u001b[0m\n\u001b[1;32m    129\u001b[0m \u001b[1;33m\u001b[0m\u001b[0m\n\u001b[1;32m    130\u001b[0m     \u001b[1;32mdef\u001b[0m \u001b[0m__call__\u001b[0m\u001b[1;33m(\u001b[0m\u001b[0mself\u001b[0m\u001b[1;33m)\u001b[0m\u001b[1;33m:\u001b[0m\u001b[1;33m\u001b[0m\u001b[0m\n\u001b[0;32m--> 131\u001b[0;31m         \u001b[1;32mreturn\u001b[0m \u001b[1;33m[\u001b[0m\u001b[0mfunc\u001b[0m\u001b[1;33m(\u001b[0m\u001b[1;33m*\u001b[0m\u001b[0margs\u001b[0m\u001b[1;33m,\u001b[0m \u001b[1;33m**\u001b[0m\u001b[0mkwargs\u001b[0m\u001b[1;33m)\u001b[0m \u001b[1;32mfor\u001b[0m \u001b[0mfunc\u001b[0m\u001b[1;33m,\u001b[0m \u001b[0margs\u001b[0m\u001b[1;33m,\u001b[0m \u001b[0mkwargs\u001b[0m \u001b[1;32min\u001b[0m \u001b[0mself\u001b[0m\u001b[1;33m.\u001b[0m\u001b[0mitems\u001b[0m\u001b[1;33m]\u001b[0m\u001b[1;33m\u001b[0m\u001b[0m\n\u001b[0m\u001b[1;32m    132\u001b[0m \u001b[1;33m\u001b[0m\u001b[0m\n\u001b[1;32m    133\u001b[0m     \u001b[1;32mdef\u001b[0m \u001b[0m__len__\u001b[0m\u001b[1;33m(\u001b[0m\u001b[0mself\u001b[0m\u001b[1;33m)\u001b[0m\u001b[1;33m:\u001b[0m\u001b[1;33m\u001b[0m\u001b[0m\n",
      "\u001b[0;32mC:\\Programs\\Anaconda\\lib\\site-packages\\sklearn\\externals\\joblib\\parallel.py\u001b[0m in \u001b[0;36m<listcomp>\u001b[0;34m(.0)\u001b[0m\n\u001b[1;32m    129\u001b[0m \u001b[1;33m\u001b[0m\u001b[0m\n\u001b[1;32m    130\u001b[0m     \u001b[1;32mdef\u001b[0m \u001b[0m__call__\u001b[0m\u001b[1;33m(\u001b[0m\u001b[0mself\u001b[0m\u001b[1;33m)\u001b[0m\u001b[1;33m:\u001b[0m\u001b[1;33m\u001b[0m\u001b[0m\n\u001b[0;32m--> 131\u001b[0;31m         \u001b[1;32mreturn\u001b[0m \u001b[1;33m[\u001b[0m\u001b[0mfunc\u001b[0m\u001b[1;33m(\u001b[0m\u001b[1;33m*\u001b[0m\u001b[0margs\u001b[0m\u001b[1;33m,\u001b[0m \u001b[1;33m**\u001b[0m\u001b[0mkwargs\u001b[0m\u001b[1;33m)\u001b[0m \u001b[1;32mfor\u001b[0m \u001b[0mfunc\u001b[0m\u001b[1;33m,\u001b[0m \u001b[0margs\u001b[0m\u001b[1;33m,\u001b[0m \u001b[0mkwargs\u001b[0m \u001b[1;32min\u001b[0m \u001b[0mself\u001b[0m\u001b[1;33m.\u001b[0m\u001b[0mitems\u001b[0m\u001b[1;33m]\u001b[0m\u001b[1;33m\u001b[0m\u001b[0m\n\u001b[0m\u001b[1;32m    132\u001b[0m \u001b[1;33m\u001b[0m\u001b[0m\n\u001b[1;32m    133\u001b[0m     \u001b[1;32mdef\u001b[0m \u001b[0m__len__\u001b[0m\u001b[1;33m(\u001b[0m\u001b[0mself\u001b[0m\u001b[1;33m)\u001b[0m\u001b[1;33m:\u001b[0m\u001b[1;33m\u001b[0m\u001b[0m\n",
      "\u001b[0;32mC:\\Programs\\Anaconda\\lib\\site-packages\\sklearn\\model_selection\\_validation.py\u001b[0m in \u001b[0;36m_fit_and_score\u001b[0;34m(estimator, X, y, scorer, train, test, verbose, parameters, fit_params, return_train_score, return_parameters, return_n_test_samples, return_times, error_score)\u001b[0m\n\u001b[1;32m    435\u001b[0m             \u001b[0mestimator\u001b[0m\u001b[1;33m.\u001b[0m\u001b[0mfit\u001b[0m\u001b[1;33m(\u001b[0m\u001b[0mX_train\u001b[0m\u001b[1;33m,\u001b[0m \u001b[1;33m**\u001b[0m\u001b[0mfit_params\u001b[0m\u001b[1;33m)\u001b[0m\u001b[1;33m\u001b[0m\u001b[0m\n\u001b[1;32m    436\u001b[0m         \u001b[1;32melse\u001b[0m\u001b[1;33m:\u001b[0m\u001b[1;33m\u001b[0m\u001b[0m\n\u001b[0;32m--> 437\u001b[0;31m             \u001b[0mestimator\u001b[0m\u001b[1;33m.\u001b[0m\u001b[0mfit\u001b[0m\u001b[1;33m(\u001b[0m\u001b[0mX_train\u001b[0m\u001b[1;33m,\u001b[0m \u001b[0my_train\u001b[0m\u001b[1;33m,\u001b[0m \u001b[1;33m**\u001b[0m\u001b[0mfit_params\u001b[0m\u001b[1;33m)\u001b[0m\u001b[1;33m\u001b[0m\u001b[0m\n\u001b[0m\u001b[1;32m    438\u001b[0m \u001b[1;33m\u001b[0m\u001b[0m\n\u001b[1;32m    439\u001b[0m     \u001b[1;32mexcept\u001b[0m \u001b[0mException\u001b[0m \u001b[1;32mas\u001b[0m \u001b[0me\u001b[0m\u001b[1;33m:\u001b[0m\u001b[1;33m\u001b[0m\u001b[0m\n",
      "\u001b[0;32mC:\\Programs\\Anaconda\\lib\\site-packages\\sklearn\\pipeline.py\u001b[0m in \u001b[0;36mfit\u001b[0;34m(self, X, y, **fit_params)\u001b[0m\n\u001b[1;32m    255\u001b[0m             \u001b[0mThis\u001b[0m \u001b[0mestimator\u001b[0m\u001b[1;33m\u001b[0m\u001b[0m\n\u001b[1;32m    256\u001b[0m         \"\"\"\n\u001b[0;32m--> 257\u001b[0;31m         \u001b[0mXt\u001b[0m\u001b[1;33m,\u001b[0m \u001b[0mfit_params\u001b[0m \u001b[1;33m=\u001b[0m \u001b[0mself\u001b[0m\u001b[1;33m.\u001b[0m\u001b[0m_fit\u001b[0m\u001b[1;33m(\u001b[0m\u001b[0mX\u001b[0m\u001b[1;33m,\u001b[0m \u001b[0my\u001b[0m\u001b[1;33m,\u001b[0m \u001b[1;33m**\u001b[0m\u001b[0mfit_params\u001b[0m\u001b[1;33m)\u001b[0m\u001b[1;33m\u001b[0m\u001b[0m\n\u001b[0m\u001b[1;32m    258\u001b[0m         \u001b[1;32mif\u001b[0m \u001b[0mself\u001b[0m\u001b[1;33m.\u001b[0m\u001b[0m_final_estimator\u001b[0m \u001b[1;32mis\u001b[0m \u001b[1;32mnot\u001b[0m \u001b[1;32mNone\u001b[0m\u001b[1;33m:\u001b[0m\u001b[1;33m\u001b[0m\u001b[0m\n\u001b[1;32m    259\u001b[0m             \u001b[0mself\u001b[0m\u001b[1;33m.\u001b[0m\u001b[0m_final_estimator\u001b[0m\u001b[1;33m.\u001b[0m\u001b[0mfit\u001b[0m\u001b[1;33m(\u001b[0m\u001b[0mXt\u001b[0m\u001b[1;33m,\u001b[0m \u001b[0my\u001b[0m\u001b[1;33m,\u001b[0m \u001b[1;33m**\u001b[0m\u001b[0mfit_params\u001b[0m\u001b[1;33m)\u001b[0m\u001b[1;33m\u001b[0m\u001b[0m\n",
      "\u001b[0;32mC:\\Programs\\Anaconda\\lib\\site-packages\\sklearn\\pipeline.py\u001b[0m in \u001b[0;36m_fit\u001b[0;34m(self, X, y, **fit_params)\u001b[0m\n\u001b[1;32m    220\u001b[0m                 Xt, fitted_transformer = fit_transform_one_cached(\n\u001b[1;32m    221\u001b[0m                     \u001b[0mcloned_transformer\u001b[0m\u001b[1;33m,\u001b[0m \u001b[1;32mNone\u001b[0m\u001b[1;33m,\u001b[0m \u001b[0mXt\u001b[0m\u001b[1;33m,\u001b[0m \u001b[0my\u001b[0m\u001b[1;33m,\u001b[0m\u001b[1;33m\u001b[0m\u001b[0m\n\u001b[0;32m--> 222\u001b[0;31m                     **fit_params_steps[name])\n\u001b[0m\u001b[1;32m    223\u001b[0m                 \u001b[1;31m# Replace the transformer of the step with the fitted\u001b[0m\u001b[1;33m\u001b[0m\u001b[1;33m\u001b[0m\u001b[0m\n\u001b[1;32m    224\u001b[0m                 \u001b[1;31m# transformer. This is necessary when loading the transformer\u001b[0m\u001b[1;33m\u001b[0m\u001b[1;33m\u001b[0m\u001b[0m\n",
      "\u001b[0;32mC:\\Programs\\Anaconda\\lib\\site-packages\\sklearn\\externals\\joblib\\memory.py\u001b[0m in \u001b[0;36m__call__\u001b[0;34m(self, *args, **kwargs)\u001b[0m\n\u001b[1;32m    360\u001b[0m \u001b[1;33m\u001b[0m\u001b[0m\n\u001b[1;32m    361\u001b[0m     \u001b[1;32mdef\u001b[0m \u001b[0m__call__\u001b[0m\u001b[1;33m(\u001b[0m\u001b[0mself\u001b[0m\u001b[1;33m,\u001b[0m \u001b[1;33m*\u001b[0m\u001b[0margs\u001b[0m\u001b[1;33m,\u001b[0m \u001b[1;33m**\u001b[0m\u001b[0mkwargs\u001b[0m\u001b[1;33m)\u001b[0m\u001b[1;33m:\u001b[0m\u001b[1;33m\u001b[0m\u001b[0m\n\u001b[0;32m--> 362\u001b[0;31m         \u001b[1;32mreturn\u001b[0m \u001b[0mself\u001b[0m\u001b[1;33m.\u001b[0m\u001b[0mfunc\u001b[0m\u001b[1;33m(\u001b[0m\u001b[1;33m*\u001b[0m\u001b[0margs\u001b[0m\u001b[1;33m,\u001b[0m \u001b[1;33m**\u001b[0m\u001b[0mkwargs\u001b[0m\u001b[1;33m)\u001b[0m\u001b[1;33m\u001b[0m\u001b[0m\n\u001b[0m\u001b[1;32m    363\u001b[0m \u001b[1;33m\u001b[0m\u001b[0m\n\u001b[1;32m    364\u001b[0m     \u001b[1;32mdef\u001b[0m \u001b[0mcall_and_shelve\u001b[0m\u001b[1;33m(\u001b[0m\u001b[0mself\u001b[0m\u001b[1;33m,\u001b[0m \u001b[1;33m*\u001b[0m\u001b[0margs\u001b[0m\u001b[1;33m,\u001b[0m \u001b[1;33m**\u001b[0m\u001b[0mkwargs\u001b[0m\u001b[1;33m)\u001b[0m\u001b[1;33m:\u001b[0m\u001b[1;33m\u001b[0m\u001b[0m\n",
      "\u001b[0;32mC:\\Programs\\Anaconda\\lib\\site-packages\\sklearn\\pipeline.py\u001b[0m in \u001b[0;36m_fit_transform_one\u001b[0;34m(transformer, weight, X, y, **fit_params)\u001b[0m\n\u001b[1;32m    587\u001b[0m                        **fit_params):\n\u001b[1;32m    588\u001b[0m     \u001b[1;32mif\u001b[0m \u001b[0mhasattr\u001b[0m\u001b[1;33m(\u001b[0m\u001b[0mtransformer\u001b[0m\u001b[1;33m,\u001b[0m \u001b[1;34m'fit_transform'\u001b[0m\u001b[1;33m)\u001b[0m\u001b[1;33m:\u001b[0m\u001b[1;33m\u001b[0m\u001b[0m\n\u001b[0;32m--> 589\u001b[0;31m         \u001b[0mres\u001b[0m \u001b[1;33m=\u001b[0m \u001b[0mtransformer\u001b[0m\u001b[1;33m.\u001b[0m\u001b[0mfit_transform\u001b[0m\u001b[1;33m(\u001b[0m\u001b[0mX\u001b[0m\u001b[1;33m,\u001b[0m \u001b[0my\u001b[0m\u001b[1;33m,\u001b[0m \u001b[1;33m**\u001b[0m\u001b[0mfit_params\u001b[0m\u001b[1;33m)\u001b[0m\u001b[1;33m\u001b[0m\u001b[0m\n\u001b[0m\u001b[1;32m    590\u001b[0m     \u001b[1;32melse\u001b[0m\u001b[1;33m:\u001b[0m\u001b[1;33m\u001b[0m\u001b[0m\n\u001b[1;32m    591\u001b[0m         \u001b[0mres\u001b[0m \u001b[1;33m=\u001b[0m \u001b[0mtransformer\u001b[0m\u001b[1;33m.\u001b[0m\u001b[0mfit\u001b[0m\u001b[1;33m(\u001b[0m\u001b[0mX\u001b[0m\u001b[1;33m,\u001b[0m \u001b[0my\u001b[0m\u001b[1;33m,\u001b[0m \u001b[1;33m**\u001b[0m\u001b[0mfit_params\u001b[0m\u001b[1;33m)\u001b[0m\u001b[1;33m.\u001b[0m\u001b[0mtransform\u001b[0m\u001b[1;33m(\u001b[0m\u001b[0mX\u001b[0m\u001b[1;33m)\u001b[0m\u001b[1;33m\u001b[0m\u001b[0m\n",
      "\u001b[0;32mC:\\Programs\\Anaconda\\lib\\site-packages\\sklearn\\base.py\u001b[0m in \u001b[0;36mfit_transform\u001b[0;34m(self, X, y, **fit_params)\u001b[0m\n\u001b[1;32m    519\u001b[0m         \u001b[1;32melse\u001b[0m\u001b[1;33m:\u001b[0m\u001b[1;33m\u001b[0m\u001b[0m\n\u001b[1;32m    520\u001b[0m             \u001b[1;31m# fit method of arity 2 (supervised transformation)\u001b[0m\u001b[1;33m\u001b[0m\u001b[1;33m\u001b[0m\u001b[0m\n\u001b[0;32m--> 521\u001b[0;31m             \u001b[1;32mreturn\u001b[0m \u001b[0mself\u001b[0m\u001b[1;33m.\u001b[0m\u001b[0mfit\u001b[0m\u001b[1;33m(\u001b[0m\u001b[0mX\u001b[0m\u001b[1;33m,\u001b[0m \u001b[0my\u001b[0m\u001b[1;33m,\u001b[0m \u001b[1;33m**\u001b[0m\u001b[0mfit_params\u001b[0m\u001b[1;33m)\u001b[0m\u001b[1;33m.\u001b[0m\u001b[0mtransform\u001b[0m\u001b[1;33m(\u001b[0m\u001b[0mX\u001b[0m\u001b[1;33m)\u001b[0m\u001b[1;33m\u001b[0m\u001b[0m\n\u001b[0m\u001b[1;32m    522\u001b[0m \u001b[1;33m\u001b[0m\u001b[0m\n\u001b[1;32m    523\u001b[0m \u001b[1;33m\u001b[0m\u001b[0m\n",
      "\u001b[0;32mC:\\Programs\\Anaconda\\lib\\site-packages\\sklearn\\preprocessing\\data.py\u001b[0m in \u001b[0;36mfit\u001b[0;34m(self, X, y)\u001b[0m\n\u001b[1;32m    306\u001b[0m         \u001b[1;31m# Reset internal state before fitting\u001b[0m\u001b[1;33m\u001b[0m\u001b[1;33m\u001b[0m\u001b[0m\n\u001b[1;32m    307\u001b[0m         \u001b[0mself\u001b[0m\u001b[1;33m.\u001b[0m\u001b[0m_reset\u001b[0m\u001b[1;33m(\u001b[0m\u001b[1;33m)\u001b[0m\u001b[1;33m\u001b[0m\u001b[0m\n\u001b[0;32m--> 308\u001b[0;31m         \u001b[1;32mreturn\u001b[0m \u001b[0mself\u001b[0m\u001b[1;33m.\u001b[0m\u001b[0mpartial_fit\u001b[0m\u001b[1;33m(\u001b[0m\u001b[0mX\u001b[0m\u001b[1;33m,\u001b[0m \u001b[0my\u001b[0m\u001b[1;33m)\u001b[0m\u001b[1;33m\u001b[0m\u001b[0m\n\u001b[0m\u001b[1;32m    309\u001b[0m \u001b[1;33m\u001b[0m\u001b[0m\n\u001b[1;32m    310\u001b[0m     \u001b[1;32mdef\u001b[0m \u001b[0mpartial_fit\u001b[0m\u001b[1;33m(\u001b[0m\u001b[0mself\u001b[0m\u001b[1;33m,\u001b[0m \u001b[0mX\u001b[0m\u001b[1;33m,\u001b[0m \u001b[0my\u001b[0m\u001b[1;33m=\u001b[0m\u001b[1;32mNone\u001b[0m\u001b[1;33m)\u001b[0m\u001b[1;33m:\u001b[0m\u001b[1;33m\u001b[0m\u001b[0m\n",
      "\u001b[0;32mC:\\Programs\\Anaconda\\lib\\site-packages\\sklearn\\preprocessing\\data.py\u001b[0m in \u001b[0;36mpartial_fit\u001b[0;34m(self, X, y)\u001b[0m\n\u001b[1;32m    332\u001b[0m \u001b[1;33m\u001b[0m\u001b[0m\n\u001b[1;32m    333\u001b[0m         X = check_array(X, copy=self.copy, warn_on_dtype=True,\n\u001b[0;32m--> 334\u001b[0;31m                         estimator=self, dtype=FLOAT_DTYPES)\n\u001b[0m\u001b[1;32m    335\u001b[0m \u001b[1;33m\u001b[0m\u001b[0m\n\u001b[1;32m    336\u001b[0m         \u001b[0mdata_min\u001b[0m \u001b[1;33m=\u001b[0m \u001b[0mnp\u001b[0m\u001b[1;33m.\u001b[0m\u001b[0mmin\u001b[0m\u001b[1;33m(\u001b[0m\u001b[0mX\u001b[0m\u001b[1;33m,\u001b[0m \u001b[0maxis\u001b[0m\u001b[1;33m=\u001b[0m\u001b[1;36m0\u001b[0m\u001b[1;33m)\u001b[0m\u001b[1;33m\u001b[0m\u001b[0m\n",
      "\u001b[0;32mC:\\Programs\\Anaconda\\lib\\site-packages\\sklearn\\utils\\validation.py\u001b[0m in \u001b[0;36mcheck_array\u001b[0;34m(array, accept_sparse, dtype, order, copy, force_all_finite, ensure_2d, allow_nd, ensure_min_samples, ensure_min_features, warn_on_dtype, estimator)\u001b[0m\n\u001b[1;32m    400\u001b[0m                                       force_all_finite)\n\u001b[1;32m    401\u001b[0m     \u001b[1;32melse\u001b[0m\u001b[1;33m:\u001b[0m\u001b[1;33m\u001b[0m\u001b[0m\n\u001b[0;32m--> 402\u001b[0;31m         \u001b[0marray\u001b[0m \u001b[1;33m=\u001b[0m \u001b[0mnp\u001b[0m\u001b[1;33m.\u001b[0m\u001b[0marray\u001b[0m\u001b[1;33m(\u001b[0m\u001b[0marray\u001b[0m\u001b[1;33m,\u001b[0m \u001b[0mdtype\u001b[0m\u001b[1;33m=\u001b[0m\u001b[0mdtype\u001b[0m\u001b[1;33m,\u001b[0m \u001b[0morder\u001b[0m\u001b[1;33m=\u001b[0m\u001b[0morder\u001b[0m\u001b[1;33m,\u001b[0m \u001b[0mcopy\u001b[0m\u001b[1;33m=\u001b[0m\u001b[0mcopy\u001b[0m\u001b[1;33m)\u001b[0m\u001b[1;33m\u001b[0m\u001b[0m\n\u001b[0m\u001b[1;32m    403\u001b[0m \u001b[1;33m\u001b[0m\u001b[0m\n\u001b[1;32m    404\u001b[0m         \u001b[1;32mif\u001b[0m \u001b[0mensure_2d\u001b[0m\u001b[1;33m:\u001b[0m\u001b[1;33m\u001b[0m\u001b[0m\n",
      "\u001b[0;31mValueError\u001b[0m: could not convert string to float: '1.4.6'"
     ]
    }
   ],
   "source": [
    "from sklearn.ensemble import RandomForestClassifier\n",
    "algo = make_pipeline(preprocessing.MinMaxScaler(), RandomForestClassifier(max_features=5, n_estimators=1000))\n",
    "scores = cross_val_score(algo, X_train, y_train, cv=5, scoring='f1')\n",
    "print(scores.mean())\n",
    "algo.fit(X_train,y_train)"
   ]
  },
  {
   "cell_type": "code",
   "execution_count": 321,
   "metadata": {
    "collapsed": false,
    "scrolled": true
   },
   "outputs": [
    {
     "name": "stdout",
     "output_type": "stream",
     "text": [
      "[ 0.  1.  1. ...,  1.  1.  1.]\n",
      "[[857 999]\n",
      " [ 73 147]]\n",
      "             precision    recall  f1-score   support\n",
      "\n",
      "          0       0.92      0.46      0.62      1856\n",
      "          1       0.13      0.67      0.22       220\n",
      "\n",
      "avg / total       0.84      0.48      0.57      2076\n",
      "\n",
      "0.215\n"
     ]
    }
   ],
   "source": [
    "res_val = algo.predict_proba(X_val)\n",
    "res_val = res_val[:,-1]\n",
    "forest_cut_off = 0.48\n",
    "res_val[res_val>forest_cut_off] = 1\n",
    "res_val[res_val!=1] = 0\n",
    "print(res_val)\n",
    "cm = metrics.confusion_matrix(y_val, res_val)\n",
    "print(cm)\n",
    "print(classification_report(y_pred=res_val,y_true=y_val))\n",
    "print(np.round(f1_score(y_pred=res_val,y_true=y_val),3))"
   ]
  },
  {
   "cell_type": "code",
   "execution_count": 328,
   "metadata": {
    "collapsed": false
   },
   "outputs": [
    {
     "name": "stdout",
     "output_type": "stream",
     "text": [
      "[[ 0.          0.          2.         ...,  0.06765534  0.04873468\n",
      "   0.07578861]\n",
      " [ 0.          0.          1.         ...,  0.08793944  0.11720457\n",
      "   0.10983667]\n",
      " [ 1.          0.          0.         ...,  0.06765534  0.11720457\n",
      "   0.10983667]\n",
      " ..., \n",
      " [ 0.          0.          0.         ...,  0.09984046  0.05903226\n",
      "   0.14614122]\n",
      " [ 2.          0.          0.         ...,  0.15423471  0.10117     0.10983667]\n",
      " [ 0.          0.          0.         ...,  0.06765534  0.11720457\n",
      "   0.10983667]]\n"
     ]
    }
   ],
   "source": [
    "print(X_val)"
   ]
  },
  {
   "cell_type": "markdown",
   "metadata": {},
   "source": [
    "## got result report"
   ]
  },
  {
   "cell_type": "code",
   "execution_count": null,
   "metadata": {
    "collapsed": false
   },
   "outputs": [],
   "source": [
    "#algo=tree.DecisionTreeClassifier(criterion='entropy',max_depth = 8)\n",
    "scaler = preprocessing.MinMaxScaler().fit(X_train)\n",
    "X_train_scaled = scaler.transform(X_train)\n",
    "algo  = svm.LinearSVC(class_weight='balanced')\n",
    "train = algo.fit(X_train_scaled, y_train)\n",
    "X_val_scaled = scaler.transform(X_val)\n",
    "res_train=train.predict(X_train_scaled)\n",
    "res=train.predict(X_val_scaled)\n",
    "print(res)"
   ]
  },
  {
   "cell_type": "code",
   "execution_count": null,
   "metadata": {
    "collapsed": false
   },
   "outputs": [],
   "source": [
    "#Let's check the confusion matrix:\n",
    "cm = metrics.confusion_matrix(y_train, res_train)\n",
    "print(cm)\n",
    "print(classification_report(y_pred=res_train,y_true=y_train))\n",
    "# print only f1 score for positive\n",
    "print(np.round(f1_score(y_pred=res_train,y_true=y_train),3))"
   ]
  },
  {
   "cell_type": "code",
   "execution_count": null,
   "metadata": {
    "collapsed": false,
    "scrolled": false
   },
   "outputs": [],
   "source": [
    "#Let's check the confusion matrix:\n",
    "cm = metrics.confusion_matrix(y_val, res)\n",
    "print(cm)\n",
    "print(classification_report(y_pred=res,y_true=y_val))\n",
    "# print only f1 score for positive\n",
    "print(np.round(f1_score(y_pred=res,y_true=y_val),3))"
   ]
  },
  {
   "cell_type": "code",
   "execution_count": null,
   "metadata": {
    "collapsed": false
   },
   "outputs": [],
   "source": [
    "df_usage_test = pd.read_csv(\"test_usage_data.csv\")\n",
    "df_usage_test.head()"
   ]
  },
  {
   "cell_type": "code",
   "execution_count": 316,
   "metadata": {
    "collapsed": false
   },
   "outputs": [
    {
     "name": "stdout",
     "output_type": "stream",
     "text": [
      "(67182, 5)\n",
      "(1732, 7)\n",
      "Index(['id', 'feature_name', 'usage_duration', 'end_use_date', 'accepted',\n",
      "       'installation_date', 'subscripiton_date', 'country',\n",
      "       'initial_app_version', 'initial_ios_version', 'initial_device'],\n",
      "      dtype='object')\n",
      "2018-04-01 00:07:41\n",
      "2018-05-07 07:32:10\n",
      "(1732, 60)\n"
     ]
    },
    {
     "data": {
      "text/html": [
       "<div>\n",
       "<style scoped>\n",
       "    .dataframe tbody tr th:only-of-type {\n",
       "        vertical-align: middle;\n",
       "    }\n",
       "\n",
       "    .dataframe tbody tr th {\n",
       "        vertical-align: top;\n",
       "    }\n",
       "\n",
       "    .dataframe thead th {\n",
       "        text-align: right;\n",
       "    }\n",
       "</style>\n",
       "<table border=\"1\" class=\"dataframe\">\n",
       "  <thead>\n",
       "    <tr style=\"text-align: right;\">\n",
       "      <th></th>\n",
       "      <th>Adjust</th>\n",
       "      <th>Backdrop</th>\n",
       "      <th>Crop</th>\n",
       "      <th>Darkroom</th>\n",
       "      <th>Defocus</th>\n",
       "      <th>Eyes</th>\n",
       "      <th>Face</th>\n",
       "      <th>Filters</th>\n",
       "      <th>Light FX</th>\n",
       "      <th>Paint</th>\n",
       "      <th>...</th>\n",
       "      <th>Vignette_mean_acceptance</th>\n",
       "      <th>days_installed</th>\n",
       "      <th>days_installed_not_subscribed</th>\n",
       "      <th>days_since_last_use</th>\n",
       "      <th>days_used</th>\n",
       "      <th>accepted</th>\n",
       "      <th>country</th>\n",
       "      <th>initial_device</th>\n",
       "      <th>initial_ios_version</th>\n",
       "      <th>initial_app_version</th>\n",
       "    </tr>\n",
       "    <tr>\n",
       "      <th>id</th>\n",
       "      <th></th>\n",
       "      <th></th>\n",
       "      <th></th>\n",
       "      <th></th>\n",
       "      <th></th>\n",
       "      <th></th>\n",
       "      <th></th>\n",
       "      <th></th>\n",
       "      <th></th>\n",
       "      <th></th>\n",
       "      <th></th>\n",
       "      <th></th>\n",
       "      <th></th>\n",
       "      <th></th>\n",
       "      <th></th>\n",
       "      <th></th>\n",
       "      <th></th>\n",
       "      <th></th>\n",
       "      <th></th>\n",
       "      <th></th>\n",
       "      <th></th>\n",
       "    </tr>\n",
       "  </thead>\n",
       "  <tbody>\n",
       "    <tr>\n",
       "      <th>20000443101915</th>\n",
       "      <td>0</td>\n",
       "      <td>0</td>\n",
       "      <td>1</td>\n",
       "      <td>0</td>\n",
       "      <td>0</td>\n",
       "      <td>0</td>\n",
       "      <td>0</td>\n",
       "      <td>0</td>\n",
       "      <td>0</td>\n",
       "      <td>0</td>\n",
       "      <td>...</td>\n",
       "      <td>1.0</td>\n",
       "      <td>36</td>\n",
       "      <td>0</td>\n",
       "      <td>36</td>\n",
       "      <td>0</td>\n",
       "      <td>0.666667</td>\n",
       "      <td>United States</td>\n",
       "      <td>UIDeviceKindIPhone8Plus</td>\n",
       "      <td>11.2.5</td>\n",
       "      <td>1.9.5</td>\n",
       "    </tr>\n",
       "    <tr>\n",
       "      <th>20000443131865</th>\n",
       "      <td>3</td>\n",
       "      <td>0</td>\n",
       "      <td>5</td>\n",
       "      <td>1</td>\n",
       "      <td>0</td>\n",
       "      <td>0</td>\n",
       "      <td>2</td>\n",
       "      <td>0</td>\n",
       "      <td>5</td>\n",
       "      <td>1</td>\n",
       "      <td>...</td>\n",
       "      <td>0.8</td>\n",
       "      <td>104</td>\n",
       "      <td>67</td>\n",
       "      <td>30</td>\n",
       "      <td>5</td>\n",
       "      <td>0.620690</td>\n",
       "      <td>United States</td>\n",
       "      <td>UIDeviceKindIPhone6</td>\n",
       "      <td>11.2.6</td>\n",
       "      <td>1.9.5</td>\n",
       "    </tr>\n",
       "    <tr>\n",
       "      <th>20000443456112</th>\n",
       "      <td>1</td>\n",
       "      <td>0</td>\n",
       "      <td>2</td>\n",
       "      <td>0</td>\n",
       "      <td>1</td>\n",
       "      <td>1</td>\n",
       "      <td>0</td>\n",
       "      <td>0</td>\n",
       "      <td>7</td>\n",
       "      <td>0</td>\n",
       "      <td>...</td>\n",
       "      <td>0.0</td>\n",
       "      <td>35</td>\n",
       "      <td>0</td>\n",
       "      <td>32</td>\n",
       "      <td>2</td>\n",
       "      <td>0.473684</td>\n",
       "      <td>United States</td>\n",
       "      <td>UIDeviceKindIPhone6S</td>\n",
       "      <td>11.2.6</td>\n",
       "      <td>1.9.5</td>\n",
       "    </tr>\n",
       "    <tr>\n",
       "      <th>20000443941413</th>\n",
       "      <td>2</td>\n",
       "      <td>1</td>\n",
       "      <td>0</td>\n",
       "      <td>2</td>\n",
       "      <td>0</td>\n",
       "      <td>0</td>\n",
       "      <td>1</td>\n",
       "      <td>0</td>\n",
       "      <td>3</td>\n",
       "      <td>2</td>\n",
       "      <td>...</td>\n",
       "      <td>1.0</td>\n",
       "      <td>342</td>\n",
       "      <td>308</td>\n",
       "      <td>33</td>\n",
       "      <td>2</td>\n",
       "      <td>0.600000</td>\n",
       "      <td>United States</td>\n",
       "      <td>UIDeviceKindIPhone6S</td>\n",
       "      <td>10.3.2</td>\n",
       "      <td>1.9.2</td>\n",
       "    </tr>\n",
       "    <tr>\n",
       "      <th>20000444040099</th>\n",
       "      <td>0</td>\n",
       "      <td>0</td>\n",
       "      <td>0</td>\n",
       "      <td>4</td>\n",
       "      <td>0</td>\n",
       "      <td>0</td>\n",
       "      <td>0</td>\n",
       "      <td>0</td>\n",
       "      <td>3</td>\n",
       "      <td>0</td>\n",
       "      <td>...</td>\n",
       "      <td>1.0</td>\n",
       "      <td>182</td>\n",
       "      <td>149</td>\n",
       "      <td>31</td>\n",
       "      <td>4</td>\n",
       "      <td>0.500000</td>\n",
       "      <td>United States</td>\n",
       "      <td>UIDeviceKindIPhone8</td>\n",
       "      <td>11.0</td>\n",
       "      <td>1.7</td>\n",
       "    </tr>\n",
       "  </tbody>\n",
       "</table>\n",
       "<p>5 rows × 60 columns</p>\n",
       "</div>"
      ],
      "text/plain": [
       "                Adjust  Backdrop  Crop  Darkroom  Defocus  Eyes  Face  \\\n",
       "id                                                                      \n",
       "20000443101915       0         0     1         0        0     0     0   \n",
       "20000443131865       3         0     5         1        0     0     2   \n",
       "20000443456112       1         0     2         0        1     1     0   \n",
       "20000443941413       2         1     0         2        0     0     1   \n",
       "20000444040099       0         0     0         4        0     0     0   \n",
       "\n",
       "                Filters  Light FX  Paint         ...           \\\n",
       "id                                               ...            \n",
       "20000443101915        0         0      0         ...            \n",
       "20000443131865        0         5      1         ...            \n",
       "20000443456112        0         7      0         ...            \n",
       "20000443941413        0         3      2         ...            \n",
       "20000444040099        0         3      0         ...            \n",
       "\n",
       "                Vignette_mean_acceptance  days_installed  \\\n",
       "id                                                         \n",
       "20000443101915                       1.0              36   \n",
       "20000443131865                       0.8             104   \n",
       "20000443456112                       0.0              35   \n",
       "20000443941413                       1.0             342   \n",
       "20000444040099                       1.0             182   \n",
       "\n",
       "                days_installed_not_subscribed  days_since_last_use  days_used  \\\n",
       "id                                                                              \n",
       "20000443101915                              0                   36          0   \n",
       "20000443131865                             67                   30          5   \n",
       "20000443456112                              0                   32          2   \n",
       "20000443941413                            308                   33          2   \n",
       "20000444040099                            149                   31          4   \n",
       "\n",
       "                accepted        country           initial_device  \\\n",
       "id                                                                 \n",
       "20000443101915  0.666667  United States  UIDeviceKindIPhone8Plus   \n",
       "20000443131865  0.620690  United States      UIDeviceKindIPhone6   \n",
       "20000443456112  0.473684  United States     UIDeviceKindIPhone6S   \n",
       "20000443941413  0.600000  United States     UIDeviceKindIPhone6S   \n",
       "20000444040099  0.500000  United States      UIDeviceKindIPhone8   \n",
       "\n",
       "                initial_ios_version  initial_app_version  \n",
       "id                                                        \n",
       "20000443101915               11.2.5                1.9.5  \n",
       "20000443131865               11.2.6                1.9.5  \n",
       "20000443456112               11.2.6                1.9.5  \n",
       "20000443941413               10.3.2                1.9.2  \n",
       "20000444040099                 11.0                  1.7  \n",
       "\n",
       "[5 rows x 60 columns]"
      ]
     },
     "execution_count": 316,
     "metadata": {},
     "output_type": "execute_result"
    }
   ],
   "source": [
    "#test your predictor:\n",
    "\n",
    "#1.Prepare your test-set (in case you created new features/transformed the input data):\n",
    "df_usage_test = pd.read_csv(\"test_usage_data.csv\")\n",
    "df_users_test = pd.read_csv(path + \"test_users_data.csv\",parse_dates = [ 'installation_date','subscripiton_date'])\n",
    "df_users_test = df_users_test.drop(columns='Unnamed: 0')\n",
    "print(df_usage_test.shape)\n",
    "print(df_users_test.shape)\n",
    "joined_df_test = df_usage_test.join(df_users_test.set_index('id'),on='id')\n",
    "print(joined_df_test.columns)\n",
    "\n",
    "total_test_features = create_features(joined_df_test)\n",
    "total_test_features.head()\n"
   ]
  },
  {
   "cell_type": "code",
   "execution_count": 326,
   "metadata": {
    "collapsed": false
   },
   "outputs": [
    {
     "name": "stdout",
     "output_type": "stream",
     "text": [
      "[[0 0 1 ..., 'UIDeviceKindIPhone8Plus' '11.2.5' '1.9.5']\n",
      " [3 0 5 ..., 'UIDeviceKindIPhone6' '11.2.6' '1.9.5']\n",
      " [1 0 2 ..., 'UIDeviceKindIPhone6S' '11.2.6' '1.9.5']\n",
      " ..., \n",
      " [4 3 7 ..., 'UIDeviceKindIPhone7' '11.3.1' '1.9.6']\n",
      " [3 2 1 ..., 'UIDeviceKindIPhone8Plus' '11.2.5' '1.9.6']\n",
      " [2 0 0 ..., 'UIDeviceKindIPhoneX' '11.1.2' '1.9.6']]\n"
     ]
    }
   ],
   "source": [
    "\n",
    "X_test = total_test_features.values\n",
    "print(X_test)"
   ]
  },
  {
   "cell_type": "code",
   "execution_count": 320,
   "metadata": {
    "collapsed": false
   },
   "outputs": [
    {
     "data": {
      "text/plain": [
       "(1732, 60)"
      ]
     },
     "execution_count": 320,
     "metadata": {},
     "output_type": "execute_result"
    }
   ],
   "source": [
    "X_test.shape"
   ]
  },
  {
   "cell_type": "code",
   "execution_count": 327,
   "metadata": {
    "collapsed": false
   },
   "outputs": [
    {
     "ename": "ValueError",
     "evalue": "could not convert string to float: '1.9.6'",
     "output_type": "error",
     "traceback": [
      "\u001b[0;31m---------------------------------------------------------------------------\u001b[0m",
      "\u001b[0;31mValueError\u001b[0m                                Traceback (most recent call last)",
      "\u001b[0;32m<ipython-input-327-1cfee796bead>\u001b[0m in \u001b[0;36m<module>\u001b[0;34m()\u001b[0m\n\u001b[1;32m      1\u001b[0m \u001b[1;31m#submit result:\u001b[0m\u001b[1;33m\u001b[0m\u001b[1;33m\u001b[0m\u001b[0m\n\u001b[0;32m----> 2\u001b[0;31m \u001b[0mpred\u001b[0m \u001b[1;33m=\u001b[0m \u001b[0malgo\u001b[0m\u001b[1;33m.\u001b[0m\u001b[0mpredict_proba\u001b[0m\u001b[1;33m(\u001b[0m\u001b[0mX_test\u001b[0m\u001b[1;33m)\u001b[0m\u001b[1;33m\u001b[0m\u001b[0m\n\u001b[0m\u001b[1;32m      3\u001b[0m \u001b[0mpred\u001b[0m \u001b[1;33m=\u001b[0m \u001b[0mres_val\u001b[0m\u001b[1;33m[\u001b[0m\u001b[1;33m:\u001b[0m\u001b[1;33m,\u001b[0m\u001b[1;33m-\u001b[0m\u001b[1;36m1\u001b[0m\u001b[1;33m]\u001b[0m\u001b[1;33m\u001b[0m\u001b[0m\n\u001b[1;32m      4\u001b[0m \u001b[0mpred\u001b[0m\u001b[1;33m[\u001b[0m\u001b[0mpred\u001b[0m\u001b[1;33m>\u001b[0m\u001b[0mforest_cut_off\u001b[0m\u001b[1;33m]\u001b[0m \u001b[1;33m=\u001b[0m \u001b[1;36m1\u001b[0m\u001b[1;33m\u001b[0m\u001b[0m\n\u001b[1;32m      5\u001b[0m \u001b[0mpred\u001b[0m\u001b[1;33m[\u001b[0m\u001b[0mpred\u001b[0m\u001b[1;33m!=\u001b[0m\u001b[1;36m1\u001b[0m\u001b[1;33m]\u001b[0m \u001b[1;33m=\u001b[0m \u001b[1;36m0\u001b[0m\u001b[1;33m\u001b[0m\u001b[0m\n",
      "\u001b[0;32mC:\\Programs\\Anaconda\\lib\\site-packages\\sklearn\\utils\\metaestimators.py\u001b[0m in \u001b[0;36m<lambda>\u001b[0;34m(*args, **kwargs)\u001b[0m\n\u001b[1;32m    113\u001b[0m \u001b[1;33m\u001b[0m\u001b[0m\n\u001b[1;32m    114\u001b[0m         \u001b[1;31m# lambda, but not partial, allows help() to work with update_wrapper\u001b[0m\u001b[1;33m\u001b[0m\u001b[1;33m\u001b[0m\u001b[0m\n\u001b[0;32m--> 115\u001b[0;31m         \u001b[0mout\u001b[0m \u001b[1;33m=\u001b[0m \u001b[1;32mlambda\u001b[0m \u001b[1;33m*\u001b[0m\u001b[0margs\u001b[0m\u001b[1;33m,\u001b[0m \u001b[1;33m**\u001b[0m\u001b[0mkwargs\u001b[0m\u001b[1;33m:\u001b[0m \u001b[0mself\u001b[0m\u001b[1;33m.\u001b[0m\u001b[0mfn\u001b[0m\u001b[1;33m(\u001b[0m\u001b[0mobj\u001b[0m\u001b[1;33m,\u001b[0m \u001b[1;33m*\u001b[0m\u001b[0margs\u001b[0m\u001b[1;33m,\u001b[0m \u001b[1;33m**\u001b[0m\u001b[0mkwargs\u001b[0m\u001b[1;33m)\u001b[0m\u001b[1;33m\u001b[0m\u001b[0m\n\u001b[0m\u001b[1;32m    116\u001b[0m         \u001b[1;31m# update the docstring of the returned function\u001b[0m\u001b[1;33m\u001b[0m\u001b[1;33m\u001b[0m\u001b[0m\n\u001b[1;32m    117\u001b[0m         \u001b[0mupdate_wrapper\u001b[0m\u001b[1;33m(\u001b[0m\u001b[0mout\u001b[0m\u001b[1;33m,\u001b[0m \u001b[0mself\u001b[0m\u001b[1;33m.\u001b[0m\u001b[0mfn\u001b[0m\u001b[1;33m)\u001b[0m\u001b[1;33m\u001b[0m\u001b[0m\n",
      "\u001b[0;32mC:\\Programs\\Anaconda\\lib\\site-packages\\sklearn\\pipeline.py\u001b[0m in \u001b[0;36mpredict_proba\u001b[0;34m(self, X)\u001b[0m\n\u001b[1;32m    363\u001b[0m         \u001b[1;32mfor\u001b[0m \u001b[0mname\u001b[0m\u001b[1;33m,\u001b[0m \u001b[0mtransform\u001b[0m \u001b[1;32min\u001b[0m \u001b[0mself\u001b[0m\u001b[1;33m.\u001b[0m\u001b[0msteps\u001b[0m\u001b[1;33m[\u001b[0m\u001b[1;33m:\u001b[0m\u001b[1;33m-\u001b[0m\u001b[1;36m1\u001b[0m\u001b[1;33m]\u001b[0m\u001b[1;33m:\u001b[0m\u001b[1;33m\u001b[0m\u001b[0m\n\u001b[1;32m    364\u001b[0m             \u001b[1;32mif\u001b[0m \u001b[0mtransform\u001b[0m \u001b[1;32mis\u001b[0m \u001b[1;32mnot\u001b[0m \u001b[1;32mNone\u001b[0m\u001b[1;33m:\u001b[0m\u001b[1;33m\u001b[0m\u001b[0m\n\u001b[0;32m--> 365\u001b[0;31m                 \u001b[0mXt\u001b[0m \u001b[1;33m=\u001b[0m \u001b[0mtransform\u001b[0m\u001b[1;33m.\u001b[0m\u001b[0mtransform\u001b[0m\u001b[1;33m(\u001b[0m\u001b[0mXt\u001b[0m\u001b[1;33m)\u001b[0m\u001b[1;33m\u001b[0m\u001b[0m\n\u001b[0m\u001b[1;32m    366\u001b[0m         \u001b[1;32mreturn\u001b[0m \u001b[0mself\u001b[0m\u001b[1;33m.\u001b[0m\u001b[0msteps\u001b[0m\u001b[1;33m[\u001b[0m\u001b[1;33m-\u001b[0m\u001b[1;36m1\u001b[0m\u001b[1;33m]\u001b[0m\u001b[1;33m[\u001b[0m\u001b[1;33m-\u001b[0m\u001b[1;36m1\u001b[0m\u001b[1;33m]\u001b[0m\u001b[1;33m.\u001b[0m\u001b[0mpredict_proba\u001b[0m\u001b[1;33m(\u001b[0m\u001b[0mXt\u001b[0m\u001b[1;33m)\u001b[0m\u001b[1;33m\u001b[0m\u001b[0m\n\u001b[1;32m    367\u001b[0m \u001b[1;33m\u001b[0m\u001b[0m\n",
      "\u001b[0;32mC:\\Programs\\Anaconda\\lib\\site-packages\\sklearn\\preprocessing\\data.py\u001b[0m in \u001b[0;36mtransform\u001b[0;34m(self, X)\u001b[0m\n\u001b[1;32m    365\u001b[0m         \u001b[0mcheck_is_fitted\u001b[0m\u001b[1;33m(\u001b[0m\u001b[0mself\u001b[0m\u001b[1;33m,\u001b[0m \u001b[1;34m'scale_'\u001b[0m\u001b[1;33m)\u001b[0m\u001b[1;33m\u001b[0m\u001b[0m\n\u001b[1;32m    366\u001b[0m \u001b[1;33m\u001b[0m\u001b[0m\n\u001b[0;32m--> 367\u001b[0;31m         \u001b[0mX\u001b[0m \u001b[1;33m=\u001b[0m \u001b[0mcheck_array\u001b[0m\u001b[1;33m(\u001b[0m\u001b[0mX\u001b[0m\u001b[1;33m,\u001b[0m \u001b[0mcopy\u001b[0m\u001b[1;33m=\u001b[0m\u001b[0mself\u001b[0m\u001b[1;33m.\u001b[0m\u001b[0mcopy\u001b[0m\u001b[1;33m,\u001b[0m \u001b[0mdtype\u001b[0m\u001b[1;33m=\u001b[0m\u001b[0mFLOAT_DTYPES\u001b[0m\u001b[1;33m)\u001b[0m\u001b[1;33m\u001b[0m\u001b[0m\n\u001b[0m\u001b[1;32m    368\u001b[0m \u001b[1;33m\u001b[0m\u001b[0m\n\u001b[1;32m    369\u001b[0m         \u001b[0mX\u001b[0m \u001b[1;33m*=\u001b[0m \u001b[0mself\u001b[0m\u001b[1;33m.\u001b[0m\u001b[0mscale_\u001b[0m\u001b[1;33m\u001b[0m\u001b[0m\n",
      "\u001b[0;32mC:\\Programs\\Anaconda\\lib\\site-packages\\sklearn\\utils\\validation.py\u001b[0m in \u001b[0;36mcheck_array\u001b[0;34m(array, accept_sparse, dtype, order, copy, force_all_finite, ensure_2d, allow_nd, ensure_min_samples, ensure_min_features, warn_on_dtype, estimator)\u001b[0m\n\u001b[1;32m    400\u001b[0m                                       force_all_finite)\n\u001b[1;32m    401\u001b[0m     \u001b[1;32melse\u001b[0m\u001b[1;33m:\u001b[0m\u001b[1;33m\u001b[0m\u001b[0m\n\u001b[0;32m--> 402\u001b[0;31m         \u001b[0marray\u001b[0m \u001b[1;33m=\u001b[0m \u001b[0mnp\u001b[0m\u001b[1;33m.\u001b[0m\u001b[0marray\u001b[0m\u001b[1;33m(\u001b[0m\u001b[0marray\u001b[0m\u001b[1;33m,\u001b[0m \u001b[0mdtype\u001b[0m\u001b[1;33m=\u001b[0m\u001b[0mdtype\u001b[0m\u001b[1;33m,\u001b[0m \u001b[0morder\u001b[0m\u001b[1;33m=\u001b[0m\u001b[0morder\u001b[0m\u001b[1;33m,\u001b[0m \u001b[0mcopy\u001b[0m\u001b[1;33m=\u001b[0m\u001b[0mcopy\u001b[0m\u001b[1;33m)\u001b[0m\u001b[1;33m\u001b[0m\u001b[0m\n\u001b[0m\u001b[1;32m    403\u001b[0m \u001b[1;33m\u001b[0m\u001b[0m\n\u001b[1;32m    404\u001b[0m         \u001b[1;32mif\u001b[0m \u001b[0mensure_2d\u001b[0m\u001b[1;33m:\u001b[0m\u001b[1;33m\u001b[0m\u001b[0m\n",
      "\u001b[0;31mValueError\u001b[0m: could not convert string to float: '1.9.6'"
     ]
    }
   ],
   "source": [
    "#submit result:\n",
    "pred = algo.predict_proba(X_test)\n",
    "pred = res_val[:,-1]\n",
    "pred[pred>forest_cut_off] = 1\n",
    "pred[pred!=1] = 0\n",
    "df = pd.DataFrame(pred, index=total_test_features.index.astype(str), columns=['churned'], dtype=str)\n",
    "df.to_csv(out_name, header=True, quoting=csv.QUOTE_NONNUMERIC) "
   ]
  }
 ],
 "metadata": {
  "kernelspec": {
   "display_name": "Python 3",
   "language": "python",
   "name": "python3"
  },
  "language_info": {
   "codemirror_mode": {
    "name": "ipython",
    "version": 3
   },
   "file_extension": ".py",
   "mimetype": "text/x-python",
   "name": "python",
   "nbconvert_exporter": "python",
   "pygments_lexer": "ipython3",
   "version": "3.6.0"
  }
 },
 "nbformat": 4,
 "nbformat_minor": 2
}
